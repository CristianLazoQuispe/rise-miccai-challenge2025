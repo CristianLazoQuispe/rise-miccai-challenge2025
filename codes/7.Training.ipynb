{
 "cells": [
  {
   "cell_type": "code",
   "execution_count": 19,
   "id": "8bda179b",
   "metadata": {},
   "outputs": [],
   "source": [
    "import os, copy, time\n",
    "import numpy as np\n",
    "import pandas as pd\n",
    "import nibabel as nib\n",
    "from sklearn.model_selection import KFold\n",
    "\n",
    "import torch\n",
    "import torch.nn as nn\n",
    "from torch.cuda.amp import autocast, GradScaler\n",
    "from torch.utils.data import DataLoader\n",
    "\n",
    "from monai.data import Dataset, decollate_batch\n",
    "from monai.transforms import (\n",
    "    Compose, LoadImaged, EnsureChannelFirstd, Orientationd,\n",
    "    CropForegroundd, Spacingd, ScaleIntensityRanged, Resized,\n",
    "    RandFlipd, RandRotate90d, RandAffineD, RandBiasFieldd, RandGaussianNoised,\n",
    "    RandAdjustContrastd, EnsureTyped\n",
    ")\n",
    "from monai.inferers import sliding_window_inference\n",
    "from monai.networks.nets import UNet\n",
    "from monai.losses import DiceCELoss\n",
    "\n",
    "import tqdm\n",
    "\n",
    "import sys\n",
    "import os\n",
    "\n",
    "sys.path.append(\"../\")\n",
    "from src.models import get_model\n",
    "\n",
    "################################################################################\n",
    "# UTILIDADES PARA MÉTRICAS (scipy disponible en este entorno)\n",
    "################################################################################\n",
    "from scipy.spatial.distance import cdist\n",
    "def dice_score(pred, gt, cls):\n",
    "    \"\"\"\n",
    "    Dice para una clase específica.\n",
    "    pred, gt: arrays 3D de ints (0,1,2); cls: entero de clase.\n",
    "    Devuelve NaN si en GT no hay voxels de esa clase.\n",
    "    \"\"\"\n",
    "    pred_bin = (pred == cls)\n",
    "    gt_bin   = (gt == cls)\n",
    "    inter = np.logical_and(pred_bin, gt_bin).sum()\n",
    "    denom = pred_bin.sum() + gt_bin.sum()\n",
    "    if denom == 0:\n",
    "        return np.nan  # No voxels en ninguna => ignorar\n",
    "    return 2.0 * inter / denom\n",
    "\n",
    "def hausdorff_distance(pred, gt, cls, percentile=100):\n",
    "    \"\"\"\n",
    "    HD o HD95 (si percentile=95). pred y gt de shape (Z,H,W).\n",
    "    Si alguna máscara está vacía devuelve NaN.\n",
    "    \"\"\"\n",
    "    p = (pred == cls)\n",
    "    g = (gt   == cls)\n",
    "    if p.sum() == 0 or g.sum() == 0:\n",
    "        return np.nan\n",
    "    coords_p = np.argwhere(p)\n",
    "    coords_g = np.argwhere(g)\n",
    "    dists = cdist(coords_p, coords_g)\n",
    "    d_p_to_g = dists.min(axis=1)\n",
    "    d_g_to_p = dists.min(axis=0)\n",
    "    all_d = np.concatenate([d_p_to_g, d_g_to_p])\n",
    "    return np.percentile(all_d, percentile)\n",
    "\n",
    "def assd(pred, gt, cls):\n",
    "    \"\"\"\n",
    "    Average Symmetric Surface Distance (ASSD). \n",
    "    Calcula distancias entre voxels de superficie.\n",
    "    Devuelve NaN si alguna máscara vacía.\n",
    "    \"\"\"\n",
    "    p = (pred == cls)\n",
    "    g = (gt   == cls)\n",
    "    if p.sum() == 0 or g.sum() == 0:\n",
    "        return np.nan\n",
    "    coords_p = np.argwhere(p)\n",
    "    coords_g = np.argwhere(g)\n",
    "    dists = cdist(coords_p, coords_g)\n",
    "    d_p_to_g = dists.min(axis=1)\n",
    "    d_g_to_p = dists.min(axis=0)\n",
    "    return (d_p_to_g.mean() + d_g_to_p.mean()) / 2.0\n",
    "\n",
    "def rve(pred, gt, cls):\n",
    "    \"\"\"\n",
    "    Relative Volume Error: (Vol_pred - Vol_gt) / Vol_gt.\n",
    "    Devuelve NaN si Vol_gt=0.\n",
    "    \"\"\"\n",
    "    v_pred = (pred == cls).sum()\n",
    "    v_gt   = (gt   == cls).sum()\n",
    "    if v_gt == 0:\n",
    "        return np.nan\n",
    "    return (v_pred - v_gt) / v_gt\n",
    "\n",
    "################################################################################\n",
    "# TRANSFORMS\n",
    "################################################################################\n",
    "SPACING      = (1.0, 1.0, 1.0)\n",
    "SPATIAL_SIZE = (120, 120, 120)\n",
    "SPATIAL_SIZE = (96,96,96)\n",
    "\n",
    "def get_train_transforms():\n",
    "    return Compose([\n",
    "        LoadImaged(keys=[\"image\",\"label\"]),\n",
    "        EnsureChannelFirstd(keys=[\"image\",\"label\"]),\n",
    "        Orientationd(keys=[\"image\",\"label\"], axcodes=\"RAS\"),\n",
    "        CropForegroundd(keys=[\"image\",\"label\"], source_key=\"image\", allow_smaller=True),\n",
    "        Spacingd(keys=[\"image\",\"label\"], pixdim=SPACING, mode=(\"bilinear\",\"nearest\")),\n",
    "        ScaleIntensityRanged(keys=[\"image\"], a_min=0.0, a_max=15.0, b_min=0.0, b_max=1.0, clip=True),\n",
    "        Resized(keys=[\"image\",\"label\"], spatial_size=SPATIAL_SIZE, mode=(\"trilinear\",\"nearest\")),\n",
    "        # Ejemplo de augmentación: flips y rotaciones aleatorias\n",
    "        RandFlipd(keys=[\"image\",\"label\"], prob=0.5, spatial_axis=1),\n",
    "        RandFlipd(keys=[\"image\",\"label\"], prob=0.5, spatial_axis=2),\n",
    "        RandRotate90d(keys=[\"image\",\"label\"], prob=0.5, max_k=3),\n",
    "        RandAffineD(\n",
    "            keys=[\"image\",\"label\"], prob=0.5,\n",
    "            rotate_range=(0.4,0,0), translate_range=(0,20,20),\n",
    "            scale_range=(0.1,0.1,0.1), padding_mode=\"zeros\",\n",
    "            mode=(\"bilinear\",\"nearest\")\n",
    "        ),\n",
    "        RandBiasFieldd(keys=[\"image\"], prob=0.5, coeff_range=(0.0,0.05)),\n",
    "        RandGaussianNoised(keys=[\"image\"], prob=0.5, std=0.01),\n",
    "        RandAdjustContrastd(keys=[\"image\"], prob=0.5, gamma=(0.7,1.5)),\n",
    "        EnsureTyped(keys=[\"image\",\"label\"], track_meta=True),\n",
    "    ])\n",
    "\n",
    "def get_val_transforms():\n",
    "    return Compose([\n",
    "        LoadImaged(keys=[\"image\",\"label\"]),\n",
    "        EnsureChannelFirstd(keys=[\"image\",\"label\"]),\n",
    "        Orientationd(keys=[\"image\",\"label\"], axcodes=\"RAS\"),\n",
    "        CropForegroundd(keys=[\"image\",\"label\"], source_key=\"image\", allow_smaller=True),\n",
    "        Spacingd(keys=[\"image\",\"label\"], pixdim=SPACING, mode=(\"bilinear\",\"nearest\")),\n",
    "        ScaleIntensityRanged(keys=[\"image\"], a_min=0.0, a_max=15.0, b_min=0.0, b_max=1.0, clip=True),\n",
    "        Resized(keys=[\"image\",\"label\"], spatial_size=SPATIAL_SIZE, mode=(\"trilinear\",\"nearest\")),\n",
    "        EnsureTyped(keys=[\"image\",\"label\"], track_meta=True),\n",
    "    ])\n",
    "\n",
    "################################################################################\n",
    "# DATASET y DATALOADER\n",
    "################################################################################\n",
    "class MRIDataset3D(Dataset):\n",
    "    def __init__(self, df: pd.DataFrame, transform=None):\n",
    "        data = []\n",
    "        for _, r in df.iterrows():\n",
    "            item = {\"image\": r[\"filepath\"]}\n",
    "            if \"filepath_label\" in r and pd.notna(r[\"filepath_label\"]):\n",
    "                item[\"label\"] = r[\"filepath_label\"]\n",
    "            data.append(item)\n",
    "        super().__init__(data, transform=transform)\n",
    "\n",
    "################################################################################\n",
    "# MODELOS\n",
    "################################################################################\n",
    "def create_model(model_name=\"unet\"):\n",
    "    \"\"\"\n",
    "    Devuelve un modelo MONAI:\n",
    "      - 'unet'   → UNet 3D simple.\n",
    "      - 'unetr'  → Ejemplo transformer (necesita monai >= 1.0).\n",
    "    Añade aquí otras arquitecturas.\n",
    "    \"\"\"\n",
    "    if model_name.lower() == \"unet\":\n",
    "        return  UNet(\n",
    "            spatial_dims=3,\n",
    "            in_channels=1,\n",
    "            out_channels=3,       # binario\n",
    "            channels=(16, 32, 64, 128),\n",
    "            strides=(2, 2, 2),\n",
    "        )\n",
    "    elif model_name.lower() == \"unest\":\n",
    "        return get_model(name=model_name, num_classes=3, device=str(\"cuda\"))\n",
    "\n",
    "    else:\n",
    "        raise ValueError(f\"Modelo no soportado: {model_name}\")\n",
    "\n",
    "################################################################################\n",
    "# ENTRENAMIENTO CON 5 FOLDS\n",
    "################################################################################\n",
    "def train_and_evaluate(df: pd.DataFrame, num_folds=5, num_epochs=50, model_name=\"unet\",\n",
    "                       batch_size=1, lr=1e-4, weight_decay=1e-5, root_dir=\"./models\"):\n",
    "    device = torch.device(\"cuda\" if torch.cuda.is_available() else \"cpu\")\n",
    "    kf = KFold(n_splits=num_folds, shuffle=True, random_state=42)\n",
    "    results = []\n",
    "\n",
    "    for fold, (train_idx, val_idx) in enumerate(kf.split(df)):\n",
    "        print(f\"\\n===== Fold {fold+1}/{num_folds} =====\")\n",
    "        df_train_fold = df.iloc[train_idx].reset_index(drop=True)\n",
    "        df_val_fold   = df.iloc[val_idx].reset_index(drop=True)\n",
    "\n",
    "        train_ds = MRIDataset3D(df_train_fold, transform=get_train_transforms())\n",
    "        val_ds   = MRIDataset3D(df_val_fold,   transform=get_val_transforms())\n",
    "\n",
    "        train_loader = DataLoader(train_ds, batch_size=batch_size, shuffle=True, num_workers=4, pin_memory=True)\n",
    "        val_loader   = DataLoader(val_ds,   batch_size=1, shuffle=False, num_workers=2, pin_memory=True)\n",
    "\n",
    "        model = create_model(model_name).to(device)\n",
    "        loss_function = DiceCELoss(to_onehot_y=True, softmax=True)\n",
    "        optimizer = torch.optim.AdamW(model.parameters(), lr=lr, weight_decay=weight_decay)\n",
    "        scaler = GradScaler()\n",
    "\n",
    "        # para guardar el mejor modelo del fold\n",
    "        best_dice = 0.0\n",
    "        fold_dir = os.path.join(root_dir, f\"fold_{fold+1}\")\n",
    "        os.makedirs(fold_dir, exist_ok=True)\n",
    "\n",
    "        for epoch in range(num_epochs):\n",
    "            model.train()\n",
    "            epoch_loss = 0\n",
    "            pbar = tqdm.tqdm(train_loader, desc=f\"Train Fold {fold} Epoch {epoch}\", leave=False, dynamic_ncols=True)\n",
    "            #for batch in train_loader:\n",
    "            for batch in pbar:\n",
    "                x = batch[\"image\"].to(device)\n",
    "                y = batch[\"label\"].to(device)\n",
    "\n",
    "                optimizer.zero_grad()\n",
    "                with torch.cuda.amp.autocast(enabled=True):\n",
    "                    #print(\"x,y:\",x.shape, y.shape)  # Añadido para depuración\n",
    "                    logits = model(x)\n",
    "                    #print(\"logits:\",logits.shape)  # Añadido para depuración\n",
    "                    loss   = loss_function(logits, y)\n",
    "                scaler.scale(loss).backward()\n",
    "                scaler.step(optimizer)\n",
    "                scaler.update()\n",
    "\n",
    "                epoch_loss += loss.item()\n",
    "\n",
    "            epoch_loss /= len(train_loader)\n",
    "            print(f\"Epoch {epoch+1}/{num_epochs} - Loss: {epoch_loss:.4f}\")\n",
    "\n",
    "            # VALIDACIÓN\n",
    "            model.eval()\n",
    "            fold_metrics = {\"dice_L\": [], \"dice_R\": [], \"hd_L\": [], \"hd_R\": [],\n",
    "                            \"hd95_L\": [], \"hd95_R\": [], \"assd_L\": [], \"assd_R\": [],\n",
    "                            \"rve_L\": [], \"rve_R\": []}\n",
    "            with torch.no_grad():\n",
    "                for batch in val_loader:\n",
    "                    val_img = batch[\"image\"].to(device)\n",
    "                    val_lbl = batch[\"label\"].to(device)\n",
    "\n",
    "                    with torch.cuda.amp.autocast(enabled=True):\n",
    "                        logits = sliding_window_inference(val_img, SPATIAL_SIZE, 2, model)\n",
    "                    # pred -> (B, C, D,H,W); argmax -> (B,D,H,W)\n",
    "                    preds = torch.argmax(torch.softmax(logits, dim=1), dim=1)\n",
    "                    gts   = val_lbl.squeeze(1)\n",
    "\n",
    "                    preds_np = preds.cpu().numpy()\n",
    "                    gts_np   = gts.cpu().numpy()\n",
    "\n",
    "                    # computar métricas por batch (B==1 aquí)\n",
    "                    for p, g in zip(preds_np, gts_np):\n",
    "                        # clases: 1 = L, 2 = R\n",
    "                        for cls, key in [(1, \"L\"), (2, \"R\")]:\n",
    "                            dsc  = dice_score(p, g, cls)\n",
    "                            hd   = hausdorff_distance(p, g, cls, percentile=100)\n",
    "                            hd95 = hausdorff_distance(p, g, cls, percentile=95)\n",
    "                            dist = assd(p, g, cls)\n",
    "                            vol  = rve(p, g, cls)\n",
    "\n",
    "                            if not np.isnan(dsc):  fold_metrics[f\"dice_{key}\"].append(dsc)\n",
    "                            if not np.isnan(hd):   fold_metrics[f\"hd_{key}\"].append(hd)\n",
    "                            if not np.isnan(hd95): fold_metrics[f\"hd95_{key}\"].append(hd95)\n",
    "                            if not np.isnan(dist): fold_metrics[f\"assd_{key}\"].append(dist)\n",
    "                            if not np.isnan(vol):  fold_metrics[f\"rve_{key}\"].append(vol)\n",
    "\n",
    "            # promediamos métricas de este epoch\n",
    "            if len(fold_metrics[\"dice_L\"]) > 0:\n",
    "                dice_L   = np.mean(fold_metrics[\"dice_L\"])\n",
    "                dice_R   = np.mean(fold_metrics[\"dice_R\"])\n",
    "                dice_avg = (dice_L + dice_R) / 2.0\n",
    "\n",
    "                hd_L   = np.mean(fold_metrics[\"hd_L\"]) if len(fold_metrics[\"hd_L\"]) > 0 else np.nan\n",
    "                hd_R   = np.mean(fold_metrics[\"hd_R\"]) if len(fold_metrics[\"hd_R\"]) > 0 else np.nan\n",
    "                hd95_L = np.mean(fold_metrics[\"hd95_L\"]) if len(fold_metrics[\"hd95_L\"]) > 0 else np.nan\n",
    "                hd95_R = np.mean  (fold_metrics[\"hd95_R\"]) if len(fold_metrics[\"hd95_R\"]) > 0 else np.nan\n",
    "                assd_L = np.mean(fold_metrics[\"assd_L\"]) if len(fold_metrics[\"assd_L\"]) > 0 else np.nan \n",
    "                assd_R = np.mean(fold_metrics[\"assd_R\"]) if len(fold_metrics[\"assd_R\"]) > 0 else np.nan\n",
    "                rve_L  = np.mean(fold_metrics[\"rve_L\"]) if len(fold_metrics[\"rve_L\"]) > 0 else np.nan\n",
    "                rve_R  = np.mean(fold_metrics[\"rve_R\"]) if len(fold_metrics[\"rve_R\"]) > 0 else np.nan\n",
    "\n",
    "                print(f\"Val Dice L: {dice_L:.4f}  Dice R: {dice_R:.4f}  Dice Avg: {dice_avg:.4f}\" \n",
    "                      f\"  HD L: {hd_L:.4f}  HD R: {hd_R:.4f}  HD95 L: {hd95_L:.4f}  HD95 R: {hd95_R:.4f}\"\n",
    "                      f\"  ASSD L: {assd_L:.4f}  ASSD R: {assd_R:.4f}  RVE L: {rve_L:.4f}  RVE R: {rve_R:.4f}\")\n",
    "\n",
    "                # checkpoint: guarda si supera mejor dice promedio\n",
    "                if dice_avg > best_dice:\n",
    "                    best_dice = dice_avg\n",
    "                    torch.save(model.state_dict(), os.path.join(fold_dir, \"best_model.pth\"))\n",
    "                    print(f\"Nuevo mejor modelo guardado - Avg Dice: {best_dice:.4f}\")\n",
    "\n",
    "        # tras entrenamiento, evaluamos todo el fold (best checkpoint)\n",
    "        # cargamos mejor modelo\n",
    "        model.load_state_dict(torch.load(os.path.join(fold_dir, \"best_model.pth\")))\n",
    "        model.eval()\n",
    "        fold_results = {}\n",
    "        for key in [\"dice\", \"hd\", \"hd95\", \"assd\", \"rve\"]:\n",
    "            fold_results[key+\"_L\"] = []\n",
    "            fold_results[key+\"_R\"] = []\n",
    "\n",
    "        with torch.no_grad():\n",
    "            for batch in val_loader:\n",
    "                val_img = batch[\"image\"].to(device)\n",
    "                val_lbl = batch[\"label\"].to(device)\n",
    "                with torch.cuda.amp.autocast(enabled=True):\n",
    "                    logits = sliding_window_inference(val_img, SPATIAL_SIZE, 2, model)\n",
    "                preds = torch.argmax(torch.softmax(logits, dim=1), dim=1)\n",
    "                gts   = val_lbl.squeeze(1)\n",
    "                preds_np = preds.cpu().numpy()\n",
    "                gts_np   = gts.cpu().numpy()\n",
    "                for p, g in zip(preds_np, gts_np):\n",
    "                    for cls, key in [(1,\"L\"), (2,\"R\")]:\n",
    "                        fold_results[\"dice_\"+key].append(dice_score(p,g,cls))\n",
    "                        fold_results[\"hd_\"+key].append(hausdorff_distance(p,g,cls,100))\n",
    "                        fold_results[\"hd95_\"+key].append(hausdorff_distance(p,g,cls,95))\n",
    "                        fold_results[\"assd_\"+key].append(assd(p,g,cls))\n",
    "                        fold_results[\"rve_\"+key].append(rve(p,g,cls))\n",
    "\n",
    "        # resumimos fold\n",
    "        summary = {}\n",
    "        for metric in [\"dice\",\"hd\",\"hd95\",\"assd\",\"rve\"]:\n",
    "            for cls in [\"L\",\"R\"]:\n",
    "                vals = [v for v in fold_results[f\"{metric}_{cls}\"] if not np.isnan(v)]\n",
    "                summary[f\"{metric}_{cls}\"] = np.mean(vals) if len(vals)>0 else np.nan\n",
    "            # promedio sobre L y R\n",
    "            summary[f\"{metric}_Avg\"] = np.nanmean([summary[f\"{metric}_L\"], summary[f\"{metric}_R\"]])\n",
    "        print(\"Resumen métricas fold:\", summary)\n",
    "        results.append(summary)\n",
    "\n",
    "    # promediamos sobre folds\n",
    "    final = {}\n",
    "    for metric in [\"dice\",\"hd\",\"hd95\",\"assd\",\"rve\"]:\n",
    "        for key in [\"L\",\"R\",\"Avg\"]:\n",
    "            vals = [res[f\"{metric}_{key}\"] for res in results]\n",
    "            final[f\"{metric}_{key}\"] = np.nanmean(vals)\n",
    "    print(\"\\n=== Resultado final promedio de 5 folds ===\")\n",
    "    for metric in [\"dice\",\"hd\",\"hd95\",\"assd\",\"rve\"]:\n",
    "        print(f\"{metric.upper()}_L  : {final[metric+'_L']:.4f}\")\n",
    "        print(f\"{metric.upper()}_R  : {final[metric+'_R']:.4f}\")\n",
    "        print(f\"{metric.upper()}_Avg: {final[metric+'_Avg']:.4f}\\n\")\n",
    "\n",
    "    return final\n",
    "\n",
    "################################################################################\n",
    "# EJECUCIÓN PRINCIPAL\n",
    "################################################################################"
   ]
  },
  {
   "cell_type": "code",
   "execution_count": null,
   "id": "9074d160",
   "metadata": {},
   "outputs": [],
   "source": []
  },
  {
   "cell_type": "code",
   "execution_count": 20,
   "id": "4ff6e9c7",
   "metadata": {},
   "outputs": [
    {
     "data": {
      "text/html": [
       "<div>\n",
       "<style scoped>\n",
       "    .dataframe tbody tr th:only-of-type {\n",
       "        vertical-align: middle;\n",
       "    }\n",
       "\n",
       "    .dataframe tbody tr th {\n",
       "        vertical-align: top;\n",
       "    }\n",
       "\n",
       "    .dataframe thead th {\n",
       "        text-align: right;\n",
       "    }\n",
       "</style>\n",
       "<table border=\"1\" class=\"dataframe\">\n",
       "  <thead>\n",
       "    <tr style=\"text-align: right;\">\n",
       "      <th></th>\n",
       "      <th>filepath_label</th>\n",
       "      <th>filename_label</th>\n",
       "      <th>ID</th>\n",
       "      <th>source_label</th>\n",
       "      <th>filepath</th>\n",
       "    </tr>\n",
       "  </thead>\n",
       "  <tbody>\n",
       "    <tr>\n",
       "      <th>0</th>\n",
       "      <td>/data/cristian/projects/med_data/rise-miccai/t...</td>\n",
       "      <td>LISA_0001_HF_hipp.nii.gz</td>\n",
       "      <td>LISA_0001</td>\n",
       "      <td>HF_hipp</td>\n",
       "      <td>/data/cristian/projects/med_data/rise-miccai/t...</td>\n",
       "    </tr>\n",
       "    <tr>\n",
       "      <th>1</th>\n",
       "      <td>/data/cristian/projects/med_data/rise-miccai/t...</td>\n",
       "      <td>LISA_0005_HF_hipp.nii.gz</td>\n",
       "      <td>LISA_0005</td>\n",
       "      <td>HF_hipp</td>\n",
       "      <td>/data/cristian/projects/med_data/rise-miccai/t...</td>\n",
       "    </tr>\n",
       "    <tr>\n",
       "      <th>2</th>\n",
       "      <td>/data/cristian/projects/med_data/rise-miccai/t...</td>\n",
       "      <td>LISA_0002_HF_hipp.nii.gz</td>\n",
       "      <td>LISA_0002</td>\n",
       "      <td>HF_hipp</td>\n",
       "      <td>/data/cristian/projects/med_data/rise-miccai/t...</td>\n",
       "    </tr>\n",
       "    <tr>\n",
       "      <th>3</th>\n",
       "      <td>/data/cristian/projects/med_data/rise-miccai/t...</td>\n",
       "      <td>LISA_0010_HF_hipp.nii.gz</td>\n",
       "      <td>LISA_0010</td>\n",
       "      <td>HF_hipp</td>\n",
       "      <td>/data/cristian/projects/med_data/rise-miccai/t...</td>\n",
       "    </tr>\n",
       "    <tr>\n",
       "      <th>4</th>\n",
       "      <td>/data/cristian/projects/med_data/rise-miccai/t...</td>\n",
       "      <td>LISA_0003_HF_hipp.nii.gz</td>\n",
       "      <td>LISA_0003</td>\n",
       "      <td>HF_hipp</td>\n",
       "      <td>/data/cristian/projects/med_data/rise-miccai/t...</td>\n",
       "    </tr>\n",
       "  </tbody>\n",
       "</table>\n",
       "</div>"
      ],
      "text/plain": [
       "                                      filepath_label  \\\n",
       "0  /data/cristian/projects/med_data/rise-miccai/t...   \n",
       "1  /data/cristian/projects/med_data/rise-miccai/t...   \n",
       "2  /data/cristian/projects/med_data/rise-miccai/t...   \n",
       "3  /data/cristian/projects/med_data/rise-miccai/t...   \n",
       "4  /data/cristian/projects/med_data/rise-miccai/t...   \n",
       "\n",
       "             filename_label         ID source_label  \\\n",
       "0  LISA_0001_HF_hipp.nii.gz  LISA_0001      HF_hipp   \n",
       "1  LISA_0005_HF_hipp.nii.gz  LISA_0005      HF_hipp   \n",
       "2  LISA_0002_HF_hipp.nii.gz  LISA_0002      HF_hipp   \n",
       "3  LISA_0010_HF_hipp.nii.gz  LISA_0010      HF_hipp   \n",
       "4  LISA_0003_HF_hipp.nii.gz  LISA_0003      HF_hipp   \n",
       "\n",
       "                                            filepath  \n",
       "0  /data/cristian/projects/med_data/rise-miccai/t...  \n",
       "1  /data/cristian/projects/med_data/rise-miccai/t...  \n",
       "2  /data/cristian/projects/med_data/rise-miccai/t...  \n",
       "3  /data/cristian/projects/med_data/rise-miccai/t...  \n",
       "4  /data/cristian/projects/med_data/rise-miccai/t...  "
      ]
     },
     "execution_count": 20,
     "metadata": {},
     "output_type": "execute_result"
    }
   ],
   "source": [
    "# Carga tu CSV con rutas de imágenes y máscaras\n",
    "# Debe tener columnas: 'filepath' y 'filepath_label'\n",
    "csv_path = \"../results/preprocessed_data/task2/df_train_hipp.csv\"\n",
    "df = pd.read_csv(csv_path)\n",
    "df.head()"
   ]
  },
  {
   "cell_type": "code",
   "execution_count": 21,
   "id": "c9aca393",
   "metadata": {},
   "outputs": [
    {
     "name": "stdout",
     "output_type": "stream",
     "text": [
      "\n",
      "===== Fold 1/5 =====\n"
     ]
    },
    {
     "name": "stderr",
     "output_type": "stream",
     "text": [
      "                                                                       "
     ]
    },
    {
     "name": "stdout",
     "output_type": "stream",
     "text": [
      "Epoch 1/50 - Loss: 0.8004\n"
     ]
    },
    {
     "name": "stderr",
     "output_type": "stream",
     "text": [
      "\r"
     ]
    },
    {
     "name": "stdout",
     "output_type": "stream",
     "text": [
      "Val Dice L: 0.0000  Dice R: 0.0000  Dice Avg: 0.0000  HD L: nan  HD R: nan  HD95 L: nan  HD95 R: nan  ASSD L: nan  ASSD R: nan  RVE L: -1.0000  RVE R: -1.0000\n"
     ]
    },
    {
     "name": "stderr",
     "output_type": "stream",
     "text": [
      "                                                                       "
     ]
    },
    {
     "name": "stdout",
     "output_type": "stream",
     "text": [
      "Epoch 2/50 - Loss: 0.6816\n"
     ]
    },
    {
     "name": "stderr",
     "output_type": "stream",
     "text": [
      "\r"
     ]
    },
    {
     "name": "stdout",
     "output_type": "stream",
     "text": [
      "Val Dice L: 0.0000  Dice R: 0.0000  Dice Avg: 0.0000  HD L: nan  HD R: nan  HD95 L: nan  HD95 R: nan  ASSD L: nan  ASSD R: nan  RVE L: -1.0000  RVE R: -1.0000\n"
     ]
    },
    {
     "name": "stderr",
     "output_type": "stream",
     "text": [
      "                                                                       "
     ]
    },
    {
     "name": "stdout",
     "output_type": "stream",
     "text": [
      "Epoch 3/50 - Loss: 0.6757\n"
     ]
    },
    {
     "name": "stderr",
     "output_type": "stream",
     "text": [
      "\r"
     ]
    },
    {
     "name": "stdout",
     "output_type": "stream",
     "text": [
      "Val Dice L: 0.0000  Dice R: 0.0000  Dice Avg: 0.0000  HD L: nan  HD R: nan  HD95 L: nan  HD95 R: nan  ASSD L: nan  ASSD R: nan  RVE L: -1.0000  RVE R: -1.0000\n"
     ]
    },
    {
     "name": "stderr",
     "output_type": "stream",
     "text": [
      "                                                                       "
     ]
    },
    {
     "name": "stdout",
     "output_type": "stream",
     "text": [
      "Epoch 4/50 - Loss: 0.6695\n"
     ]
    },
    {
     "name": "stderr",
     "output_type": "stream",
     "text": [
      "\r"
     ]
    },
    {
     "name": "stdout",
     "output_type": "stream",
     "text": [
      "Val Dice L: 0.0000  Dice R: 0.2535  Dice Avg: 0.1267  HD L: nan  HD R: 18.9886  HD95 L: nan  HD95 R: 11.7641  ASSD L: nan  ASSD R: 2.0284  RVE L: -1.0000  RVE R: 4.3737\n",
      "Nuevo mejor modelo guardado - Avg Dice: 0.1267\n"
     ]
    },
    {
     "name": "stderr",
     "output_type": "stream",
     "text": [
      "                                                                       \r"
     ]
    },
    {
     "name": "stdout",
     "output_type": "stream",
     "text": [
      "Epoch 5/50 - Loss: 0.6547\n",
      "Val Dice L: 0.0000  Dice R: 0.2264  Dice Avg: 0.1132  HD L: nan  HD R: 20.2764  HD95 L: nan  HD95 R: 15.7621  ASSD L: nan  ASSD R: 2.6845  RVE L: -1.0000  RVE R: 5.3538\n"
     ]
    },
    {
     "name": "stderr",
     "output_type": "stream",
     "text": [
      "                                                                       "
     ]
    },
    {
     "name": "stdout",
     "output_type": "stream",
     "text": [
      "Epoch 6/50 - Loss: 0.6396\n"
     ]
    },
    {
     "name": "stderr",
     "output_type": "stream",
     "text": [
      "\r"
     ]
    },
    {
     "name": "stdout",
     "output_type": "stream",
     "text": [
      "Val Dice L: 0.0000  Dice R: 0.1851  Dice Avg: 0.0926  HD L: nan  HD R: 22.7200  HD95 L: nan  HD95 R: 15.6397  ASSD L: nan  ASSD R: 3.0039  RVE L: -1.0000  RVE R: 6.2533\n"
     ]
    },
    {
     "name": "stderr",
     "output_type": "stream",
     "text": [
      "                                                                       "
     ]
    },
    {
     "name": "stdout",
     "output_type": "stream",
     "text": [
      "Epoch 7/50 - Loss: 0.6304\n"
     ]
    },
    {
     "name": "stderr",
     "output_type": "stream",
     "text": [
      "\r"
     ]
    },
    {
     "name": "stdout",
     "output_type": "stream",
     "text": [
      "Val Dice L: 0.0000  Dice R: 0.3881  Dice Avg: 0.1940  HD L: nan  HD R: 15.9124  HD95 L: nan  HD95 R: 5.7010  ASSD L: nan  ASSD R: 1.1256  RVE L: -1.0000  RVE R: 2.1765\n",
      "Nuevo mejor modelo guardado - Avg Dice: 0.1940\n"
     ]
    },
    {
     "name": "stderr",
     "output_type": "stream",
     "text": [
      "                                                                       "
     ]
    },
    {
     "name": "stdout",
     "output_type": "stream",
     "text": [
      "Epoch 8/50 - Loss: 0.6193\n"
     ]
    },
    {
     "name": "stderr",
     "output_type": "stream",
     "text": [
      "\r"
     ]
    },
    {
     "name": "stdout",
     "output_type": "stream",
     "text": [
      "Val Dice L: 0.0000  Dice R: 0.4491  Dice Avg: 0.2246  HD L: nan  HD R: 13.1657  HD95 L: nan  HD95 R: 5.8551  ASSD L: nan  ASSD R: 1.0954  RVE L: -1.0000  RVE R: 0.9770\n",
      "Nuevo mejor modelo guardado - Avg Dice: 0.2246\n"
     ]
    },
    {
     "name": "stderr",
     "output_type": "stream",
     "text": [
      "                                                                       "
     ]
    },
    {
     "name": "stdout",
     "output_type": "stream",
     "text": [
      "Epoch 9/50 - Loss: 0.6050\n"
     ]
    },
    {
     "name": "stderr",
     "output_type": "stream",
     "text": [
      "\r"
     ]
    },
    {
     "name": "stdout",
     "output_type": "stream",
     "text": [
      "Val Dice L: 0.0000  Dice R: 0.4965  Dice Avg: 0.2483  HD L: nan  HD R: 8.4491  HD95 L: nan  HD95 R: 2.9761  ASSD L: nan  ASSD R: 0.8287  RVE L: -1.0000  RVE R: 0.7621\n",
      "Nuevo mejor modelo guardado - Avg Dice: 0.2483\n"
     ]
    },
    {
     "name": "stderr",
     "output_type": "stream",
     "text": [
      "                                                                       "
     ]
    },
    {
     "name": "stdout",
     "output_type": "stream",
     "text": [
      "Epoch 10/50 - Loss: 0.5880\n"
     ]
    },
    {
     "name": "stderr",
     "output_type": "stream",
     "text": [
      "\r"
     ]
    },
    {
     "name": "stdout",
     "output_type": "stream",
     "text": [
      "Val Dice L: 0.0000  Dice R: 0.4559  Dice Avg: 0.2279  HD L: 22.1799  HD R: 13.9767  HD95 L: 21.6327  HD95 R: 5.7925  ASSD L: 18.9711  ASSD R: 1.2948  RVE L: -0.9993  RVE R: 0.7900\n"
     ]
    },
    {
     "name": "stderr",
     "output_type": "stream",
     "text": [
      "                                                                        "
     ]
    },
    {
     "name": "stdout",
     "output_type": "stream",
     "text": [
      "Epoch 11/50 - Loss: 0.5800\n"
     ]
    },
    {
     "name": "stderr",
     "output_type": "stream",
     "text": [
      "\r"
     ]
    },
    {
     "name": "stdout",
     "output_type": "stream",
     "text": [
      "Val Dice L: 0.0000  Dice R: 0.3360  Dice Avg: 0.1680  HD L: 22.8019  HD R: 9.1977  HD95 L: 22.1836  HD95 R: 6.0836  ASSD L: 19.3383  ASSD R: 1.5361  RVE L: -0.7923  RVE R: -0.5239\n"
     ]
    },
    {
     "name": "stderr",
     "output_type": "stream",
     "text": [
      "                                                                        "
     ]
    },
    {
     "name": "stdout",
     "output_type": "stream",
     "text": [
      "Epoch 12/50 - Loss: 0.5676\n"
     ]
    },
    {
     "name": "stderr",
     "output_type": "stream",
     "text": [
      "\r"
     ]
    },
    {
     "name": "stdout",
     "output_type": "stream",
     "text": [
      "Val Dice L: 0.0000  Dice R: 0.4798  Dice Avg: 0.2399  HD L: 20.7151  HD R: 10.4066  HD95 L: 18.6426  HD95 R: 4.1425  ASSD L: 15.6814  ASSD R: 0.8676  RVE L: -0.4383  RVE R: 1.4934\n"
     ]
    },
    {
     "name": "stderr",
     "output_type": "stream",
     "text": [
      "                                                                        \r"
     ]
    },
    {
     "name": "stdout",
     "output_type": "stream",
     "text": [
      "Epoch 13/50 - Loss: 0.5427\n",
      "Val Dice L: 0.0000  Dice R: 0.5097  Dice Avg: 0.2548  HD L: 20.4053  HD R: 8.0061  HD95 L: 19.2622  HD95 R: 2.8996  ASSD L: 16.3058  ASSD R: 0.7760  RVE L: -0.6578  RVE R: 0.6141\n",
      "Nuevo mejor modelo guardado - Avg Dice: 0.2548\n"
     ]
    },
    {
     "name": "stderr",
     "output_type": "stream",
     "text": [
      "                                                                        "
     ]
    },
    {
     "name": "stdout",
     "output_type": "stream",
     "text": [
      "Epoch 14/50 - Loss: 0.5412\n"
     ]
    },
    {
     "name": "stderr",
     "output_type": "stream",
     "text": [
      "\r"
     ]
    },
    {
     "name": "stdout",
     "output_type": "stream",
     "text": [
      "Val Dice L: 0.0000  Dice R: 0.4922  Dice Avg: 0.2461  HD L: 24.0656  HD R: 5.9466  HD95 L: 21.8502  HD95 R: 2.2413  ASSD L: 18.4041  ASSD R: 0.6805  RVE L: 0.0681  RVE R: 0.8964\n"
     ]
    },
    {
     "name": "stderr",
     "output_type": "stream",
     "text": [
      "                                                                        "
     ]
    },
    {
     "name": "stdout",
     "output_type": "stream",
     "text": [
      "Epoch 15/50 - Loss: 0.5218\n"
     ]
    },
    {
     "name": "stderr",
     "output_type": "stream",
     "text": [
      "\r"
     ]
    },
    {
     "name": "stdout",
     "output_type": "stream",
     "text": [
      "Val Dice L: 0.0009  Dice R: 0.5461  Dice Avg: 0.2735  HD L: 22.7700  HD R: 7.4781  HD95 L: 20.9422  HD95 R: 2.3996  ASSD L: 16.8787  ASSD R: 0.6779  RVE L: -0.7519  RVE R: 0.4685\n",
      "Nuevo mejor modelo guardado - Avg Dice: 0.2735\n"
     ]
    },
    {
     "name": "stderr",
     "output_type": "stream",
     "text": [
      "                                                                        "
     ]
    },
    {
     "name": "stdout",
     "output_type": "stream",
     "text": [
      "Epoch 16/50 - Loss: 0.4998\n"
     ]
    },
    {
     "name": "stderr",
     "output_type": "stream",
     "text": [
      "\r"
     ]
    },
    {
     "name": "stdout",
     "output_type": "stream",
     "text": [
      "Val Dice L: 0.0589  Dice R: 0.4712  Dice Avg: 0.2650  HD L: 17.4968  HD R: 5.4218  HD95 L: 14.5264  HD95 R: 2.7700  ASSD L: 8.4149  ASSD R: 0.7624  RVE L: -0.8336  RVE R: -0.1110\n"
     ]
    },
    {
     "name": "stderr",
     "output_type": "stream",
     "text": [
      "                                                                        "
     ]
    },
    {
     "name": "stdout",
     "output_type": "stream",
     "text": [
      "Epoch 17/50 - Loss: 0.4839\n"
     ]
    },
    {
     "name": "stderr",
     "output_type": "stream",
     "text": [
      "\r"
     ]
    },
    {
     "name": "stdout",
     "output_type": "stream",
     "text": [
      "Val Dice L: 0.1890  Dice R: 0.5511  Dice Avg: 0.3701  HD L: 11.4549  HD R: 4.0599  HD95 L: 8.1206  HD95 R: 2.0182  ASSD L: 3.0633  ASSD R: 0.6088  RVE L: -0.8533  RVE R: 0.2944\n",
      "Nuevo mejor modelo guardado - Avg Dice: 0.3701\n"
     ]
    },
    {
     "name": "stderr",
     "output_type": "stream",
     "text": [
      "                                                                        "
     ]
    },
    {
     "name": "stdout",
     "output_type": "stream",
     "text": [
      "Epoch 18/50 - Loss: 0.4546\n"
     ]
    },
    {
     "name": "stderr",
     "output_type": "stream",
     "text": [
      "\r"
     ]
    },
    {
     "name": "stdout",
     "output_type": "stream",
     "text": [
      "Val Dice L: 0.2228  Dice R: 0.4589  Dice Avg: 0.3409  HD L: 11.2526  HD R: 5.0847  HD95 L: 7.4341  HD95 R: 2.5573  ASSD L: 2.4748  ASSD R: 0.8671  RVE L: -0.7903  RVE R: 0.0171\n"
     ]
    },
    {
     "name": "stderr",
     "output_type": "stream",
     "text": [
      "                                                                        "
     ]
    },
    {
     "name": "stdout",
     "output_type": "stream",
     "text": [
      "Epoch 19/50 - Loss: 0.4552\n"
     ]
    },
    {
     "name": "stderr",
     "output_type": "stream",
     "text": [
      "\r"
     ]
    },
    {
     "name": "stdout",
     "output_type": "stream",
     "text": [
      "Val Dice L: 0.1034  Dice R: 0.2396  Dice Avg: 0.1715  HD L: 20.4251  HD R: 8.5272  HD95 L: 19.2603  HD95 R: 6.0212  ASSD L: 9.9035  ASSD R: 1.6460  RVE L: -0.4721  RVE R: -0.7602\n"
     ]
    },
    {
     "name": "stderr",
     "output_type": "stream",
     "text": [
      "                                                                        "
     ]
    },
    {
     "name": "stdout",
     "output_type": "stream",
     "text": [
      "Epoch 20/50 - Loss: 0.4622\n"
     ]
    },
    {
     "name": "stderr",
     "output_type": "stream",
     "text": [
      "\r"
     ]
    },
    {
     "name": "stdout",
     "output_type": "stream",
     "text": [
      "Val Dice L: 0.5104  Dice R: 0.5738  Dice Avg: 0.5421  HD L: 9.7684  HD R: 5.8816  HD95 L: 3.3946  HD95 R: 2.1825  ASSD L: 0.8221  ASSD R: 0.6304  RVE L: 0.0287  RVE R: 0.1507\n",
      "Nuevo mejor modelo guardado - Avg Dice: 0.5421\n"
     ]
    },
    {
     "name": "stderr",
     "output_type": "stream",
     "text": [
      "                                                                        "
     ]
    },
    {
     "name": "stdout",
     "output_type": "stream",
     "text": [
      "Epoch 21/50 - Loss: 0.4259\n"
     ]
    },
    {
     "name": "stderr",
     "output_type": "stream",
     "text": [
      "\r"
     ]
    },
    {
     "name": "stdout",
     "output_type": "stream",
     "text": [
      "Val Dice L: 0.4850  Dice R: 0.5131  Dice Avg: 0.4990  HD L: 16.2510  HD R: 8.3473  HD95 L: 6.5283  HD95 R: 3.1114  ASSD L: 1.2896  ASSD R: 0.7451  RVE L: 1.0209  RVE R: 0.7553\n"
     ]
    },
    {
     "name": "stderr",
     "output_type": "stream",
     "text": [
      "                                                                        "
     ]
    },
    {
     "name": "stdout",
     "output_type": "stream",
     "text": [
      "Epoch 22/50 - Loss: 0.4320\n"
     ]
    },
    {
     "name": "stderr",
     "output_type": "stream",
     "text": [
      "\r"
     ]
    },
    {
     "name": "stdout",
     "output_type": "stream",
     "text": [
      "Val Dice L: 0.4231  Dice R: 0.5566  Dice Avg: 0.4898  HD L: 17.2368  HD R: 5.2817  HD95 L: 6.9406  HD95 R: 1.9234  ASSD L: 1.4557  ASSD R: 0.5731  RVE L: 1.7530  RVE R: 0.5920\n"
     ]
    },
    {
     "name": "stderr",
     "output_type": "stream",
     "text": [
      "                                                                        "
     ]
    },
    {
     "name": "stdout",
     "output_type": "stream",
     "text": [
      "Epoch 23/50 - Loss: 0.4073\n"
     ]
    },
    {
     "name": "stderr",
     "output_type": "stream",
     "text": [
      "\r"
     ]
    },
    {
     "name": "stdout",
     "output_type": "stream",
     "text": [
      "Val Dice L: 0.5175  Dice R: 0.5868  Dice Avg: 0.5522  HD L: 7.4426  HD R: 5.3621  HD95 L: 4.4463  HD95 R: 2.7202  ASSD L: 0.9012  ASSD R: 0.6034  RVE L: 0.1272  RVE R: 0.3346\n",
      "Nuevo mejor modelo guardado - Avg Dice: 0.5522\n"
     ]
    },
    {
     "name": "stderr",
     "output_type": "stream",
     "text": [
      "                                                                        "
     ]
    },
    {
     "name": "stdout",
     "output_type": "stream",
     "text": [
      "Epoch 24/50 - Loss: 0.3978\n"
     ]
    },
    {
     "name": "stderr",
     "output_type": "stream",
     "text": [
      "\r"
     ]
    },
    {
     "name": "stdout",
     "output_type": "stream",
     "text": [
      "Val Dice L: 0.4978  Dice R: 0.5568  Dice Avg: 0.5273  HD L: 8.8182  HD R: 6.0575  HD95 L: 3.7304  HD95 R: 1.9843  ASSD L: 0.7738  ASSD R: 0.5733  RVE L: 1.3067  RVE R: 0.6961\n"
     ]
    },
    {
     "name": "stderr",
     "output_type": "stream",
     "text": [
      "                                                                        "
     ]
    },
    {
     "name": "stdout",
     "output_type": "stream",
     "text": [
      "Epoch 25/50 - Loss: 0.3864\n"
     ]
    },
    {
     "name": "stderr",
     "output_type": "stream",
     "text": [
      "\r"
     ]
    },
    {
     "name": "stdout",
     "output_type": "stream",
     "text": [
      "Val Dice L: 0.5361  Dice R: 0.5773  Dice Avg: 0.5567  HD L: 8.9611  HD R: 5.9683  HD95 L: 2.5162  HD95 R: 2.4726  ASSD L: 0.7011  ASSD R: 0.5857  RVE L: 0.5218  RVE R: 0.5751\n",
      "Nuevo mejor modelo guardado - Avg Dice: 0.5567\n"
     ]
    },
    {
     "name": "stderr",
     "output_type": "stream",
     "text": [
      "                                                                        "
     ]
    },
    {
     "name": "stdout",
     "output_type": "stream",
     "text": [
      "Epoch 26/50 - Loss: 0.3881\n"
     ]
    },
    {
     "name": "stderr",
     "output_type": "stream",
     "text": [
      "\r"
     ]
    },
    {
     "name": "stdout",
     "output_type": "stream",
     "text": [
      "Val Dice L: 0.5670  Dice R: 0.5898  Dice Avg: 0.5784  HD L: 5.1801  HD R: 3.9901  HD95 L: 2.1092  HD95 R: 1.8978  ASSD L: 0.6005  ASSD R: 0.5560  RVE L: 0.1228  RVE R: -0.0955\n",
      "Nuevo mejor modelo guardado - Avg Dice: 0.5784\n"
     ]
    },
    {
     "name": "stderr",
     "output_type": "stream",
     "text": [
      "                                                                        "
     ]
    },
    {
     "name": "stdout",
     "output_type": "stream",
     "text": [
      "Epoch 27/50 - Loss: 0.3814\n"
     ]
    },
    {
     "name": "stderr",
     "output_type": "stream",
     "text": [
      "\r"
     ]
    },
    {
     "name": "stdout",
     "output_type": "stream",
     "text": [
      "Val Dice L: 0.5454  Dice R: 0.5756  Dice Avg: 0.5605  HD L: 13.3897  HD R: 3.1175  HD95 L: 3.9470  HD95 R: 1.6992  ASSD L: 0.8650  ASSD R: 0.4955  RVE L: 0.8684  RVE R: 0.7097\n"
     ]
    },
    {
     "name": "stderr",
     "output_type": "stream",
     "text": [
      "                                                                        "
     ]
    },
    {
     "name": "stdout",
     "output_type": "stream",
     "text": [
      "Epoch 28/50 - Loss: 0.3815\n"
     ]
    },
    {
     "name": "stderr",
     "output_type": "stream",
     "text": [
      "\r"
     ]
    },
    {
     "name": "stdout",
     "output_type": "stream",
     "text": [
      "Val Dice L: 0.5221  Dice R: 0.5905  Dice Avg: 0.5563  HD L: 6.1386  HD R: 3.9058  HD95 L: 3.1177  HD95 R: 1.7551  ASSD L: 0.7510  ASSD R: 0.5246  RVE L: 0.5100  RVE R: 0.4181\n"
     ]
    },
    {
     "name": "stderr",
     "output_type": "stream",
     "text": [
      "                                                                        "
     ]
    },
    {
     "name": "stdout",
     "output_type": "stream",
     "text": [
      "Epoch 29/50 - Loss: 0.3804\n"
     ]
    },
    {
     "name": "stderr",
     "output_type": "stream",
     "text": [
      "\r"
     ]
    },
    {
     "name": "stdout",
     "output_type": "stream",
     "text": [
      "Val Dice L: 0.5625  Dice R: 0.5323  Dice Avg: 0.5474  HD L: 8.1556  HD R: 6.4983  HD95 L: 3.6310  HD95 R: 2.0172  ASSD L: 0.7173  ASSD R: 0.5808  RVE L: 0.7716  RVE R: 1.0448\n"
     ]
    },
    {
     "name": "stderr",
     "output_type": "stream",
     "text": [
      "                                                                        "
     ]
    },
    {
     "name": "stdout",
     "output_type": "stream",
     "text": [
      "Epoch 30/50 - Loss: 0.3705\n"
     ]
    },
    {
     "name": "stderr",
     "output_type": "stream",
     "text": [
      "\r"
     ]
    },
    {
     "name": "stdout",
     "output_type": "stream",
     "text": [
      "Val Dice L: 0.5222  Dice R: 0.5964  Dice Avg: 0.5593  HD L: 8.3321  HD R: 5.4951  HD95 L: 2.8531  HD95 R: 1.6555  ASSD L: 0.6411  ASSD R: 0.4952  RVE L: 1.2651  RVE R: 0.5699\n"
     ]
    },
    {
     "name": "stderr",
     "output_type": "stream",
     "text": [
      "                                                                        "
     ]
    },
    {
     "name": "stdout",
     "output_type": "stream",
     "text": [
      "Epoch 31/50 - Loss: 0.3650\n"
     ]
    },
    {
     "name": "stderr",
     "output_type": "stream",
     "text": [
      "\r"
     ]
    },
    {
     "name": "stdout",
     "output_type": "stream",
     "text": [
      "Val Dice L: 0.5262  Dice R: 0.5824  Dice Avg: 0.5543  HD L: 5.7376  HD R: 4.3587  HD95 L: 2.8813  HD95 R: 1.8707  ASSD L: 0.6981  ASSD R: 0.5642  RVE L: -0.3646  RVE R: 0.0578\n"
     ]
    },
    {
     "name": "stderr",
     "output_type": "stream",
     "text": [
      "                                                                        "
     ]
    },
    {
     "name": "stdout",
     "output_type": "stream",
     "text": [
      "Epoch 32/50 - Loss: 0.3896\n"
     ]
    },
    {
     "name": "stderr",
     "output_type": "stream",
     "text": [
      "\r"
     ]
    },
    {
     "name": "stdout",
     "output_type": "stream",
     "text": [
      "Val Dice L: 0.5955  Dice R: 0.5843  Dice Avg: 0.5899  HD L: 7.6466  HD R: 5.6240  HD95 L: 2.4960  HD95 R: 2.2676  ASSD L: 0.6454  ASSD R: 0.5485  RVE L: 0.3146  RVE R: 0.5811\n",
      "Nuevo mejor modelo guardado - Avg Dice: 0.5899\n"
     ]
    },
    {
     "name": "stderr",
     "output_type": "stream",
     "text": [
      "                                                                        "
     ]
    },
    {
     "name": "stdout",
     "output_type": "stream",
     "text": [
      "Epoch 33/50 - Loss: 0.3775\n"
     ]
    },
    {
     "name": "stderr",
     "output_type": "stream",
     "text": [
      "\r"
     ]
    },
    {
     "name": "stdout",
     "output_type": "stream",
     "text": [
      "Val Dice L: 0.5393  Dice R: 0.6173  Dice Avg: 0.5783  HD L: 15.8141  HD R: 3.6554  HD95 L: 5.6778  HD95 R: 1.6895  ASSD L: 1.0903  ASSD R: 0.4886  RVE L: 1.0793  RVE R: 0.3052\n"
     ]
    },
    {
     "name": "stderr",
     "output_type": "stream",
     "text": [
      "                                                                        "
     ]
    },
    {
     "name": "stdout",
     "output_type": "stream",
     "text": [
      "Epoch 34/50 - Loss: 0.3581\n"
     ]
    },
    {
     "name": "stderr",
     "output_type": "stream",
     "text": [
      "\r"
     ]
    },
    {
     "name": "stdout",
     "output_type": "stream",
     "text": [
      "Val Dice L: 0.5836  Dice R: 0.6050  Dice Avg: 0.5943  HD L: 4.4177  HD R: 3.1824  HD95 L: 1.8298  HD95 R: 1.6317  ASSD L: 0.5513  ASSD R: 0.4824  RVE L: -0.1501  RVE R: 0.3694\n",
      "Nuevo mejor modelo guardado - Avg Dice: 0.5943\n"
     ]
    },
    {
     "name": "stderr",
     "output_type": "stream",
     "text": [
      "                                                                        "
     ]
    },
    {
     "name": "stdout",
     "output_type": "stream",
     "text": [
      "Epoch 35/50 - Loss: 0.3581\n"
     ]
    },
    {
     "name": "stderr",
     "output_type": "stream",
     "text": [
      "\r"
     ]
    },
    {
     "name": "stdout",
     "output_type": "stream",
     "text": [
      "Val Dice L: 0.6115  Dice R: 0.5935  Dice Avg: 0.6025  HD L: 4.2575  HD R: 3.7786  HD95 L: 2.2996  HD95 R: 1.6703  ASSD L: 0.6012  ASSD R: 0.5169  RVE L: 0.1690  RVE R: -0.0047\n",
      "Nuevo mejor modelo guardado - Avg Dice: 0.6025\n"
     ]
    },
    {
     "name": "stderr",
     "output_type": "stream",
     "text": [
      "                                                                        "
     ]
    },
    {
     "name": "stdout",
     "output_type": "stream",
     "text": [
      "Epoch 36/50 - Loss: 0.3542\n"
     ]
    },
    {
     "name": "stderr",
     "output_type": "stream",
     "text": [
      "\r"
     ]
    },
    {
     "name": "stdout",
     "output_type": "stream",
     "text": [
      "Val Dice L: 0.5573  Dice R: 0.6229  Dice Avg: 0.5901  HD L: 6.5192  HD R: 3.4348  HD95 L: 2.3158  HD95 R: 1.5595  ASSD L: 0.6388  ASSD R: 0.4648  RVE L: 0.8508  RVE R: 0.2794\n"
     ]
    },
    {
     "name": "stderr",
     "output_type": "stream",
     "text": [
      "                                                                        "
     ]
    },
    {
     "name": "stdout",
     "output_type": "stream",
     "text": [
      "Epoch 37/50 - Loss: 0.3537\n"
     ]
    },
    {
     "name": "stderr",
     "output_type": "stream",
     "text": [
      "\r"
     ]
    },
    {
     "name": "stdout",
     "output_type": "stream",
     "text": [
      "Val Dice L: 0.6119  Dice R: 0.6240  Dice Avg: 0.6180  HD L: 3.5975  HD R: 4.3362  HD95 L: 2.0752  HD95 R: 1.6254  ASSD L: 0.5415  ASSD R: 0.4976  RVE L: 0.2448  RVE R: 0.1081\n",
      "Nuevo mejor modelo guardado - Avg Dice: 0.6180\n"
     ]
    },
    {
     "name": "stderr",
     "output_type": "stream",
     "text": [
      "                                                                        "
     ]
    },
    {
     "name": "stdout",
     "output_type": "stream",
     "text": [
      "Epoch 38/50 - Loss: 0.3473\n"
     ]
    },
    {
     "name": "stderr",
     "output_type": "stream",
     "text": [
      "\r"
     ]
    },
    {
     "name": "stdout",
     "output_type": "stream",
     "text": [
      "Val Dice L: 0.5733  Dice R: 0.6112  Dice Avg: 0.5922  HD L: 4.8489  HD R: 3.8214  HD95 L: 1.7753  HD95 R: 1.6352  ASSD L: 0.5537  ASSD R: 0.4844  RVE L: 0.3880  RVE R: 0.3738\n"
     ]
    },
    {
     "name": "stderr",
     "output_type": "stream",
     "text": [
      "                                                                        "
     ]
    },
    {
     "name": "stdout",
     "output_type": "stream",
     "text": [
      "Epoch 39/50 - Loss: 0.3518\n"
     ]
    },
    {
     "name": "stderr",
     "output_type": "stream",
     "text": [
      "\r"
     ]
    },
    {
     "name": "stdout",
     "output_type": "stream",
     "text": [
      "Val Dice L: 0.5472  Dice R: 0.6101  Dice Avg: 0.5786  HD L: 13.4022  HD R: 3.4991  HD95 L: 7.0667  HD95 R: 1.6134  ASSD L: 0.9968  ASSD R: 0.4534  RVE L: 1.1547  RVE R: 0.5886\n"
     ]
    },
    {
     "name": "stderr",
     "output_type": "stream",
     "text": [
      "                                                                        "
     ]
    },
    {
     "name": "stdout",
     "output_type": "stream",
     "text": [
      "Epoch 40/50 - Loss: 0.3341\n"
     ]
    },
    {
     "name": "stderr",
     "output_type": "stream",
     "text": [
      "\r"
     ]
    },
    {
     "name": "stdout",
     "output_type": "stream",
     "text": [
      "Val Dice L: 0.6474  Dice R: 0.6195  Dice Avg: 0.6335  HD L: 3.7399  HD R: 3.2685  HD95 L: 1.6034  HD95 R: 1.5432  ASSD L: 0.4463  ASSD R: 0.4580  RVE L: 0.1718  RVE R: 0.3292\n",
      "Nuevo mejor modelo guardado - Avg Dice: 0.6335\n"
     ]
    },
    {
     "name": "stderr",
     "output_type": "stream",
     "text": [
      "                                                                        "
     ]
    },
    {
     "name": "stdout",
     "output_type": "stream",
     "text": [
      "Epoch 41/50 - Loss: 0.3568\n"
     ]
    },
    {
     "name": "stderr",
     "output_type": "stream",
     "text": [
      "\r"
     ]
    },
    {
     "name": "stdout",
     "output_type": "stream",
     "text": [
      "Val Dice L: 0.6278  Dice R: 0.6428  Dice Avg: 0.6353  HD L: 3.7635  HD R: 3.0381  HD95 L: 1.6796  HD95 R: 1.4170  ASSD L: 0.4808  ASSD R: 0.4266  RVE L: 0.0526  RVE R: 0.1975\n",
      "Nuevo mejor modelo guardado - Avg Dice: 0.6353\n"
     ]
    },
    {
     "name": "stderr",
     "output_type": "stream",
     "text": [
      "                                                                        "
     ]
    },
    {
     "name": "stdout",
     "output_type": "stream",
     "text": [
      "Epoch 42/50 - Loss: 0.3482\n"
     ]
    },
    {
     "name": "stderr",
     "output_type": "stream",
     "text": [
      "\r"
     ]
    },
    {
     "name": "stdout",
     "output_type": "stream",
     "text": [
      "Val Dice L: 0.5833  Dice R: 0.6367  Dice Avg: 0.6100  HD L: 5.8028  HD R: 7.6233  HD95 L: 2.6269  HD95 R: 1.5576  ASSD L: 0.6625  ASSD R: 0.5121  RVE L: 0.0783  RVE R: 0.1430\n"
     ]
    },
    {
     "name": "stderr",
     "output_type": "stream",
     "text": [
      "                                                                        "
     ]
    },
    {
     "name": "stdout",
     "output_type": "stream",
     "text": [
      "Epoch 43/50 - Loss: 0.3325\n"
     ]
    },
    {
     "name": "stderr",
     "output_type": "stream",
     "text": [
      "\r"
     ]
    },
    {
     "name": "stdout",
     "output_type": "stream",
     "text": [
      "Val Dice L: 0.6024  Dice R: 0.6264  Dice Avg: 0.6144  HD L: 5.3388  HD R: 4.0609  HD95 L: 2.6324  HD95 R: 1.4940  ASSD L: 0.6188  ASSD R: 0.4749  RVE L: 0.1768  RVE R: 0.2556\n"
     ]
    },
    {
     "name": "stderr",
     "output_type": "stream",
     "text": [
      "                                                                        "
     ]
    },
    {
     "name": "stdout",
     "output_type": "stream",
     "text": [
      "Epoch 44/50 - Loss: 0.3283\n"
     ]
    },
    {
     "name": "stderr",
     "output_type": "stream",
     "text": [
      "\r"
     ]
    },
    {
     "name": "stdout",
     "output_type": "stream",
     "text": [
      "Val Dice L: 0.6396  Dice R: 0.6011  Dice Avg: 0.6204  HD L: 5.1549  HD R: 5.6528  HD95 L: 1.6192  HD95 R: 1.6306  ASSD L: 0.4736  ASSD R: 0.5454  RVE L: 0.2584  RVE R: 0.3190\n"
     ]
    },
    {
     "name": "stderr",
     "output_type": "stream",
     "text": [
      "                                                                        "
     ]
    },
    {
     "name": "stdout",
     "output_type": "stream",
     "text": [
      "Epoch 45/50 - Loss: 0.3235\n"
     ]
    },
    {
     "name": "stderr",
     "output_type": "stream",
     "text": [
      "\r"
     ]
    },
    {
     "name": "stdout",
     "output_type": "stream",
     "text": [
      "Val Dice L: 0.6025  Dice R: 0.6414  Dice Avg: 0.6219  HD L: 9.9032  HD R: 3.7451  HD95 L: 2.8774  HD95 R: 1.4996  ASSD L: 0.6466  ASSD R: 0.4455  RVE L: 0.5955  RVE R: 0.2954\n"
     ]
    },
    {
     "name": "stderr",
     "output_type": "stream",
     "text": [
      "                                                                        "
     ]
    },
    {
     "name": "stdout",
     "output_type": "stream",
     "text": [
      "Epoch 46/50 - Loss: 0.3232\n"
     ]
    },
    {
     "name": "stderr",
     "output_type": "stream",
     "text": [
      "\r"
     ]
    },
    {
     "name": "stdout",
     "output_type": "stream",
     "text": [
      "Val Dice L: 0.5747  Dice R: 0.6126  Dice Avg: 0.5936  HD L: 5.7856  HD R: 4.3221  HD95 L: 2.2297  HD95 R: 1.6414  ASSD L: 0.5374  ASSD R: 0.4491  RVE L: 0.9635  RVE R: 0.6401\n"
     ]
    },
    {
     "name": "stderr",
     "output_type": "stream",
     "text": [
      "                                                                        "
     ]
    },
    {
     "name": "stdout",
     "output_type": "stream",
     "text": [
      "Epoch 47/50 - Loss: 0.3264\n"
     ]
    },
    {
     "name": "stderr",
     "output_type": "stream",
     "text": [
      "\r"
     ]
    },
    {
     "name": "stdout",
     "output_type": "stream",
     "text": [
      "Val Dice L: 0.6499  Dice R: 0.6465  Dice Avg: 0.6482  HD L: 3.4899  HD R: 3.1369  HD95 L: 1.9448  HD95 R: 1.4046  ASSD L: 0.4810  ASSD R: 0.4273  RVE L: 0.2797  RVE R: 0.0451\n",
      "Nuevo mejor modelo guardado - Avg Dice: 0.6482\n"
     ]
    },
    {
     "name": "stderr",
     "output_type": "stream",
     "text": [
      "                                                                        "
     ]
    },
    {
     "name": "stdout",
     "output_type": "stream",
     "text": [
      "Epoch 48/50 - Loss: 0.3169\n"
     ]
    },
    {
     "name": "stderr",
     "output_type": "stream",
     "text": [
      "\r"
     ]
    },
    {
     "name": "stdout",
     "output_type": "stream",
     "text": [
      "Val Dice L: 0.6382  Dice R: 0.6427  Dice Avg: 0.6404  HD L: 5.1426  HD R: 6.2371  HD95 L: 2.1584  HD95 R: 1.5520  ASSD L: 0.5238  ASSD R: 0.4854  RVE L: 0.4536  RVE R: 0.0889\n"
     ]
    },
    {
     "name": "stderr",
     "output_type": "stream",
     "text": [
      "                                                                        "
     ]
    },
    {
     "name": "stdout",
     "output_type": "stream",
     "text": [
      "Epoch 49/50 - Loss: 0.3298\n"
     ]
    },
    {
     "name": "stderr",
     "output_type": "stream",
     "text": [
      "\r"
     ]
    },
    {
     "name": "stdout",
     "output_type": "stream",
     "text": [
      "Val Dice L: 0.6343  Dice R: 0.6364  Dice Avg: 0.6353  HD L: 8.8838  HD R: 3.8739  HD95 L: 2.5967  HD95 R: 1.5153  ASSD L: 0.6472  ASSD R: 0.4505  RVE L: 0.2400  RVE R: 0.2114\n"
     ]
    },
    {
     "name": "stderr",
     "output_type": "stream",
     "text": [
      "                                                                        "
     ]
    },
    {
     "name": "stdout",
     "output_type": "stream",
     "text": [
      "Epoch 50/50 - Loss: 0.3185\n"
     ]
    },
    {
     "name": "stderr",
     "output_type": "stream",
     "text": [
      "\r"
     ]
    },
    {
     "name": "stdout",
     "output_type": "stream",
     "text": [
      "Val Dice L: 0.5994  Dice R: 0.6507  Dice Avg: 0.6250  HD L: 5.2052  HD R: 3.3053  HD95 L: 2.4906  HD95 R: 1.3890  ASSD L: 0.6114  ASSD R: 0.4107  RVE L: -0.0802  RVE R: 0.2556\n",
      "Resumen métricas fold: {'dice_L': 0.6498831345696535, 'dice_R': 0.6465008121689004, 'dice_Avg': 0.6481919733692769, 'hd_L': 3.4899111575489163, 'hd_R': 3.1369091792531574, 'hd_Avg': 3.313410168401037, 'hd95_L': 1.9448351605116032, 'hd95_R': 1.40455156740326, 'hd95_Avg': 1.6746933639574317, 'assd_L': 0.48103536278799736, 'assd_R': 0.4272752460098244, 'assd_Avg': 0.4541553043989109, 'rve_L': 0.2797272993256612, 'rve_R': 0.045113579057974855, 'rve_Avg': 0.16242043919181803}\n",
      "\n",
      "===== Fold 2/5 =====\n"
     ]
    },
    {
     "name": "stderr",
     "output_type": "stream",
     "text": [
      "                                                                       "
     ]
    },
    {
     "name": "stdout",
     "output_type": "stream",
     "text": [
      "Epoch 1/50 - Loss: 0.8116\n"
     ]
    },
    {
     "name": "stderr",
     "output_type": "stream",
     "text": [
      "\r"
     ]
    },
    {
     "name": "stdout",
     "output_type": "stream",
     "text": [
      "Val Dice L: 0.0000  Dice R: 0.0000  Dice Avg: 0.0000  HD L: nan  HD R: nan  HD95 L: nan  HD95 R: nan  ASSD L: nan  ASSD R: nan  RVE L: -1.0000  RVE R: -1.0000\n"
     ]
    },
    {
     "name": "stderr",
     "output_type": "stream",
     "text": [
      "                                                                       "
     ]
    },
    {
     "name": "stdout",
     "output_type": "stream",
     "text": [
      "Epoch 2/50 - Loss: 0.6891\n"
     ]
    },
    {
     "name": "stderr",
     "output_type": "stream",
     "text": [
      "\r"
     ]
    },
    {
     "name": "stdout",
     "output_type": "stream",
     "text": [
      "Val Dice L: 0.0000  Dice R: 0.0000  Dice Avg: 0.0000  HD L: nan  HD R: nan  HD95 L: nan  HD95 R: nan  ASSD L: nan  ASSD R: nan  RVE L: -1.0000  RVE R: -1.0000\n"
     ]
    },
    {
     "name": "stderr",
     "output_type": "stream",
     "text": [
      "                                                                       "
     ]
    },
    {
     "name": "stdout",
     "output_type": "stream",
     "text": [
      "Epoch 3/50 - Loss: 0.6812\n"
     ]
    },
    {
     "name": "stderr",
     "output_type": "stream",
     "text": [
      "\r"
     ]
    },
    {
     "name": "stdout",
     "output_type": "stream",
     "text": [
      "Val Dice L: 0.0000  Dice R: 0.0000  Dice Avg: 0.0000  HD L: nan  HD R: nan  HD95 L: nan  HD95 R: nan  ASSD L: nan  ASSD R: nan  RVE L: -1.0000  RVE R: -1.0000\n"
     ]
    },
    {
     "name": "stderr",
     "output_type": "stream",
     "text": [
      "                                                                       "
     ]
    },
    {
     "name": "stdout",
     "output_type": "stream",
     "text": [
      "Epoch 4/50 - Loss: 0.6761\n"
     ]
    },
    {
     "name": "stderr",
     "output_type": "stream",
     "text": [
      "\r"
     ]
    },
    {
     "name": "stdout",
     "output_type": "stream",
     "text": [
      "Val Dice L: 0.2036  Dice R: 0.0018  Dice Avg: 0.1027  HD L: 20.5477  HD R: 18.4044  HD95 L: 17.4603  HD95 R: 14.6470  ASSD L: 4.4300  ASSD R: 10.5698  RVE L: 1.6383  RVE R: -0.9871\n",
      "Nuevo mejor modelo guardado - Avg Dice: 0.1027\n"
     ]
    },
    {
     "name": "stderr",
     "output_type": "stream",
     "text": [
      "                                                                       "
     ]
    },
    {
     "name": "stdout",
     "output_type": "stream",
     "text": [
      "Epoch 5/50 - Loss: 0.6702\n"
     ]
    },
    {
     "name": "stderr",
     "output_type": "stream",
     "text": [
      "\r"
     ]
    },
    {
     "name": "stdout",
     "output_type": "stream",
     "text": [
      "Val Dice L: 0.0915  Dice R: 0.0000  Dice Avg: 0.0458  HD L: 21.4562  HD R: nan  HD95 L: 20.1636  HD95 R: nan  ASSD L: 11.3158  ASSD R: nan  RVE L: 2.0396  RVE R: -1.0000\n"
     ]
    },
    {
     "name": "stderr",
     "output_type": "stream",
     "text": [
      "                                                                       "
     ]
    },
    {
     "name": "stdout",
     "output_type": "stream",
     "text": [
      "Epoch 6/50 - Loss: 0.6612\n"
     ]
    },
    {
     "name": "stderr",
     "output_type": "stream",
     "text": [
      "\r"
     ]
    },
    {
     "name": "stdout",
     "output_type": "stream",
     "text": [
      "Val Dice L: 0.3346  Dice R: 0.0000  Dice Avg: 0.1673  HD L: 12.6476  HD R: nan  HD95 L: 5.5330  HD95 R: nan  ASSD L: 2.0429  ASSD R: nan  RVE L: 0.2402  RVE R: -1.0000\n",
      "Nuevo mejor modelo guardado - Avg Dice: 0.1673\n"
     ]
    },
    {
     "name": "stderr",
     "output_type": "stream",
     "text": [
      "                                                                       "
     ]
    },
    {
     "name": "stdout",
     "output_type": "stream",
     "text": [
      "Epoch 7/50 - Loss: 0.6458\n"
     ]
    },
    {
     "name": "stderr",
     "output_type": "stream",
     "text": [
      "\r"
     ]
    },
    {
     "name": "stdout",
     "output_type": "stream",
     "text": [
      "Val Dice L: 0.3066  Dice R: 0.0000  Dice Avg: 0.1533  HD L: 12.5776  HD R: nan  HD95 L: 4.6383  HD95 R: nan  ASSD L: 1.2079  ASSD R: nan  RVE L: 3.8257  RVE R: -1.0000\n"
     ]
    },
    {
     "name": "stderr",
     "output_type": "stream",
     "text": [
      "                                                                       "
     ]
    },
    {
     "name": "stdout",
     "output_type": "stream",
     "text": [
      "Epoch 8/50 - Loss: 0.6295\n"
     ]
    },
    {
     "name": "stderr",
     "output_type": "stream",
     "text": [
      "\r"
     ]
    },
    {
     "name": "stdout",
     "output_type": "stream",
     "text": [
      "Val Dice L: 0.1544  Dice R: 0.0000  Dice Avg: 0.0772  HD L: 9.1508  HD R: nan  HD95 L: 6.7238  HD95 R: nan  ASSD L: 1.7188  ASSD R: nan  RVE L: -0.8352  RVE R: -1.0000\n"
     ]
    },
    {
     "name": "stderr",
     "output_type": "stream",
     "text": [
      "                                                                       "
     ]
    },
    {
     "name": "stdout",
     "output_type": "stream",
     "text": [
      "Epoch 9/50 - Loss: 0.6660\n"
     ]
    },
    {
     "name": "stderr",
     "output_type": "stream",
     "text": [
      "\r"
     ]
    },
    {
     "name": "stdout",
     "output_type": "stream",
     "text": [
      "Val Dice L: 0.2038  Dice R: 0.0000  Dice Avg: 0.1019  HD L: 21.9292  HD R: nan  HD95 L: 14.2854  HD95 R: nan  ASSD L: 2.1927  ASSD R: nan  RVE L: 7.7141  RVE R: -1.0000\n"
     ]
    },
    {
     "name": "stderr",
     "output_type": "stream",
     "text": [
      "                                                                       "
     ]
    },
    {
     "name": "stdout",
     "output_type": "stream",
     "text": [
      "Epoch 10/50 - Loss: 0.6191\n"
     ]
    },
    {
     "name": "stderr",
     "output_type": "stream",
     "text": [
      "\r"
     ]
    },
    {
     "name": "stdout",
     "output_type": "stream",
     "text": [
      "Val Dice L: 0.4435  Dice R: 0.0402  Dice Avg: 0.2419  HD L: 11.0873  HD R: 22.5551  HD95 L: 4.3187  HD95 R: 19.5063  ASSD L: 1.0428  ASSD R: 12.4991  RVE L: 0.9004  RVE R: -0.4411\n",
      "Nuevo mejor modelo guardado - Avg Dice: 0.2419\n"
     ]
    },
    {
     "name": "stderr",
     "output_type": "stream",
     "text": [
      "                                                                        "
     ]
    },
    {
     "name": "stdout",
     "output_type": "stream",
     "text": [
      "Epoch 11/50 - Loss: 0.6162\n"
     ]
    },
    {
     "name": "stderr",
     "output_type": "stream",
     "text": [
      "\r"
     ]
    },
    {
     "name": "stdout",
     "output_type": "stream",
     "text": [
      "Val Dice L: 0.3759  Dice R: 0.0560  Dice Avg: 0.2159  HD L: 17.6232  HD R: 22.8651  HD95 L: 13.4595  HD95 R: 21.1549  ASSD L: 1.9730  ASSD R: 10.5205  RVE L: 1.9728  RVE R: 0.1726\n"
     ]
    },
    {
     "name": "stderr",
     "output_type": "stream",
     "text": [
      "                                                                        "
     ]
    },
    {
     "name": "stdout",
     "output_type": "stream",
     "text": [
      "Epoch 12/50 - Loss: 0.5825\n"
     ]
    },
    {
     "name": "stderr",
     "output_type": "stream",
     "text": [
      "\r"
     ]
    },
    {
     "name": "stdout",
     "output_type": "stream",
     "text": [
      "Val Dice L: 0.4482  Dice R: 0.1423  Dice Avg: 0.2952  HD L: 13.7245  HD R: 24.0124  HD95 L: 7.8740  HD95 R: 21.7234  ASSD L: 1.3778  ASSD R: 7.9001  RVE L: 0.9875  RVE R: 2.3448\n",
      "Nuevo mejor modelo guardado - Avg Dice: 0.2952\n"
     ]
    },
    {
     "name": "stderr",
     "output_type": "stream",
     "text": [
      "                                                                        "
     ]
    },
    {
     "name": "stdout",
     "output_type": "stream",
     "text": [
      "Epoch 13/50 - Loss: 0.5663\n"
     ]
    },
    {
     "name": "stderr",
     "output_type": "stream",
     "text": [
      "\r"
     ]
    },
    {
     "name": "stdout",
     "output_type": "stream",
     "text": [
      "Val Dice L: 0.5042  Dice R: 0.2558  Dice Avg: 0.3800  HD L: 9.9392  HD R: 23.6472  HD95 L: 4.9786  HD95 R: 21.7378  ASSD L: 1.1340  ASSD R: 6.3805  RVE L: 0.3363  RVE R: 1.0756\n",
      "Nuevo mejor modelo guardado - Avg Dice: 0.3800\n"
     ]
    },
    {
     "name": "stderr",
     "output_type": "stream",
     "text": [
      "                                                                        "
     ]
    },
    {
     "name": "stdout",
     "output_type": "stream",
     "text": [
      "Epoch 14/50 - Loss: 0.5571\n"
     ]
    },
    {
     "name": "stderr",
     "output_type": "stream",
     "text": [
      "\r"
     ]
    },
    {
     "name": "stdout",
     "output_type": "stream",
     "text": [
      "Val Dice L: 0.2946  Dice R: 0.1827  Dice Avg: 0.2386  HD L: 8.0221  HD R: 18.0638  HD95 L: 5.4313  HD95 R: 9.2574  ASSD L: 1.2058  ASSD R: 5.0943  RVE L: -0.7169  RVE R: -0.6882\n"
     ]
    },
    {
     "name": "stderr",
     "output_type": "stream",
     "text": [
      "                                                                        "
     ]
    },
    {
     "name": "stdout",
     "output_type": "stream",
     "text": [
      "Epoch 15/50 - Loss: 0.5378\n"
     ]
    },
    {
     "name": "stderr",
     "output_type": "stream",
     "text": [
      "\r"
     ]
    },
    {
     "name": "stdout",
     "output_type": "stream",
     "text": [
      "Val Dice L: 0.4890  Dice R: 0.3759  Dice Avg: 0.4325  HD L: 10.8360  HD R: 23.9874  HD95 L: 6.0227  HD95 R: 17.2972  ASSD L: 1.1238  ASSD R: 3.0265  RVE L: 0.8943  RVE R: 1.5795\n",
      "Nuevo mejor modelo guardado - Avg Dice: 0.4325\n"
     ]
    },
    {
     "name": "stderr",
     "output_type": "stream",
     "text": [
      "                                                                        "
     ]
    },
    {
     "name": "stdout",
     "output_type": "stream",
     "text": [
      "Epoch 16/50 - Loss: 0.5031\n"
     ]
    },
    {
     "name": "stderr",
     "output_type": "stream",
     "text": [
      "\r"
     ]
    },
    {
     "name": "stdout",
     "output_type": "stream",
     "text": [
      "Val Dice L: 0.4742  Dice R: 0.3975  Dice Avg: 0.4358  HD L: 5.2837  HD R: 19.9024  HD95 L: 2.9378  HD95 R: 11.5336  ASSD L: 0.8750  ASSD R: 3.0139  RVE L: -0.1829  RVE R: 1.3479\n",
      "Nuevo mejor modelo guardado - Avg Dice: 0.4358\n"
     ]
    },
    {
     "name": "stderr",
     "output_type": "stream",
     "text": [
      "                                                                        "
     ]
    },
    {
     "name": "stdout",
     "output_type": "stream",
     "text": [
      "Epoch 17/50 - Loss: 0.4933\n"
     ]
    },
    {
     "name": "stderr",
     "output_type": "stream",
     "text": [
      "\r"
     ]
    },
    {
     "name": "stdout",
     "output_type": "stream",
     "text": [
      "Val Dice L: 0.5073  Dice R: 0.5382  Dice Avg: 0.5227  HD L: 10.2889  HD R: 7.1557  HD95 L: 4.8807  HD95 R: 2.6897  ASSD L: 1.1324  ASSD R: 0.7103  RVE L: 0.0589  RVE R: 0.2420\n",
      "Nuevo mejor modelo guardado - Avg Dice: 0.5227\n"
     ]
    },
    {
     "name": "stderr",
     "output_type": "stream",
     "text": [
      "                                                                        "
     ]
    },
    {
     "name": "stdout",
     "output_type": "stream",
     "text": [
      "Epoch 18/50 - Loss: 0.4665\n"
     ]
    },
    {
     "name": "stderr",
     "output_type": "stream",
     "text": [
      "\r"
     ]
    },
    {
     "name": "stdout",
     "output_type": "stream",
     "text": [
      "Val Dice L: 0.5038  Dice R: 0.4171  Dice Avg: 0.4604  HD L: 11.6210  HD R: 18.1019  HD95 L: 5.9929  HD95 R: 8.2516  ASSD L: 1.5336  ASSD R: 1.4745  RVE L: 0.5195  RVE R: 1.3009\n"
     ]
    },
    {
     "name": "stderr",
     "output_type": "stream",
     "text": [
      "                                                                        "
     ]
    },
    {
     "name": "stdout",
     "output_type": "stream",
     "text": [
      "Epoch 19/50 - Loss: 0.4486\n"
     ]
    },
    {
     "name": "stderr",
     "output_type": "stream",
     "text": [
      "\r"
     ]
    },
    {
     "name": "stdout",
     "output_type": "stream",
     "text": [
      "Val Dice L: 0.5432  Dice R: 0.5001  Dice Avg: 0.5217  HD L: 6.2010  HD R: 13.2735  HD95 L: 2.2880  HD95 R: 6.2303  ASSD L: 0.7147  ASSD R: 1.3093  RVE L: 0.3844  RVE R: 0.4483\n"
     ]
    },
    {
     "name": "stderr",
     "output_type": "stream",
     "text": [
      "                                                                        "
     ]
    },
    {
     "name": "stdout",
     "output_type": "stream",
     "text": [
      "Epoch 20/50 - Loss: 0.4497\n"
     ]
    },
    {
     "name": "stderr",
     "output_type": "stream",
     "text": [
      "\r"
     ]
    },
    {
     "name": "stdout",
     "output_type": "stream",
     "text": [
      "Val Dice L: 0.5260  Dice R: 0.4894  Dice Avg: 0.5077  HD L: 9.0305  HD R: 9.2274  HD95 L: 4.2226  HD95 R: 5.0492  ASSD L: 0.9398  ASSD R: 1.0534  RVE L: 0.3443  RVE R: 0.2517\n"
     ]
    },
    {
     "name": "stderr",
     "output_type": "stream",
     "text": [
      "                                                                        "
     ]
    },
    {
     "name": "stdout",
     "output_type": "stream",
     "text": [
      "Epoch 21/50 - Loss: 0.4137\n"
     ]
    },
    {
     "name": "stderr",
     "output_type": "stream",
     "text": [
      "\r"
     ]
    },
    {
     "name": "stdout",
     "output_type": "stream",
     "text": [
      "Val Dice L: 0.4930  Dice R: 0.4664  Dice Avg: 0.4797  HD L: 11.0956  HD R: 11.2062  HD95 L: 6.3729  HD95 R: 5.3153  ASSD L: 1.3973  ASSD R: 1.3920  RVE L: 0.4691  RVE R: 0.1835\n"
     ]
    },
    {
     "name": "stderr",
     "output_type": "stream",
     "text": [
      "                                                                        "
     ]
    },
    {
     "name": "stdout",
     "output_type": "stream",
     "text": [
      "Epoch 22/50 - Loss: 0.4281\n"
     ]
    },
    {
     "name": "stderr",
     "output_type": "stream",
     "text": [
      "\r"
     ]
    },
    {
     "name": "stdout",
     "output_type": "stream",
     "text": [
      "Val Dice L: 0.5380  Dice R: 0.5105  Dice Avg: 0.5243  HD L: 7.8136  HD R: 12.9300  HD95 L: 2.6775  HD95 R: 4.6046  ASSD L: 0.8116  ASSD R: 1.1849  RVE L: -0.0100  RVE R: 0.4129\n",
      "Nuevo mejor modelo guardado - Avg Dice: 0.5243\n"
     ]
    },
    {
     "name": "stderr",
     "output_type": "stream",
     "text": [
      "                                                                        "
     ]
    },
    {
     "name": "stdout",
     "output_type": "stream",
     "text": [
      "Epoch 23/50 - Loss: 0.4041\n"
     ]
    },
    {
     "name": "stderr",
     "output_type": "stream",
     "text": [
      "\r"
     ]
    },
    {
     "name": "stdout",
     "output_type": "stream",
     "text": [
      "Val Dice L: 0.5634  Dice R: 0.5628  Dice Avg: 0.5631  HD L: 4.0034  HD R: 6.6184  HD95 L: 1.8811  HD95 R: 2.8005  ASSD L: 0.6187  ASSD R: 0.7130  RVE L: 0.0045  RVE R: 0.1911\n",
      "Nuevo mejor modelo guardado - Avg Dice: 0.5631\n"
     ]
    },
    {
     "name": "stderr",
     "output_type": "stream",
     "text": [
      "                                                                        "
     ]
    },
    {
     "name": "stdout",
     "output_type": "stream",
     "text": [
      "Epoch 24/50 - Loss: 0.4075\n"
     ]
    },
    {
     "name": "stderr",
     "output_type": "stream",
     "text": [
      "\r"
     ]
    },
    {
     "name": "stdout",
     "output_type": "stream",
     "text": [
      "Val Dice L: 0.5412  Dice R: 0.5516  Dice Avg: 0.5464  HD L: 8.4539  HD R: 9.3214  HD95 L: 3.6377  HD95 R: 5.6201  ASSD L: 0.9626  ASSD R: 1.0567  RVE L: 0.2672  RVE R: 0.4169\n"
     ]
    },
    {
     "name": "stderr",
     "output_type": "stream",
     "text": [
      "                                                                        "
     ]
    },
    {
     "name": "stdout",
     "output_type": "stream",
     "text": [
      "Epoch 25/50 - Loss: 0.3915\n"
     ]
    },
    {
     "name": "stderr",
     "output_type": "stream",
     "text": [
      "\r"
     ]
    },
    {
     "name": "stdout",
     "output_type": "stream",
     "text": [
      "Val Dice L: 0.5603  Dice R: 0.5315  Dice Avg: 0.5459  HD L: 3.7445  HD R: 17.1529  HD95 L: 1.9589  HD95 R: 8.0044  ASSD L: 0.6424  ASSD R: 1.4280  RVE L: 0.2916  RVE R: 0.5593\n"
     ]
    },
    {
     "name": "stderr",
     "output_type": "stream",
     "text": [
      "                                                                        "
     ]
    },
    {
     "name": "stdout",
     "output_type": "stream",
     "text": [
      "Epoch 26/50 - Loss: 0.4078\n"
     ]
    },
    {
     "name": "stderr",
     "output_type": "stream",
     "text": [
      "\r"
     ]
    },
    {
     "name": "stdout",
     "output_type": "stream",
     "text": [
      "Val Dice L: 0.5619  Dice R: 0.6001  Dice Avg: 0.5810  HD L: 4.7207  HD R: 5.9338  HD95 L: 2.4052  HD95 R: 2.5932  ASSD L: 0.6646  ASSD R: 0.6099  RVE L: -0.0349  RVE R: 0.1132\n",
      "Nuevo mejor modelo guardado - Avg Dice: 0.5810\n"
     ]
    },
    {
     "name": "stderr",
     "output_type": "stream",
     "text": [
      "                                                                        "
     ]
    },
    {
     "name": "stdout",
     "output_type": "stream",
     "text": [
      "Epoch 27/50 - Loss: 0.3772\n"
     ]
    },
    {
     "name": "stderr",
     "output_type": "stream",
     "text": [
      "\r"
     ]
    },
    {
     "name": "stdout",
     "output_type": "stream",
     "text": [
      "Val Dice L: 0.5635  Dice R: 0.5789  Dice Avg: 0.5712  HD L: 5.2973  HD R: 4.2187  HD95 L: 2.1160  HD95 R: 1.7715  ASSD L: 0.6171  ASSD R: 0.5434  RVE L: 0.5200  RVE R: 0.3819\n"
     ]
    },
    {
     "name": "stderr",
     "output_type": "stream",
     "text": [
      "                                                                        "
     ]
    },
    {
     "name": "stdout",
     "output_type": "stream",
     "text": [
      "Epoch 28/50 - Loss: 0.3776\n"
     ]
    },
    {
     "name": "stderr",
     "output_type": "stream",
     "text": [
      "\r"
     ]
    },
    {
     "name": "stdout",
     "output_type": "stream",
     "text": [
      "Val Dice L: 0.5515  Dice R: 0.5553  Dice Avg: 0.5534  HD L: 6.9930  HD R: 8.5507  HD95 L: 3.7802  HD95 R: 4.9170  ASSD L: 0.8473  ASSD R: 0.9524  RVE L: -0.0725  RVE R: 0.3196\n"
     ]
    },
    {
     "name": "stderr",
     "output_type": "stream",
     "text": [
      "                                                                        "
     ]
    },
    {
     "name": "stdout",
     "output_type": "stream",
     "text": [
      "Epoch 29/50 - Loss: 0.3758\n"
     ]
    },
    {
     "name": "stderr",
     "output_type": "stream",
     "text": [
      "\r"
     ]
    },
    {
     "name": "stdout",
     "output_type": "stream",
     "text": [
      "Val Dice L: 0.5217  Dice R: 0.4701  Dice Avg: 0.4959  HD L: 10.3794  HD R: 10.4348  HD95 L: 4.8296  HD95 R: 6.7099  ASSD L: 1.2263  ASSD R: 2.0157  RVE L: -0.0687  RVE R: -0.2545\n"
     ]
    },
    {
     "name": "stderr",
     "output_type": "stream",
     "text": [
      "                                                                        "
     ]
    },
    {
     "name": "stdout",
     "output_type": "stream",
     "text": [
      "Epoch 30/50 - Loss: 0.3703\n"
     ]
    },
    {
     "name": "stderr",
     "output_type": "stream",
     "text": [
      "\r"
     ]
    },
    {
     "name": "stdout",
     "output_type": "stream",
     "text": [
      "Val Dice L: 0.5719  Dice R: 0.5858  Dice Avg: 0.5789  HD L: 4.9837  HD R: 5.7259  HD95 L: 2.9469  HD95 R: 2.0961  ASSD L: 0.7489  ASSD R: 0.5749  RVE L: 0.2375  RVE R: -0.0879\n"
     ]
    },
    {
     "name": "stderr",
     "output_type": "stream",
     "text": [
      "                                                                        "
     ]
    },
    {
     "name": "stdout",
     "output_type": "stream",
     "text": [
      "Epoch 31/50 - Loss: 0.3560\n"
     ]
    },
    {
     "name": "stderr",
     "output_type": "stream",
     "text": [
      "\r"
     ]
    },
    {
     "name": "stdout",
     "output_type": "stream",
     "text": [
      "Val Dice L: 0.5732  Dice R: 0.5955  Dice Avg: 0.5844  HD L: 4.3062  HD R: 6.6562  HD95 L: 1.9179  HD95 R: 3.2921  ASSD L: 0.6254  ASSD R: 0.7330  RVE L: 0.3387  RVE R: 0.2514\n",
      "Nuevo mejor modelo guardado - Avg Dice: 0.5844\n"
     ]
    },
    {
     "name": "stderr",
     "output_type": "stream",
     "text": [
      "                                                                        "
     ]
    },
    {
     "name": "stdout",
     "output_type": "stream",
     "text": [
      "Epoch 32/50 - Loss: 0.3526\n"
     ]
    },
    {
     "name": "stderr",
     "output_type": "stream",
     "text": [
      "\r"
     ]
    },
    {
     "name": "stdout",
     "output_type": "stream",
     "text": [
      "Val Dice L: 0.5261  Dice R: 0.5789  Dice Avg: 0.5525  HD L: 5.3819  HD R: 14.0842  HD95 L: 3.0607  HD95 R: 7.5276  ASSD L: 0.8301  ASSD R: 1.5440  RVE L: -0.2778  RVE R: 0.0663\n"
     ]
    },
    {
     "name": "stderr",
     "output_type": "stream",
     "text": [
      "                                                                        "
     ]
    },
    {
     "name": "stdout",
     "output_type": "stream",
     "text": [
      "Epoch 33/50 - Loss: 0.3786\n"
     ]
    },
    {
     "name": "stderr",
     "output_type": "stream",
     "text": [
      "\r"
     ]
    },
    {
     "name": "stdout",
     "output_type": "stream",
     "text": [
      "Val Dice L: 0.5931  Dice R: 0.6104  Dice Avg: 0.6017  HD L: 5.3901  HD R: 6.8055  HD95 L: 2.0565  HD95 R: 3.0723  ASSD L: 0.6133  ASSD R: 0.6790  RVE L: 0.0573  RVE R: 0.0261\n",
      "Nuevo mejor modelo guardado - Avg Dice: 0.6017\n"
     ]
    },
    {
     "name": "stderr",
     "output_type": "stream",
     "text": [
      "                                                                        "
     ]
    },
    {
     "name": "stdout",
     "output_type": "stream",
     "text": [
      "Epoch 34/50 - Loss: 0.3617\n"
     ]
    },
    {
     "name": "stderr",
     "output_type": "stream",
     "text": [
      "\r"
     ]
    },
    {
     "name": "stdout",
     "output_type": "stream",
     "text": [
      "Val Dice L: 0.5574  Dice R: 0.5875  Dice Avg: 0.5725  HD L: 6.0213  HD R: 10.4251  HD95 L: 3.2205  HD95 R: 5.7716  ASSD L: 0.8139  ASSD R: 1.1205  RVE L: -0.1743  RVE R: -0.0039\n"
     ]
    },
    {
     "name": "stderr",
     "output_type": "stream",
     "text": [
      "                                                                        "
     ]
    },
    {
     "name": "stdout",
     "output_type": "stream",
     "text": [
      "Epoch 35/50 - Loss: 0.3417\n"
     ]
    },
    {
     "name": "stderr",
     "output_type": "stream",
     "text": [
      "\r"
     ]
    },
    {
     "name": "stdout",
     "output_type": "stream",
     "text": [
      "Val Dice L: 0.5877  Dice R: 0.6030  Dice Avg: 0.5953  HD L: 5.5553  HD R: 11.0016  HD95 L: 2.0635  HD95 R: 6.4533  ASSD L: 0.6869  ASSD R: 1.2034  RVE L: 0.1266  RVE R: 0.3532\n"
     ]
    },
    {
     "name": "stderr",
     "output_type": "stream",
     "text": [
      "                                                                        "
     ]
    },
    {
     "name": "stdout",
     "output_type": "stream",
     "text": [
      "Epoch 36/50 - Loss: 0.3344\n"
     ]
    },
    {
     "name": "stderr",
     "output_type": "stream",
     "text": [
      "\r"
     ]
    },
    {
     "name": "stdout",
     "output_type": "stream",
     "text": [
      "Val Dice L: 0.6035  Dice R: 0.6220  Dice Avg: 0.6127  HD L: 3.8379  HD R: 9.1155  HD95 L: 1.7969  HD95 R: 3.7366  ASSD L: 0.5747  ASSD R: 0.8294  RVE L: 0.2615  RVE R: 0.1380\n",
      "Nuevo mejor modelo guardado - Avg Dice: 0.6127\n"
     ]
    },
    {
     "name": "stderr",
     "output_type": "stream",
     "text": [
      "                                                                        "
     ]
    },
    {
     "name": "stdout",
     "output_type": "stream",
     "text": [
      "Epoch 37/50 - Loss: 0.3247\n"
     ]
    },
    {
     "name": "stderr",
     "output_type": "stream",
     "text": [
      "\r"
     ]
    },
    {
     "name": "stdout",
     "output_type": "stream",
     "text": [
      "Val Dice L: 0.6043  Dice R: 0.6119  Dice Avg: 0.6081  HD L: 4.0571  HD R: 6.0010  HD95 L: 2.2630  HD95 R: 3.1193  ASSD L: 0.5927  ASSD R: 0.6601  RVE L: 0.1682  RVE R: -0.1269\n"
     ]
    },
    {
     "name": "stderr",
     "output_type": "stream",
     "text": [
      "                                                                        "
     ]
    },
    {
     "name": "stdout",
     "output_type": "stream",
     "text": [
      "Epoch 38/50 - Loss: 0.3413\n"
     ]
    },
    {
     "name": "stderr",
     "output_type": "stream",
     "text": [
      "\r"
     ]
    },
    {
     "name": "stdout",
     "output_type": "stream",
     "text": [
      "Val Dice L: 0.5616  Dice R: 0.5246  Dice Avg: 0.5431  HD L: 6.2824  HD R: 6.0590  HD95 L: 3.5457  HD95 R: 3.4731  ASSD L: 0.8557  ASSD R: 0.7381  RVE L: 0.0198  RVE R: -0.2275\n"
     ]
    },
    {
     "name": "stderr",
     "output_type": "stream",
     "text": [
      "                                                                        "
     ]
    },
    {
     "name": "stdout",
     "output_type": "stream",
     "text": [
      "Epoch 39/50 - Loss: 0.3450\n"
     ]
    },
    {
     "name": "stderr",
     "output_type": "stream",
     "text": [
      "\r"
     ]
    },
    {
     "name": "stdout",
     "output_type": "stream",
     "text": [
      "Val Dice L: 0.5903  Dice R: 0.6121  Dice Avg: 0.6012  HD L: 4.7278  HD R: 5.3795  HD95 L: 2.4964  HD95 R: 3.0425  ASSD L: 0.6480  ASSD R: 0.6355  RVE L: -0.0785  RVE R: 0.0724\n"
     ]
    },
    {
     "name": "stderr",
     "output_type": "stream",
     "text": [
      "                                                                        "
     ]
    },
    {
     "name": "stdout",
     "output_type": "stream",
     "text": [
      "Epoch 40/50 - Loss: 0.3275\n"
     ]
    },
    {
     "name": "stderr",
     "output_type": "stream",
     "text": [
      "\r"
     ]
    },
    {
     "name": "stdout",
     "output_type": "stream",
     "text": [
      "Val Dice L: 0.6150  Dice R: 0.6100  Dice Avg: 0.6125  HD L: 3.9437  HD R: 5.2785  HD95 L: 1.6915  HD95 R: 2.7970  ASSD L: 0.5377  ASSD R: 0.6176  RVE L: 0.1743  RVE R: 0.1526\n"
     ]
    },
    {
     "name": "stderr",
     "output_type": "stream",
     "text": [
      "                                                                        "
     ]
    },
    {
     "name": "stdout",
     "output_type": "stream",
     "text": [
      "Epoch 41/50 - Loss: 0.3162\n"
     ]
    },
    {
     "name": "stderr",
     "output_type": "stream",
     "text": [
      "\r"
     ]
    },
    {
     "name": "stdout",
     "output_type": "stream",
     "text": [
      "Val Dice L: 0.6028  Dice R: 0.6322  Dice Avg: 0.6175  HD L: 5.2507  HD R: 4.8934  HD95 L: 2.3250  HD95 R: 2.6944  ASSD L: 0.6141  ASSD R: 0.5752  RVE L: 0.2280  RVE R: 0.2247\n",
      "Nuevo mejor modelo guardado - Avg Dice: 0.6175\n"
     ]
    },
    {
     "name": "stderr",
     "output_type": "stream",
     "text": [
      "                                                                        "
     ]
    },
    {
     "name": "stdout",
     "output_type": "stream",
     "text": [
      "Epoch 42/50 - Loss: 0.3182\n"
     ]
    },
    {
     "name": "stderr",
     "output_type": "stream",
     "text": [
      "\r"
     ]
    },
    {
     "name": "stdout",
     "output_type": "stream",
     "text": [
      "Val Dice L: 0.6119  Dice R: 0.6245  Dice Avg: 0.6182  HD L: 5.5491  HD R: 6.4924  HD95 L: 1.8294  HD95 R: 3.8029  ASSD L: 0.5864  ASSD R: 0.7199  RVE L: 0.1215  RVE R: -0.0208\n",
      "Nuevo mejor modelo guardado - Avg Dice: 0.6182\n"
     ]
    },
    {
     "name": "stderr",
     "output_type": "stream",
     "text": [
      "                                                                        "
     ]
    },
    {
     "name": "stdout",
     "output_type": "stream",
     "text": [
      "Epoch 43/50 - Loss: 0.3273\n"
     ]
    },
    {
     "name": "stderr",
     "output_type": "stream",
     "text": [
      "\r"
     ]
    },
    {
     "name": "stdout",
     "output_type": "stream",
     "text": [
      "Val Dice L: 0.6038  Dice R: 0.6385  Dice Avg: 0.6211  HD L: 4.4316  HD R: 5.3437  HD95 L: 2.2725  HD95 R: 2.7554  ASSD L: 0.6503  ASSD R: 0.5699  RVE L: 0.3056  RVE R: 0.2277\n",
      "Nuevo mejor modelo guardado - Avg Dice: 0.6211\n"
     ]
    },
    {
     "name": "stderr",
     "output_type": "stream",
     "text": [
      "                                                                        "
     ]
    },
    {
     "name": "stdout",
     "output_type": "stream",
     "text": [
      "Epoch 44/50 - Loss: 0.3118\n"
     ]
    },
    {
     "name": "stderr",
     "output_type": "stream",
     "text": [
      "\r"
     ]
    },
    {
     "name": "stdout",
     "output_type": "stream",
     "text": [
      "Val Dice L: 0.6119  Dice R: 0.6431  Dice Avg: 0.6275  HD L: 6.3646  HD R: 4.1476  HD95 L: 3.9667  HD95 R: 2.5312  ASSD L: 0.7967  ASSD R: 0.5234  RVE L: 0.3035  RVE R: 0.2543\n",
      "Nuevo mejor modelo guardado - Avg Dice: 0.6275\n"
     ]
    },
    {
     "name": "stderr",
     "output_type": "stream",
     "text": [
      "                                                                        "
     ]
    },
    {
     "name": "stdout",
     "output_type": "stream",
     "text": [
      "Epoch 45/50 - Loss: 0.3167\n"
     ]
    },
    {
     "name": "stderr",
     "output_type": "stream",
     "text": [
      "\r"
     ]
    },
    {
     "name": "stdout",
     "output_type": "stream",
     "text": [
      "Val Dice L: 0.6205  Dice R: 0.6436  Dice Avg: 0.6321  HD L: 4.4525  HD R: 5.9126  HD95 L: 2.1110  HD95 R: 1.6837  ASSD L: 0.5503  ASSD R: 0.5094  RVE L: 0.0699  RVE R: 0.1530\n",
      "Nuevo mejor modelo guardado - Avg Dice: 0.6321\n"
     ]
    },
    {
     "name": "stderr",
     "output_type": "stream",
     "text": [
      "                                                                        "
     ]
    },
    {
     "name": "stdout",
     "output_type": "stream",
     "text": [
      "Epoch 46/50 - Loss: 0.3169\n"
     ]
    },
    {
     "name": "stderr",
     "output_type": "stream",
     "text": [
      "\r"
     ]
    },
    {
     "name": "stdout",
     "output_type": "stream",
     "text": [
      "Val Dice L: 0.6193  Dice R: 0.6330  Dice Avg: 0.6261  HD L: 7.3728  HD R: 4.4279  HD95 L: 2.8357  HD95 R: 1.7517  ASSD L: 0.7332  ASSD R: 0.5133  RVE L: 0.2565  RVE R: -0.0554\n"
     ]
    },
    {
     "name": "stderr",
     "output_type": "stream",
     "text": [
      "                                                                        "
     ]
    },
    {
     "name": "stdout",
     "output_type": "stream",
     "text": [
      "Epoch 47/50 - Loss: 0.3201\n"
     ]
    },
    {
     "name": "stderr",
     "output_type": "stream",
     "text": [
      "\r"
     ]
    },
    {
     "name": "stdout",
     "output_type": "stream",
     "text": [
      "Val Dice L: 0.6085  Dice R: 0.6432  Dice Avg: 0.6259  HD L: 5.6927  HD R: 5.9253  HD95 L: 2.7714  HD95 R: 2.7780  ASSD L: 0.8014  ASSD R: 0.6563  RVE L: 0.0695  RVE R: 0.1045\n"
     ]
    },
    {
     "name": "stderr",
     "output_type": "stream",
     "text": [
      "                                                                        "
     ]
    },
    {
     "name": "stdout",
     "output_type": "stream",
     "text": [
      "Epoch 48/50 - Loss: 0.3093\n"
     ]
    },
    {
     "name": "stderr",
     "output_type": "stream",
     "text": [
      "\r"
     ]
    },
    {
     "name": "stdout",
     "output_type": "stream",
     "text": [
      "Val Dice L: 0.6305  Dice R: 0.6269  Dice Avg: 0.6287  HD L: 4.7695  HD R: 5.1548  HD95 L: 2.5618  HD95 R: 2.2721  ASSD L: 0.6836  ASSD R: 0.5769  RVE L: 0.2375  RVE R: 0.0196\n"
     ]
    },
    {
     "name": "stderr",
     "output_type": "stream",
     "text": [
      "                                                                        "
     ]
    },
    {
     "name": "stdout",
     "output_type": "stream",
     "text": [
      "Epoch 49/50 - Loss: 0.3029\n"
     ]
    },
    {
     "name": "stderr",
     "output_type": "stream",
     "text": [
      "\r"
     ]
    },
    {
     "name": "stdout",
     "output_type": "stream",
     "text": [
      "Val Dice L: 0.6109  Dice R: 0.5680  Dice Avg: 0.5895  HD L: 7.0319  HD R: 6.1433  HD95 L: 3.8526  HD95 R: 3.2945  ASSD L: 0.8982  ASSD R: 0.7307  RVE L: 0.1374  RVE R: -0.1978\n"
     ]
    },
    {
     "name": "stderr",
     "output_type": "stream",
     "text": [
      "                                                                        "
     ]
    },
    {
     "name": "stdout",
     "output_type": "stream",
     "text": [
      "Epoch 50/50 - Loss: 0.3158\n"
     ]
    },
    {
     "name": "stderr",
     "output_type": "stream",
     "text": [
      "\r"
     ]
    },
    {
     "name": "stdout",
     "output_type": "stream",
     "text": [
      "Val Dice L: 0.6214  Dice R: 0.6413  Dice Avg: 0.6313  HD L: 4.4082  HD R: 6.4105  HD95 L: 2.5757  HD95 R: 3.6852  ASSD L: 0.6328  ASSD R: 0.7153  RVE L: 0.0963  RVE R: 0.0714\n",
      "Resumen métricas fold: {'dice_L': 0.6204792249249338, 'dice_R': 0.6436372627022413, 'dice_Avg': 0.6320582438135876, 'hd_L': 4.452452753527388, 'hd_R': 5.912611502945637, 'hd_Avg': 5.182532128236513, 'hd95_L': 2.1109569735428595, 'hd95_R': 1.6836620305384749, 'hd95_Avg': 1.8973095020406672, 'assd_L': 0.5502592841518352, 'assd_R': 0.5094498308813331, 'assd_Avg': 0.5298545575165842, 'rve_L': 0.06988349055641377, 'rve_R': 0.1529856138535255, 'rve_Avg': 0.11143455220496963}\n",
      "\n",
      "===== Fold 3/5 =====\n"
     ]
    },
    {
     "name": "stderr",
     "output_type": "stream",
     "text": [
      "                                                                       "
     ]
    },
    {
     "name": "stdout",
     "output_type": "stream",
     "text": [
      "Epoch 1/50 - Loss: 1.0874\n"
     ]
    },
    {
     "name": "stderr",
     "output_type": "stream",
     "text": [
      "\r"
     ]
    },
    {
     "name": "stdout",
     "output_type": "stream",
     "text": [
      "Val Dice L: 0.0000  Dice R: 0.0000  Dice Avg: 0.0000  HD L: nan  HD R: nan  HD95 L: nan  HD95 R: nan  ASSD L: nan  ASSD R: nan  RVE L: -1.0000  RVE R: -1.0000\n"
     ]
    },
    {
     "name": "stderr",
     "output_type": "stream",
     "text": [
      "                                                                       "
     ]
    },
    {
     "name": "stdout",
     "output_type": "stream",
     "text": [
      "Epoch 2/50 - Loss: 0.7825\n"
     ]
    },
    {
     "name": "stderr",
     "output_type": "stream",
     "text": [
      "\r"
     ]
    },
    {
     "name": "stdout",
     "output_type": "stream",
     "text": [
      "Val Dice L: 0.0000  Dice R: 0.0000  Dice Avg: 0.0000  HD L: nan  HD R: nan  HD95 L: nan  HD95 R: nan  ASSD L: nan  ASSD R: nan  RVE L: -1.0000  RVE R: -1.0000\n"
     ]
    },
    {
     "name": "stderr",
     "output_type": "stream",
     "text": [
      "                                                                       "
     ]
    },
    {
     "name": "stdout",
     "output_type": "stream",
     "text": [
      "Epoch 3/50 - Loss: 0.7441\n"
     ]
    },
    {
     "name": "stderr",
     "output_type": "stream",
     "text": [
      "\r"
     ]
    },
    {
     "name": "stdout",
     "output_type": "stream",
     "text": [
      "Val Dice L: 0.0000  Dice R: 0.0000  Dice Avg: 0.0000  HD L: nan  HD R: nan  HD95 L: nan  HD95 R: nan  ASSD L: nan  ASSD R: nan  RVE L: -1.0000  RVE R: -1.0000\n"
     ]
    },
    {
     "name": "stderr",
     "output_type": "stream",
     "text": [
      "                                                                       "
     ]
    },
    {
     "name": "stdout",
     "output_type": "stream",
     "text": [
      "Epoch 4/50 - Loss: 0.7213\n"
     ]
    },
    {
     "name": "stderr",
     "output_type": "stream",
     "text": [
      "\r"
     ]
    },
    {
     "name": "stdout",
     "output_type": "stream",
     "text": [
      "Val Dice L: 0.0000  Dice R: 0.0000  Dice Avg: 0.0000  HD L: nan  HD R: nan  HD95 L: nan  HD95 R: nan  ASSD L: nan  ASSD R: nan  RVE L: -1.0000  RVE R: -1.0000\n"
     ]
    },
    {
     "name": "stderr",
     "output_type": "stream",
     "text": [
      "                                                                       "
     ]
    },
    {
     "name": "stdout",
     "output_type": "stream",
     "text": [
      "Epoch 5/50 - Loss: 0.7055\n"
     ]
    },
    {
     "name": "stderr",
     "output_type": "stream",
     "text": [
      "\r"
     ]
    },
    {
     "name": "stdout",
     "output_type": "stream",
     "text": [
      "Val Dice L: 0.0000  Dice R: 0.0000  Dice Avg: 0.0000  HD L: nan  HD R: nan  HD95 L: nan  HD95 R: nan  ASSD L: nan  ASSD R: nan  RVE L: -1.0000  RVE R: -1.0000\n"
     ]
    },
    {
     "name": "stderr",
     "output_type": "stream",
     "text": [
      "                                                                       "
     ]
    },
    {
     "name": "stdout",
     "output_type": "stream",
     "text": [
      "Epoch 6/50 - Loss: 0.6969\n"
     ]
    },
    {
     "name": "stderr",
     "output_type": "stream",
     "text": [
      "\r"
     ]
    },
    {
     "name": "stdout",
     "output_type": "stream",
     "text": [
      "Val Dice L: 0.0000  Dice R: 0.0000  Dice Avg: 0.0000  HD L: nan  HD R: nan  HD95 L: nan  HD95 R: nan  ASSD L: nan  ASSD R: nan  RVE L: -1.0000  RVE R: -1.0000\n"
     ]
    },
    {
     "name": "stderr",
     "output_type": "stream",
     "text": [
      "                                                                       "
     ]
    },
    {
     "name": "stdout",
     "output_type": "stream",
     "text": [
      "Epoch 7/50 - Loss: 0.6910\n"
     ]
    },
    {
     "name": "stderr",
     "output_type": "stream",
     "text": [
      "\r"
     ]
    },
    {
     "name": "stdout",
     "output_type": "stream",
     "text": [
      "Val Dice L: 0.0000  Dice R: 0.0000  Dice Avg: 0.0000  HD L: nan  HD R: nan  HD95 L: nan  HD95 R: nan  ASSD L: nan  ASSD R: nan  RVE L: -1.0000  RVE R: -1.0000\n"
     ]
    },
    {
     "name": "stderr",
     "output_type": "stream",
     "text": [
      "                                                                       "
     ]
    },
    {
     "name": "stdout",
     "output_type": "stream",
     "text": [
      "Epoch 8/50 - Loss: 0.6869\n"
     ]
    },
    {
     "name": "stderr",
     "output_type": "stream",
     "text": [
      "\r"
     ]
    },
    {
     "name": "stdout",
     "output_type": "stream",
     "text": [
      "Val Dice L: 0.0000  Dice R: 0.2313  Dice Avg: 0.1156  HD L: nan  HD R: 11.9911  HD95 L: nan  HD95 R: 8.5840  ASSD L: nan  ASSD R: 2.6042  RVE L: -1.0000  RVE R: -0.1276\n",
      "Nuevo mejor modelo guardado - Avg Dice: 0.1156\n"
     ]
    },
    {
     "name": "stderr",
     "output_type": "stream",
     "text": [
      "                                                                       "
     ]
    },
    {
     "name": "stdout",
     "output_type": "stream",
     "text": [
      "Epoch 9/50 - Loss: 0.6819\n"
     ]
    },
    {
     "name": "stderr",
     "output_type": "stream",
     "text": [
      "\r"
     ]
    },
    {
     "name": "stdout",
     "output_type": "stream",
     "text": [
      "Val Dice L: 0.0000  Dice R: 0.1561  Dice Avg: 0.0780  HD L: nan  HD R: 14.1952  HD95 L: nan  HD95 R: 10.3522  ASSD L: nan  ASSD R: 4.3064  RVE L: -1.0000  RVE R: -0.5329\n"
     ]
    },
    {
     "name": "stderr",
     "output_type": "stream",
     "text": [
      "                                                                       "
     ]
    },
    {
     "name": "stdout",
     "output_type": "stream",
     "text": [
      "Epoch 10/50 - Loss: 0.6749\n"
     ]
    },
    {
     "name": "stderr",
     "output_type": "stream",
     "text": [
      "\r"
     ]
    },
    {
     "name": "stdout",
     "output_type": "stream",
     "text": [
      "Val Dice L: 0.2708  Dice R: 0.2390  Dice Avg: 0.2549  HD L: 8.5125  HD R: 7.8974  HD95 L: 5.1217  HD95 R: 5.8914  ASSD L: 1.6147  ASSD R: 1.7101  RVE L: -0.0232  RVE R: -0.4891\n",
      "Nuevo mejor modelo guardado - Avg Dice: 0.2549\n"
     ]
    },
    {
     "name": "stderr",
     "output_type": "stream",
     "text": [
      "                                                                        "
     ]
    },
    {
     "name": "stdout",
     "output_type": "stream",
     "text": [
      "Epoch 11/50 - Loss: 0.6655\n"
     ]
    },
    {
     "name": "stderr",
     "output_type": "stream",
     "text": [
      "\r"
     ]
    },
    {
     "name": "stdout",
     "output_type": "stream",
     "text": [
      "Val Dice L: 0.2822  Dice R: 0.3595  Dice Avg: 0.3209  HD L: 17.7760  HD R: 6.3057  HD95 L: 14.2267  HD95 R: 3.8256  ASSD L: 3.0990  ASSD R: 1.1383  RVE L: 2.2114  RVE R: 1.1833\n",
      "Nuevo mejor modelo guardado - Avg Dice: 0.3209\n"
     ]
    },
    {
     "name": "stderr",
     "output_type": "stream",
     "text": [
      "                                                                        "
     ]
    },
    {
     "name": "stdout",
     "output_type": "stream",
     "text": [
      "Epoch 12/50 - Loss: 0.6523\n"
     ]
    },
    {
     "name": "stderr",
     "output_type": "stream",
     "text": [
      "\r"
     ]
    },
    {
     "name": "stdout",
     "output_type": "stream",
     "text": [
      "Val Dice L: 0.2049  Dice R: 0.3256  Dice Avg: 0.2653  HD L: 14.9913  HD R: 5.2022  HD95 L: 7.1924  HD95 R: 3.5145  ASSD L: 1.5662  ASSD R: 1.1302  RVE L: 7.2216  RVE R: 1.2277\n"
     ]
    },
    {
     "name": "stderr",
     "output_type": "stream",
     "text": [
      "                                                                        "
     ]
    },
    {
     "name": "stdout",
     "output_type": "stream",
     "text": [
      "Epoch 13/50 - Loss: 0.6340\n"
     ]
    },
    {
     "name": "stderr",
     "output_type": "stream",
     "text": [
      "\r"
     ]
    },
    {
     "name": "stdout",
     "output_type": "stream",
     "text": [
      "Val Dice L: 0.1995  Dice R: 0.3231  Dice Avg: 0.2613  HD L: 12.2567  HD R: 10.2244  HD95 L: 6.5552  HD95 R: 6.0348  ASSD L: 1.4080  ASSD R: 1.1088  RVE L: 7.6930  RVE R: 3.6364\n"
     ]
    },
    {
     "name": "stderr",
     "output_type": "stream",
     "text": [
      "                                                                        "
     ]
    },
    {
     "name": "stdout",
     "output_type": "stream",
     "text": [
      "Epoch 14/50 - Loss: 0.6122\n"
     ]
    },
    {
     "name": "stderr",
     "output_type": "stream",
     "text": [
      "\r"
     ]
    },
    {
     "name": "stdout",
     "output_type": "stream",
     "text": [
      "Val Dice L: 0.3288  Dice R: 0.2870  Dice Avg: 0.3079  HD L: 9.9229  HD R: 21.9296  HD95 L: 5.4699  HD95 R: 11.0681  ASSD L: 1.1248  ASSD R: 1.6235  RVE L: 3.0239  RVE R: 4.7781\n"
     ]
    },
    {
     "name": "stderr",
     "output_type": "stream",
     "text": [
      "                                                                        "
     ]
    },
    {
     "name": "stdout",
     "output_type": "stream",
     "text": [
      "Epoch 15/50 - Loss: 0.6033\n"
     ]
    },
    {
     "name": "stderr",
     "output_type": "stream",
     "text": [
      "\r"
     ]
    },
    {
     "name": "stdout",
     "output_type": "stream",
     "text": [
      "Val Dice L: 0.1748  Dice R: 0.3611  Dice Avg: 0.2679  HD L: 11.4815  HD R: 10.5347  HD95 L: 8.6431  HD95 R: 3.5936  ASSD L: 1.9939  ASSD R: 0.9181  RVE L: -0.7195  RVE R: 2.6427\n"
     ]
    },
    {
     "name": "stderr",
     "output_type": "stream",
     "text": [
      "                                                                        "
     ]
    },
    {
     "name": "stdout",
     "output_type": "stream",
     "text": [
      "Epoch 16/50 - Loss: 0.5645\n"
     ]
    },
    {
     "name": "stderr",
     "output_type": "stream",
     "text": [
      "\r"
     ]
    },
    {
     "name": "stdout",
     "output_type": "stream",
     "text": [
      "Val Dice L: 0.3979  Dice R: 0.4104  Dice Avg: 0.4042  HD L: 5.9494  HD R: 6.6337  HD95 L: 3.3583  HD95 R: 4.0231  ASSD L: 1.0564  ASSD R: 1.0553  RVE L: 0.8520  RVE R: -0.0437\n",
      "Nuevo mejor modelo guardado - Avg Dice: 0.4042\n"
     ]
    },
    {
     "name": "stderr",
     "output_type": "stream",
     "text": [
      "                                                                        "
     ]
    },
    {
     "name": "stdout",
     "output_type": "stream",
     "text": [
      "Epoch 17/50 - Loss: 0.5325\n"
     ]
    },
    {
     "name": "stderr",
     "output_type": "stream",
     "text": [
      "\r"
     ]
    },
    {
     "name": "stdout",
     "output_type": "stream",
     "text": [
      "Val Dice L: 0.3700  Dice R: 0.4806  Dice Avg: 0.4253  HD L: 7.0969  HD R: 8.1920  HD95 L: 2.9415  HD95 R: 3.5038  ASSD L: 0.7926  ASSD R: 0.7890  RVE L: 2.7385  RVE R: 1.3690\n",
      "Nuevo mejor modelo guardado - Avg Dice: 0.4253\n"
     ]
    },
    {
     "name": "stderr",
     "output_type": "stream",
     "text": [
      "                                                                        "
     ]
    },
    {
     "name": "stdout",
     "output_type": "stream",
     "text": [
      "Epoch 18/50 - Loss: 0.5004\n"
     ]
    },
    {
     "name": "stderr",
     "output_type": "stream",
     "text": [
      "\r"
     ]
    },
    {
     "name": "stdout",
     "output_type": "stream",
     "text": [
      "Val Dice L: 0.4946  Dice R: 0.5153  Dice Avg: 0.5049  HD L: 4.8438  HD R: 5.7653  HD95 L: 2.5935  HD95 R: 2.5735  ASSD L: 0.6921  ASSD R: 0.7380  RVE L: 1.0149  RVE R: 0.1024\n",
      "Nuevo mejor modelo guardado - Avg Dice: 0.5049\n"
     ]
    },
    {
     "name": "stderr",
     "output_type": "stream",
     "text": [
      "                                                                        "
     ]
    },
    {
     "name": "stdout",
     "output_type": "stream",
     "text": [
      "Epoch 19/50 - Loss: 0.4766\n"
     ]
    },
    {
     "name": "stderr",
     "output_type": "stream",
     "text": [
      "\r"
     ]
    },
    {
     "name": "stdout",
     "output_type": "stream",
     "text": [
      "Val Dice L: 0.3567  Dice R: 0.4128  Dice Avg: 0.3847  HD L: 18.2126  HD R: 12.2933  HD95 L: 8.1436  HD95 R: 3.4607  ASSD L: 1.2651  ASSD R: 1.0690  RVE L: 2.8726  RVE R: 0.5035\n"
     ]
    },
    {
     "name": "stderr",
     "output_type": "stream",
     "text": [
      "                                                                        "
     ]
    },
    {
     "name": "stdout",
     "output_type": "stream",
     "text": [
      "Epoch 20/50 - Loss: 0.4523\n"
     ]
    },
    {
     "name": "stderr",
     "output_type": "stream",
     "text": [
      "\r"
     ]
    },
    {
     "name": "stdout",
     "output_type": "stream",
     "text": [
      "Val Dice L: 0.5379  Dice R: 0.5348  Dice Avg: 0.5364  HD L: 5.7863  HD R: 4.5942  HD95 L: 2.0605  HD95 R: 2.5577  ASSD L: 0.6710  ASSD R: 0.6992  RVE L: 0.6038  RVE R: 0.2739\n",
      "Nuevo mejor modelo guardado - Avg Dice: 0.5364\n"
     ]
    },
    {
     "name": "stderr",
     "output_type": "stream",
     "text": [
      "                                                                        "
     ]
    },
    {
     "name": "stdout",
     "output_type": "stream",
     "text": [
      "Epoch 21/50 - Loss: 0.4276\n"
     ]
    },
    {
     "name": "stderr",
     "output_type": "stream",
     "text": [
      "\r"
     ]
    },
    {
     "name": "stdout",
     "output_type": "stream",
     "text": [
      "Val Dice L: 0.4759  Dice R: 0.5489  Dice Avg: 0.5124  HD L: 14.3927  HD R: 4.6884  HD95 L: 5.2810  HD95 R: 1.9044  ASSD L: 1.0130  ASSD R: 0.5808  RVE L: 1.4257  RVE R: 0.5785\n"
     ]
    },
    {
     "name": "stderr",
     "output_type": "stream",
     "text": [
      "                                                                        "
     ]
    },
    {
     "name": "stdout",
     "output_type": "stream",
     "text": [
      "Epoch 22/50 - Loss: 0.4126\n"
     ]
    },
    {
     "name": "stderr",
     "output_type": "stream",
     "text": [
      "\r"
     ]
    },
    {
     "name": "stdout",
     "output_type": "stream",
     "text": [
      "Val Dice L: 0.5207  Dice R: 0.5632  Dice Avg: 0.5419  HD L: 5.2035  HD R: 4.6181  HD95 L: 2.3147  HD95 R: 1.9226  ASSD L: 0.7163  ASSD R: 0.5786  RVE L: -0.1262  RVE R: 0.4758\n",
      "Nuevo mejor modelo guardado - Avg Dice: 0.5419\n"
     ]
    },
    {
     "name": "stderr",
     "output_type": "stream",
     "text": [
      "                                                                        "
     ]
    },
    {
     "name": "stdout",
     "output_type": "stream",
     "text": [
      "Epoch 23/50 - Loss: 0.4093\n"
     ]
    },
    {
     "name": "stderr",
     "output_type": "stream",
     "text": [
      "\r"
     ]
    },
    {
     "name": "stdout",
     "output_type": "stream",
     "text": [
      "Val Dice L: 0.5582  Dice R: 0.5756  Dice Avg: 0.5669  HD L: 8.5431  HD R: 4.7147  HD95 L: 2.4211  HD95 R: 2.0956  ASSD L: 0.6691  ASSD R: 0.5769  RVE L: 0.6602  RVE R: 0.3749\n",
      "Nuevo mejor modelo guardado - Avg Dice: 0.5669\n"
     ]
    },
    {
     "name": "stderr",
     "output_type": "stream",
     "text": [
      "                                                                        "
     ]
    },
    {
     "name": "stdout",
     "output_type": "stream",
     "text": [
      "Epoch 24/50 - Loss: 0.4123\n"
     ]
    },
    {
     "name": "stderr",
     "output_type": "stream",
     "text": [
      "\r"
     ]
    },
    {
     "name": "stdout",
     "output_type": "stream",
     "text": [
      "Val Dice L: 0.5432  Dice R: 0.4920  Dice Avg: 0.5176  HD L: 4.0991  HD R: 4.9908  HD95 L: 1.9433  HD95 R: 2.5266  ASSD L: 0.6367  ASSD R: 0.7165  RVE L: 0.4103  RVE R: -0.3500\n"
     ]
    },
    {
     "name": "stderr",
     "output_type": "stream",
     "text": [
      "                                                                        "
     ]
    },
    {
     "name": "stdout",
     "output_type": "stream",
     "text": [
      "Epoch 25/50 - Loss: 0.3947\n"
     ]
    },
    {
     "name": "stderr",
     "output_type": "stream",
     "text": [
      "\r"
     ]
    },
    {
     "name": "stdout",
     "output_type": "stream",
     "text": [
      "Val Dice L: 0.5534  Dice R: 0.5696  Dice Avg: 0.5615  HD L: 6.1946  HD R: 4.9507  HD95 L: 1.8790  HD95 R: 1.7766  ASSD L: 0.6009  ASSD R: 0.5823  RVE L: 0.4668  RVE R: 0.2231\n"
     ]
    },
    {
     "name": "stderr",
     "output_type": "stream",
     "text": [
      "                                                                        "
     ]
    },
    {
     "name": "stdout",
     "output_type": "stream",
     "text": [
      "Epoch 26/50 - Loss: 0.3937\n"
     ]
    },
    {
     "name": "stderr",
     "output_type": "stream",
     "text": [
      "\r"
     ]
    },
    {
     "name": "stdout",
     "output_type": "stream",
     "text": [
      "Val Dice L: 0.5566  Dice R: 0.5652  Dice Avg: 0.5609  HD L: 7.3353  HD R: 5.2207  HD95 L: 1.8247  HD95 R: 2.0001  ASSD L: 0.5833  ASSD R: 0.5375  RVE L: 0.8891  RVE R: 0.8048\n"
     ]
    },
    {
     "name": "stderr",
     "output_type": "stream",
     "text": [
      "                                                                        "
     ]
    },
    {
     "name": "stdout",
     "output_type": "stream",
     "text": [
      "Epoch 27/50 - Loss: 0.3781\n"
     ]
    },
    {
     "name": "stderr",
     "output_type": "stream",
     "text": [
      "\r"
     ]
    },
    {
     "name": "stdout",
     "output_type": "stream",
     "text": [
      "Val Dice L: 0.5297  Dice R: 0.5413  Dice Avg: 0.5355  HD L: 5.1299  HD R: 8.2819  HD95 L: 2.2251  HD95 R: 3.0720  ASSD L: 0.7210  ASSD R: 0.7756  RVE L: -0.0575  RVE R: -0.0984\n"
     ]
    },
    {
     "name": "stderr",
     "output_type": "stream",
     "text": [
      "                                                                        "
     ]
    },
    {
     "name": "stdout",
     "output_type": "stream",
     "text": [
      "Epoch 28/50 - Loss: 0.3770\n"
     ]
    },
    {
     "name": "stderr",
     "output_type": "stream",
     "text": [
      "\r"
     ]
    },
    {
     "name": "stdout",
     "output_type": "stream",
     "text": [
      "Val Dice L: 0.5802  Dice R: 0.5927  Dice Avg: 0.5865  HD L: 4.1751  HD R: 4.2863  HD95 L: 1.7515  HD95 R: 1.7094  ASSD L: 0.5567  ASSD R: 0.5431  RVE L: 0.5332  RVE R: 0.3133\n",
      "Nuevo mejor modelo guardado - Avg Dice: 0.5865\n"
     ]
    },
    {
     "name": "stderr",
     "output_type": "stream",
     "text": [
      "                                                                        "
     ]
    },
    {
     "name": "stdout",
     "output_type": "stream",
     "text": [
      "Epoch 29/50 - Loss: 0.3734\n"
     ]
    },
    {
     "name": "stderr",
     "output_type": "stream",
     "text": [
      "\r"
     ]
    },
    {
     "name": "stdout",
     "output_type": "stream",
     "text": [
      "Val Dice L: 0.5790  Dice R: 0.5526  Dice Avg: 0.5658  HD L: 3.9146  HD R: 6.0051  HD95 L: 1.7700  HD95 R: 2.9615  ASSD L: 0.5772  ASSD R: 0.7373  RVE L: 0.0192  RVE R: -0.2176\n"
     ]
    },
    {
     "name": "stderr",
     "output_type": "stream",
     "text": [
      "                                                                        "
     ]
    },
    {
     "name": "stdout",
     "output_type": "stream",
     "text": [
      "Epoch 30/50 - Loss: 0.3678\n"
     ]
    },
    {
     "name": "stderr",
     "output_type": "stream",
     "text": [
      "\r"
     ]
    },
    {
     "name": "stdout",
     "output_type": "stream",
     "text": [
      "Val Dice L: 0.5258  Dice R: 0.5800  Dice Avg: 0.5529  HD L: 8.7570  HD R: 7.3112  HD95 L: 3.0462  HD95 R: 1.9478  ASSD L: 0.6941  ASSD R: 0.5897  RVE L: 0.9429  RVE R: 0.6790\n"
     ]
    },
    {
     "name": "stderr",
     "output_type": "stream",
     "text": [
      "                                                                        "
     ]
    },
    {
     "name": "stdout",
     "output_type": "stream",
     "text": [
      "Epoch 31/50 - Loss: 0.3676\n"
     ]
    },
    {
     "name": "stderr",
     "output_type": "stream",
     "text": [
      "\r"
     ]
    },
    {
     "name": "stdout",
     "output_type": "stream",
     "text": [
      "Val Dice L: 0.5689  Dice R: 0.6038  Dice Avg: 0.5863  HD L: 3.4497  HD R: 6.1072  HD95 L: 1.7151  HD95 R: 2.7151  ASSD L: 0.5787  ASSD R: 0.6611  RVE L: 0.2107  RVE R: 0.0939\n"
     ]
    },
    {
     "name": "stderr",
     "output_type": "stream",
     "text": [
      "                                                                        "
     ]
    },
    {
     "name": "stdout",
     "output_type": "stream",
     "text": [
      "Epoch 32/50 - Loss: 0.3499\n"
     ]
    },
    {
     "name": "stderr",
     "output_type": "stream",
     "text": [
      "\r"
     ]
    },
    {
     "name": "stdout",
     "output_type": "stream",
     "text": [
      "Val Dice L: 0.5989  Dice R: 0.6052  Dice Avg: 0.6020  HD L: 3.4383  HD R: 3.5996  HD95 L: 1.5768  HD95 R: 1.6000  ASSD L: 0.5458  ASSD R: 0.5194  RVE L: -0.0072  RVE R: -0.0050\n",
      "Nuevo mejor modelo guardado - Avg Dice: 0.6020\n"
     ]
    },
    {
     "name": "stderr",
     "output_type": "stream",
     "text": [
      "                                                                        "
     ]
    },
    {
     "name": "stdout",
     "output_type": "stream",
     "text": [
      "Epoch 33/50 - Loss: 0.3549\n"
     ]
    },
    {
     "name": "stderr",
     "output_type": "stream",
     "text": [
      "\r"
     ]
    },
    {
     "name": "stdout",
     "output_type": "stream",
     "text": [
      "Val Dice L: 0.3759  Dice R: 0.4732  Dice Avg: 0.4246  HD L: 4.3963  HD R: 23.3772  HD95 L: 2.5878  HD95 R: 19.3740  ASSD L: 0.8436  ASSD R: 3.7422  RVE L: -0.4562  RVE R: 0.5829\n"
     ]
    },
    {
     "name": "stderr",
     "output_type": "stream",
     "text": [
      "                                                                        "
     ]
    },
    {
     "name": "stdout",
     "output_type": "stream",
     "text": [
      "Epoch 34/50 - Loss: 0.3554\n"
     ]
    },
    {
     "name": "stderr",
     "output_type": "stream",
     "text": [
      "\r"
     ]
    },
    {
     "name": "stdout",
     "output_type": "stream",
     "text": [
      "Val Dice L: 0.5663  Dice R: 0.5813  Dice Avg: 0.5738  HD L: 4.8757  HD R: 6.0579  HD95 L: 2.1108  HD95 R: 3.1029  ASSD L: 0.6385  ASSD R: 0.6497  RVE L: -0.1052  RVE R: 0.2087\n"
     ]
    },
    {
     "name": "stderr",
     "output_type": "stream",
     "text": [
      "                                                                        "
     ]
    },
    {
     "name": "stdout",
     "output_type": "stream",
     "text": [
      "Epoch 35/50 - Loss: 0.3476\n"
     ]
    },
    {
     "name": "stderr",
     "output_type": "stream",
     "text": [
      "\r"
     ]
    },
    {
     "name": "stdout",
     "output_type": "stream",
     "text": [
      "Val Dice L: 0.5687  Dice R: 0.4860  Dice Avg: 0.5273  HD L: 3.9777  HD R: 13.5835  HD95 L: 1.9986  HD95 R: 5.9453  ASSD L: 0.5787  ASSD R: 1.8099  RVE L: -0.2755  RVE R: -0.3488\n"
     ]
    },
    {
     "name": "stderr",
     "output_type": "stream",
     "text": [
      "                                                                        "
     ]
    },
    {
     "name": "stdout",
     "output_type": "stream",
     "text": [
      "Epoch 36/50 - Loss: 0.3712\n"
     ]
    },
    {
     "name": "stderr",
     "output_type": "stream",
     "text": [
      "\r"
     ]
    },
    {
     "name": "stdout",
     "output_type": "stream",
     "text": [
      "Val Dice L: 0.6245  Dice R: 0.6234  Dice Avg: 0.6240  HD L: 4.2752  HD R: 4.3035  HD95 L: 1.5370  HD95 R: 1.6143  ASSD L: 0.5155  ASSD R: 0.4976  RVE L: 0.1644  RVE R: 0.0768\n",
      "Nuevo mejor modelo guardado - Avg Dice: 0.6240\n"
     ]
    },
    {
     "name": "stderr",
     "output_type": "stream",
     "text": [
      "                                                                        "
     ]
    },
    {
     "name": "stdout",
     "output_type": "stream",
     "text": [
      "Epoch 37/50 - Loss: 0.3429\n"
     ]
    },
    {
     "name": "stderr",
     "output_type": "stream",
     "text": [
      "\r"
     ]
    },
    {
     "name": "stdout",
     "output_type": "stream",
     "text": [
      "Val Dice L: 0.5965  Dice R: 0.5823  Dice Avg: 0.5894  HD L: 3.3110  HD R: 4.1823  HD95 L: 1.5973  HD95 R: 1.6248  ASSD L: 0.5400  ASSD R: 0.5403  RVE L: 0.0731  RVE R: 0.2216\n"
     ]
    },
    {
     "name": "stderr",
     "output_type": "stream",
     "text": [
      "                                                                        "
     ]
    },
    {
     "name": "stdout",
     "output_type": "stream",
     "text": [
      "Epoch 38/50 - Loss: 0.3460\n"
     ]
    },
    {
     "name": "stderr",
     "output_type": "stream",
     "text": [
      "\r"
     ]
    },
    {
     "name": "stdout",
     "output_type": "stream",
     "text": [
      "Val Dice L: 0.6031  Dice R: 0.5890  Dice Avg: 0.5961  HD L: 4.2494  HD R: 7.2055  HD95 L: 1.8393  HD95 R: 1.7631  ASSD L: 0.5595  ASSD R: 0.5812  RVE L: -0.1155  RVE R: -0.1479\n"
     ]
    },
    {
     "name": "stderr",
     "output_type": "stream",
     "text": [
      "                                                                        "
     ]
    },
    {
     "name": "stdout",
     "output_type": "stream",
     "text": [
      "Epoch 39/50 - Loss: 0.3254\n"
     ]
    },
    {
     "name": "stderr",
     "output_type": "stream",
     "text": [
      "\r"
     ]
    },
    {
     "name": "stdout",
     "output_type": "stream",
     "text": [
      "Val Dice L: 0.5921  Dice R: 0.5941  Dice Avg: 0.5931  HD L: 4.0369  HD R: 4.8499  HD95 L: 1.6634  HD95 R: 2.1626  ASSD L: 0.5507  ASSD R: 0.6128  RVE L: -0.0805  RVE R: -0.1976\n"
     ]
    },
    {
     "name": "stderr",
     "output_type": "stream",
     "text": [
      "                                                                        "
     ]
    },
    {
     "name": "stdout",
     "output_type": "stream",
     "text": [
      "Epoch 40/50 - Loss: 0.3306\n"
     ]
    },
    {
     "name": "stderr",
     "output_type": "stream",
     "text": [
      "\r"
     ]
    },
    {
     "name": "stdout",
     "output_type": "stream",
     "text": [
      "Val Dice L: 0.6067  Dice R: 0.6114  Dice Avg: 0.6091  HD L: 9.0435  HD R: 6.4607  HD95 L: 1.6659  HD95 R: 2.4415  ASSD L: 0.5745  ASSD R: 0.7102  RVE L: 0.2328  RVE R: 0.1400\n"
     ]
    },
    {
     "name": "stderr",
     "output_type": "stream",
     "text": [
      "                                                                        "
     ]
    },
    {
     "name": "stdout",
     "output_type": "stream",
     "text": [
      "Epoch 41/50 - Loss: 0.3338\n"
     ]
    },
    {
     "name": "stderr",
     "output_type": "stream",
     "text": [
      "\r"
     ]
    },
    {
     "name": "stdout",
     "output_type": "stream",
     "text": [
      "Val Dice L: 0.5661  Dice R: 0.5847  Dice Avg: 0.5754  HD L: 3.6785  HD R: 8.0848  HD95 L: 1.9779  HD95 R: 3.5329  ASSD L: 0.6101  ASSD R: 1.0112  RVE L: 0.4196  RVE R: 0.0800\n"
     ]
    },
    {
     "name": "stderr",
     "output_type": "stream",
     "text": [
      "                                                                        "
     ]
    },
    {
     "name": "stdout",
     "output_type": "stream",
     "text": [
      "Epoch 42/50 - Loss: 0.3426\n"
     ]
    },
    {
     "name": "stderr",
     "output_type": "stream",
     "text": [
      "\r"
     ]
    },
    {
     "name": "stdout",
     "output_type": "stream",
     "text": [
      "Val Dice L: 0.6152  Dice R: 0.6272  Dice Avg: 0.6212  HD L: 3.6536  HD R: 5.6776  HD95 L: 1.6125  HD95 R: 1.6766  ASSD L: 0.5256  ASSD R: 0.5383  RVE L: -0.0895  RVE R: 0.0956\n"
     ]
    },
    {
     "name": "stderr",
     "output_type": "stream",
     "text": [
      "                                                                        "
     ]
    },
    {
     "name": "stdout",
     "output_type": "stream",
     "text": [
      "Epoch 43/50 - Loss: 0.3216\n"
     ]
    },
    {
     "name": "stderr",
     "output_type": "stream",
     "text": [
      "\r"
     ]
    },
    {
     "name": "stdout",
     "output_type": "stream",
     "text": [
      "Val Dice L: 0.5852  Dice R: 0.6328  Dice Avg: 0.6090  HD L: 3.7493  HD R: 3.6483  HD95 L: 1.8576  HD95 R: 1.4661  ASSD L: 0.6025  ASSD R: 0.4542  RVE L: 0.0252  RVE R: 0.1968\n"
     ]
    },
    {
     "name": "stderr",
     "output_type": "stream",
     "text": [
      "                                                                        "
     ]
    },
    {
     "name": "stdout",
     "output_type": "stream",
     "text": [
      "Epoch 44/50 - Loss: 0.3263\n"
     ]
    },
    {
     "name": "stderr",
     "output_type": "stream",
     "text": [
      "\r"
     ]
    },
    {
     "name": "stdout",
     "output_type": "stream",
     "text": [
      "Val Dice L: 0.6138  Dice R: 0.6044  Dice Avg: 0.6091  HD L: 5.2335  HD R: 6.2631  HD95 L: 1.6568  HD95 R: 2.3191  ASSD L: 0.5431  ASSD R: 0.6640  RVE L: 0.3584  RVE R: 0.1561\n"
     ]
    },
    {
     "name": "stderr",
     "output_type": "stream",
     "text": [
      "                                                                        "
     ]
    },
    {
     "name": "stdout",
     "output_type": "stream",
     "text": [
      "Epoch 45/50 - Loss: 0.3185\n"
     ]
    },
    {
     "name": "stderr",
     "output_type": "stream",
     "text": [
      "\r"
     ]
    },
    {
     "name": "stdout",
     "output_type": "stream",
     "text": [
      "Val Dice L: 0.6263  Dice R: 0.6204  Dice Avg: 0.6233  HD L: 4.3709  HD R: 4.1589  HD95 L: 1.5837  HD95 R: 2.3725  ASSD L: 0.5240  ASSD R: 0.6852  RVE L: 0.0443  RVE R: -0.1124\n"
     ]
    },
    {
     "name": "stderr",
     "output_type": "stream",
     "text": [
      "                                                                        "
     ]
    },
    {
     "name": "stdout",
     "output_type": "stream",
     "text": [
      "Epoch 46/50 - Loss: 0.3146\n"
     ]
    },
    {
     "name": "stderr",
     "output_type": "stream",
     "text": [
      "\r"
     ]
    },
    {
     "name": "stdout",
     "output_type": "stream",
     "text": [
      "Val Dice L: 0.6019  Dice R: 0.5945  Dice Avg: 0.5982  HD L: 4.6647  HD R: 4.6528  HD95 L: 1.8671  HD95 R: 1.6981  ASSD L: 0.5642  ASSD R: 0.5334  RVE L: -0.1170  RVE R: -0.1298\n"
     ]
    },
    {
     "name": "stderr",
     "output_type": "stream",
     "text": [
      "                                                                        "
     ]
    },
    {
     "name": "stdout",
     "output_type": "stream",
     "text": [
      "Epoch 47/50 - Loss: 0.3089\n"
     ]
    },
    {
     "name": "stderr",
     "output_type": "stream",
     "text": [
      "\r"
     ]
    },
    {
     "name": "stdout",
     "output_type": "stream",
     "text": [
      "Val Dice L: 0.6306  Dice R: 0.6181  Dice Avg: 0.6243  HD L: 3.5398  HD R: 5.0233  HD95 L: 1.5936  HD95 R: 2.2100  ASSD L: 0.5002  ASSD R: 0.5616  RVE L: 0.2662  RVE R: 0.1683\n",
      "Nuevo mejor modelo guardado - Avg Dice: 0.6243\n"
     ]
    },
    {
     "name": "stderr",
     "output_type": "stream",
     "text": [
      "                                                                        "
     ]
    },
    {
     "name": "stdout",
     "output_type": "stream",
     "text": [
      "Epoch 48/50 - Loss: 0.3124\n"
     ]
    },
    {
     "name": "stderr",
     "output_type": "stream",
     "text": [
      "\r"
     ]
    },
    {
     "name": "stdout",
     "output_type": "stream",
     "text": [
      "Val Dice L: 0.6162  Dice R: 0.6316  Dice Avg: 0.6239  HD L: 4.1368  HD R: 6.2453  HD95 L: 1.5861  HD95 R: 1.5483  ASSD L: 0.5221  ASSD R: 0.5186  RVE L: 0.2124  RVE R: 0.1622\n"
     ]
    },
    {
     "name": "stderr",
     "output_type": "stream",
     "text": [
      "                                                                        "
     ]
    },
    {
     "name": "stdout",
     "output_type": "stream",
     "text": [
      "Epoch 49/50 - Loss: 0.3094\n"
     ]
    },
    {
     "name": "stderr",
     "output_type": "stream",
     "text": [
      "\r"
     ]
    },
    {
     "name": "stdout",
     "output_type": "stream",
     "text": [
      "Val Dice L: 0.6260  Dice R: 0.6241  Dice Avg: 0.6250  HD L: 3.7896  HD R: 3.1725  HD95 L: 1.5824  HD95 R: 1.4502  ASSD L: 0.5220  ASSD R: 0.4665  RVE L: 0.0812  RVE R: 0.0549\n",
      "Nuevo mejor modelo guardado - Avg Dice: 0.6250\n"
     ]
    },
    {
     "name": "stderr",
     "output_type": "stream",
     "text": [
      "                                                                        "
     ]
    },
    {
     "name": "stdout",
     "output_type": "stream",
     "text": [
      "Epoch 50/50 - Loss: 0.3100\n"
     ]
    },
    {
     "name": "stderr",
     "output_type": "stream",
     "text": [
      "\r"
     ]
    },
    {
     "name": "stdout",
     "output_type": "stream",
     "text": [
      "Val Dice L: 0.6394  Dice R: 0.6484  Dice Avg: 0.6439  HD L: 3.4202  HD R: 6.6907  HD95 L: 1.5744  HD95 R: 1.3910  ASSD L: 0.4976  ASSD R: 0.4615  RVE L: 0.1302  RVE R: 0.1618\n",
      "Nuevo mejor modelo guardado - Avg Dice: 0.6439\n",
      "Resumen métricas fold: {'dice_L': 0.6393904037699855, 'dice_R': 0.6483545166723621, 'dice_Avg': 0.6438724602211738, 'hd_L': 3.4201608708415105, 'hd_R': 6.690707403584056, 'hd_Avg': 5.055434137212783, 'hd95_L': 1.5743583254865365, 'hd95_R': 1.390980949469511, 'hd95_Avg': 1.4826696374780237, 'assd_L': 0.49764400172043255, 'assd_R': 0.4614916199741846, 'assd_Avg': 0.4795678108473086, 'rve_L': 0.13018539248926042, 'rve_R': 0.16182152835818586, 'rve_Avg': 0.14600346042372314}\n",
      "\n",
      "===== Fold 4/5 =====\n"
     ]
    },
    {
     "name": "stderr",
     "output_type": "stream",
     "text": [
      "                                                                       "
     ]
    },
    {
     "name": "stdout",
     "output_type": "stream",
     "text": [
      "Epoch 1/50 - Loss: 0.7445\n"
     ]
    },
    {
     "name": "stderr",
     "output_type": "stream",
     "text": [
      "\r"
     ]
    },
    {
     "name": "stdout",
     "output_type": "stream",
     "text": [
      "Val Dice L: 0.0000  Dice R: 0.0000  Dice Avg: 0.0000  HD L: nan  HD R: nan  HD95 L: nan  HD95 R: nan  ASSD L: nan  ASSD R: nan  RVE L: -1.0000  RVE R: -1.0000\n"
     ]
    },
    {
     "name": "stderr",
     "output_type": "stream",
     "text": [
      "                                                                       "
     ]
    },
    {
     "name": "stdout",
     "output_type": "stream",
     "text": [
      "Epoch 2/50 - Loss: 0.6796\n"
     ]
    },
    {
     "name": "stderr",
     "output_type": "stream",
     "text": [
      "\r"
     ]
    },
    {
     "name": "stdout",
     "output_type": "stream",
     "text": [
      "Val Dice L: 0.0000  Dice R: 0.0000  Dice Avg: 0.0000  HD L: nan  HD R: nan  HD95 L: nan  HD95 R: nan  ASSD L: nan  ASSD R: nan  RVE L: -1.0000  RVE R: -1.0000\n"
     ]
    },
    {
     "name": "stderr",
     "output_type": "stream",
     "text": [
      "                                                                       "
     ]
    },
    {
     "name": "stdout",
     "output_type": "stream",
     "text": [
      "Epoch 3/50 - Loss: 0.6716\n"
     ]
    },
    {
     "name": "stderr",
     "output_type": "stream",
     "text": [
      "\r"
     ]
    },
    {
     "name": "stdout",
     "output_type": "stream",
     "text": [
      "Val Dice L: 0.1986  Dice R: 0.1707  Dice Avg: 0.1847  HD L: 21.9514  HD R: 9.1879  HD95 L: 18.0695  HD95 R: 4.7290  ASSD L: 4.5523  ASSD R: 1.6481  RVE L: 0.0311  RVE R: -0.6281\n",
      "Nuevo mejor modelo guardado - Avg Dice: 0.1847\n"
     ]
    },
    {
     "name": "stderr",
     "output_type": "stream",
     "text": [
      "                                                                       "
     ]
    },
    {
     "name": "stdout",
     "output_type": "stream",
     "text": [
      "Epoch 4/50 - Loss: 0.6592\n"
     ]
    },
    {
     "name": "stderr",
     "output_type": "stream",
     "text": [
      "\r"
     ]
    },
    {
     "name": "stdout",
     "output_type": "stream",
     "text": [
      "Val Dice L: 0.1840  Dice R: 0.0513  Dice Avg: 0.1176  HD L: 20.0758  HD R: 25.5750  HD95 L: 15.5802  HD95 R: 23.8047  ASSD L: 2.8075  ASSD R: 10.9351  RVE L: 5.7615  RVE R: 0.3465\n"
     ]
    },
    {
     "name": "stderr",
     "output_type": "stream",
     "text": [
      "                                                                       "
     ]
    },
    {
     "name": "stdout",
     "output_type": "stream",
     "text": [
      "Epoch 5/50 - Loss: 0.6384\n"
     ]
    },
    {
     "name": "stderr",
     "output_type": "stream",
     "text": [
      "\r"
     ]
    },
    {
     "name": "stdout",
     "output_type": "stream",
     "text": [
      "Val Dice L: 0.2345  Dice R: 0.0619  Dice Avg: 0.1482  HD L: 20.6244  HD R: 28.0532  HD95 L: 15.4353  HD95 R: 25.8460  ASSD L: 2.1723  ASSD R: 10.9949  RVE L: 5.5137  RVE R: 1.2899\n"
     ]
    },
    {
     "name": "stderr",
     "output_type": "stream",
     "text": [
      "                                                                       "
     ]
    },
    {
     "name": "stdout",
     "output_type": "stream",
     "text": [
      "Epoch 6/50 - Loss: 0.6217\n"
     ]
    },
    {
     "name": "stderr",
     "output_type": "stream",
     "text": [
      "\r"
     ]
    },
    {
     "name": "stdout",
     "output_type": "stream",
     "text": [
      "Val Dice L: 0.3714  Dice R: 0.1402  Dice Avg: 0.2558  HD L: 5.2126  HD R: 22.4875  HD95 L: 3.0596  HD95 R: 21.0713  ASSD L: 1.0531  ASSD R: 7.7124  RVE L: -0.1884  RVE R: -0.0048\n",
      "Nuevo mejor modelo guardado - Avg Dice: 0.2558\n"
     ]
    },
    {
     "name": "stderr",
     "output_type": "stream",
     "text": [
      "                                                                       "
     ]
    },
    {
     "name": "stdout",
     "output_type": "stream",
     "text": [
      "Epoch 7/50 - Loss: 0.6003\n"
     ]
    },
    {
     "name": "stderr",
     "output_type": "stream",
     "text": [
      "\r"
     ]
    },
    {
     "name": "stdout",
     "output_type": "stream",
     "text": [
      "Val Dice L: 0.0000  Dice R: 0.1989  Dice Avg: 0.0995  HD L: nan  HD R: 24.9742  HD95 L: nan  HD95 R: 21.8272  ASSD L: nan  ASSD R: 6.7556  RVE L: -1.0000  RVE R: 3.9080\n"
     ]
    },
    {
     "name": "stderr",
     "output_type": "stream",
     "text": [
      "                                                                       "
     ]
    },
    {
     "name": "stdout",
     "output_type": "stream",
     "text": [
      "Epoch 8/50 - Loss: 0.5832\n"
     ]
    },
    {
     "name": "stderr",
     "output_type": "stream",
     "text": [
      "\r"
     ]
    },
    {
     "name": "stdout",
     "output_type": "stream",
     "text": [
      "Val Dice L: 0.3425  Dice R: 0.2013  Dice Avg: 0.2719  HD L: 21.5011  HD R: 23.9209  HD95 L: 19.6909  HD95 R: 21.1822  ASSD L: 3.3990  ASSD R: 4.2678  RVE L: 1.5516  RVE R: 1.6644\n",
      "Nuevo mejor modelo guardado - Avg Dice: 0.2719\n"
     ]
    },
    {
     "name": "stderr",
     "output_type": "stream",
     "text": [
      "                                                                       "
     ]
    },
    {
     "name": "stdout",
     "output_type": "stream",
     "text": [
      "Epoch 9/50 - Loss: 0.5564\n"
     ]
    },
    {
     "name": "stderr",
     "output_type": "stream",
     "text": [
      "\r"
     ]
    },
    {
     "name": "stdout",
     "output_type": "stream",
     "text": [
      "Val Dice L: 0.3963  Dice R: 0.2301  Dice Avg: 0.3132  HD L: 20.1595  HD R: 24.7298  HD95 L: 12.3849  HD95 R: 21.8166  ASSD L: 1.7990  ASSD R: 4.1251  RVE L: 1.2668  RVE R: 3.8821\n",
      "Nuevo mejor modelo guardado - Avg Dice: 0.3132\n"
     ]
    },
    {
     "name": "stderr",
     "output_type": "stream",
     "text": [
      "                                                                       "
     ]
    },
    {
     "name": "stdout",
     "output_type": "stream",
     "text": [
      "Epoch 10/50 - Loss: 0.5304\n"
     ]
    },
    {
     "name": "stderr",
     "output_type": "stream",
     "text": [
      "\r"
     ]
    },
    {
     "name": "stdout",
     "output_type": "stream",
     "text": [
      "Val Dice L: 0.2982  Dice R: 0.2918  Dice Avg: 0.2950  HD L: 18.6471  HD R: 23.2051  HD95 L: 16.0939  HD95 R: 17.1031  ASSD L: 3.7629  ASSD R: 2.9876  RVE L: 0.4906  RVE R: 1.5657\n"
     ]
    },
    {
     "name": "stderr",
     "output_type": "stream",
     "text": [
      "                                                                        "
     ]
    },
    {
     "name": "stdout",
     "output_type": "stream",
     "text": [
      "Epoch 11/50 - Loss: 0.5063\n"
     ]
    },
    {
     "name": "stderr",
     "output_type": "stream",
     "text": [
      "\r"
     ]
    },
    {
     "name": "stdout",
     "output_type": "stream",
     "text": [
      "Val Dice L: 0.0247  Dice R: 0.4606  Dice Avg: 0.2427  HD L: 9.5859  HD R: 6.0011  HD95 L: 8.2978  HD95 R: 2.4138  ASSD L: 2.3454  ASSD R: 0.7899  RVE L: -0.9745  RVE R: 0.8130\n"
     ]
    },
    {
     "name": "stderr",
     "output_type": "stream",
     "text": [
      "                                                                        "
     ]
    },
    {
     "name": "stdout",
     "output_type": "stream",
     "text": [
      "Epoch 12/50 - Loss: 0.5034\n"
     ]
    },
    {
     "name": "stderr",
     "output_type": "stream",
     "text": [
      "\r"
     ]
    },
    {
     "name": "stdout",
     "output_type": "stream",
     "text": [
      "Val Dice L: 0.4590  Dice R: 0.4584  Dice Avg: 0.4587  HD L: 6.1840  HD R: 7.1542  HD95 L: 2.3227  HD95 R: 2.3396  ASSD L: 0.8497  ASSD R: 0.7374  RVE L: 0.4775  RVE R: 1.1812\n",
      "Nuevo mejor modelo guardado - Avg Dice: 0.4587\n"
     ]
    },
    {
     "name": "stderr",
     "output_type": "stream",
     "text": [
      "                                                                        "
     ]
    },
    {
     "name": "stdout",
     "output_type": "stream",
     "text": [
      "Epoch 13/50 - Loss: 0.4826\n"
     ]
    },
    {
     "name": "stderr",
     "output_type": "stream",
     "text": [
      "\r"
     ]
    },
    {
     "name": "stdout",
     "output_type": "stream",
     "text": [
      "Val Dice L: 0.4607  Dice R: 0.4836  Dice Avg: 0.4721  HD L: 15.9138  HD R: 4.0024  HD95 L: 7.8415  HD95 R: 2.1203  ASSD L: 1.4739  ASSD R: 0.7192  RVE L: 0.6577  RVE R: 0.3494\n",
      "Nuevo mejor modelo guardado - Avg Dice: 0.4721\n"
     ]
    },
    {
     "name": "stderr",
     "output_type": "stream",
     "text": [
      "                                                                        "
     ]
    },
    {
     "name": "stdout",
     "output_type": "stream",
     "text": [
      "Epoch 14/50 - Loss: 0.4548\n"
     ]
    },
    {
     "name": "stderr",
     "output_type": "stream",
     "text": [
      "\r"
     ]
    },
    {
     "name": "stdout",
     "output_type": "stream",
     "text": [
      "Val Dice L: 0.3537  Dice R: 0.4162  Dice Avg: 0.3849  HD L: 19.1051  HD R: 4.0894  HD95 L: 16.7383  HD95 R: 2.2067  ASSD L: 4.0168  ASSD R: 0.8074  RVE L: 0.3527  RVE R: 0.0934\n"
     ]
    },
    {
     "name": "stderr",
     "output_type": "stream",
     "text": [
      "                                                                        "
     ]
    },
    {
     "name": "stdout",
     "output_type": "stream",
     "text": [
      "Epoch 15/50 - Loss: 0.4476\n"
     ]
    },
    {
     "name": "stderr",
     "output_type": "stream",
     "text": [
      "\r"
     ]
    },
    {
     "name": "stdout",
     "output_type": "stream",
     "text": [
      "Val Dice L: 0.4210  Dice R: 0.4619  Dice Avg: 0.4415  HD L: 18.4545  HD R: 4.1257  HD95 L: 13.6990  HD95 R: 2.0891  ASSD L: 2.4914  ASSD R: 0.7387  RVE L: 1.2747  RVE R: 0.4636\n"
     ]
    },
    {
     "name": "stderr",
     "output_type": "stream",
     "text": [
      "                                                                        "
     ]
    },
    {
     "name": "stdout",
     "output_type": "stream",
     "text": [
      "Epoch 16/50 - Loss: 0.4278\n"
     ]
    },
    {
     "name": "stderr",
     "output_type": "stream",
     "text": [
      "\r"
     ]
    },
    {
     "name": "stdout",
     "output_type": "stream",
     "text": [
      "Val Dice L: 0.3772  Dice R: 0.3255  Dice Avg: 0.3513  HD L: 20.8291  HD R: 7.4954  HD95 L: 18.5215  HD95 R: 3.6079  ASSD L: 4.1297  ASSD R: 1.1400  RVE L: 0.7664  RVE R: -0.3905\n"
     ]
    },
    {
     "name": "stderr",
     "output_type": "stream",
     "text": [
      "                                                                        "
     ]
    },
    {
     "name": "stdout",
     "output_type": "stream",
     "text": [
      "Epoch 17/50 - Loss: 0.4219\n"
     ]
    },
    {
     "name": "stderr",
     "output_type": "stream",
     "text": [
      "\r"
     ]
    },
    {
     "name": "stdout",
     "output_type": "stream",
     "text": [
      "Val Dice L: 0.3555  Dice R: 0.1666  Dice Avg: 0.2611  HD L: 21.2788  HD R: 7.5424  HD95 L: 19.9366  HD95 R: 4.9087  ASSD L: 4.4385  ASSD R: 1.3943  RVE L: 1.4053  RVE R: -0.6247\n"
     ]
    },
    {
     "name": "stderr",
     "output_type": "stream",
     "text": [
      "                                                                        "
     ]
    },
    {
     "name": "stdout",
     "output_type": "stream",
     "text": [
      "Epoch 18/50 - Loss: 0.4089\n"
     ]
    },
    {
     "name": "stderr",
     "output_type": "stream",
     "text": [
      "\r"
     ]
    },
    {
     "name": "stdout",
     "output_type": "stream",
     "text": [
      "Val Dice L: 0.4192  Dice R: 0.4306  Dice Avg: 0.4249  HD L: 19.1903  HD R: 19.6315  HD95 L: 15.1093  HD95 R: 9.2470  ASSD L: 2.9989  ASSD R: 1.6353  RVE L: 0.8400  RVE R: 0.4767\n"
     ]
    },
    {
     "name": "stderr",
     "output_type": "stream",
     "text": [
      "                                                                        "
     ]
    },
    {
     "name": "stdout",
     "output_type": "stream",
     "text": [
      "Epoch 19/50 - Loss: 0.3984\n"
     ]
    },
    {
     "name": "stderr",
     "output_type": "stream",
     "text": [
      "\r"
     ]
    },
    {
     "name": "stdout",
     "output_type": "stream",
     "text": [
      "Val Dice L: 0.2280  Dice R: 0.3870  Dice Avg: 0.3075  HD L: 17.8093  HD R: 21.1302  HD95 L: 14.0976  HD95 R: 18.2729  ASSD L: 5.5805  ASSD R: 3.8718  RVE L: -0.3504  RVE R: 0.5974\n"
     ]
    },
    {
     "name": "stderr",
     "output_type": "stream",
     "text": [
      "                                                                        "
     ]
    },
    {
     "name": "stdout",
     "output_type": "stream",
     "text": [
      "Epoch 20/50 - Loss: 0.3957\n"
     ]
    },
    {
     "name": "stderr",
     "output_type": "stream",
     "text": [
      "\r"
     ]
    },
    {
     "name": "stdout",
     "output_type": "stream",
     "text": [
      "Val Dice L: 0.3754  Dice R: 0.3660  Dice Avg: 0.3707  HD L: 17.3530  HD R: 19.5878  HD95 L: 12.7375  HD95 R: 12.5708  ASSD L: 3.4176  ASSD R: 4.4472  RVE L: -0.2382  RVE R: -0.2845\n"
     ]
    },
    {
     "name": "stderr",
     "output_type": "stream",
     "text": [
      "                                                                        "
     ]
    },
    {
     "name": "stdout",
     "output_type": "stream",
     "text": [
      "Epoch 21/50 - Loss: 0.3877\n"
     ]
    },
    {
     "name": "stderr",
     "output_type": "stream",
     "text": [
      "\r"
     ]
    },
    {
     "name": "stdout",
     "output_type": "stream",
     "text": [
      "Val Dice L: 0.3976  Dice R: 0.4473  Dice Avg: 0.4225  HD L: 17.2723  HD R: 19.6809  HD95 L: 13.8984  HD95 R: 12.0313  ASSD L: 3.7613  ASSD R: 2.1460  RVE L: 0.1480  RVE R: 0.5863\n"
     ]
    },
    {
     "name": "stderr",
     "output_type": "stream",
     "text": [
      "                                                                        "
     ]
    },
    {
     "name": "stdout",
     "output_type": "stream",
     "text": [
      "Epoch 22/50 - Loss: 0.3787\n"
     ]
    },
    {
     "name": "stderr",
     "output_type": "stream",
     "text": [
      "\r"
     ]
    },
    {
     "name": "stdout",
     "output_type": "stream",
     "text": [
      "Val Dice L: 0.4132  Dice R: 0.4343  Dice Avg: 0.4237  HD L: 15.0786  HD R: 21.9092  HD95 L: 7.5106  HD95 R: 16.8019  ASSD L: 2.6354  ASSD R: 3.1052  RVE L: -0.1483  RVE R: 0.7460\n"
     ]
    },
    {
     "name": "stderr",
     "output_type": "stream",
     "text": [
      "                                                                        "
     ]
    },
    {
     "name": "stdout",
     "output_type": "stream",
     "text": [
      "Epoch 23/50 - Loss: 0.3751\n"
     ]
    },
    {
     "name": "stderr",
     "output_type": "stream",
     "text": [
      "\r"
     ]
    },
    {
     "name": "stdout",
     "output_type": "stream",
     "text": [
      "Val Dice L: 0.4995  Dice R: 0.5059  Dice Avg: 0.5027  HD L: 10.7491  HD R: 11.2994  HD95 L: 5.5101  HD95 R: 3.7173  ASSD L: 1.3172  ASSD R: 1.2833  RVE L: 0.2554  RVE R: 0.0587\n",
      "Nuevo mejor modelo guardado - Avg Dice: 0.5027\n"
     ]
    },
    {
     "name": "stderr",
     "output_type": "stream",
     "text": [
      "                                                                        "
     ]
    },
    {
     "name": "stdout",
     "output_type": "stream",
     "text": [
      "Epoch 24/50 - Loss: 0.3670\n"
     ]
    },
    {
     "name": "stderr",
     "output_type": "stream",
     "text": [
      "\r"
     ]
    },
    {
     "name": "stdout",
     "output_type": "stream",
     "text": [
      "Val Dice L: 0.4244  Dice R: 0.4460  Dice Avg: 0.4352  HD L: 13.1298  HD R: 18.9639  HD95 L: 7.0108  HD95 R: 13.2353  ASSD L: 2.6641  ASSD R: 2.9118  RVE L: -0.0552  RVE R: 0.5155\n"
     ]
    },
    {
     "name": "stderr",
     "output_type": "stream",
     "text": [
      "                                                                        "
     ]
    },
    {
     "name": "stdout",
     "output_type": "stream",
     "text": [
      "Epoch 25/50 - Loss: 0.3558\n"
     ]
    },
    {
     "name": "stderr",
     "output_type": "stream",
     "text": [
      "\r"
     ]
    },
    {
     "name": "stdout",
     "output_type": "stream",
     "text": [
      "Val Dice L: 0.4639  Dice R: 0.5071  Dice Avg: 0.4855  HD L: 13.2984  HD R: 9.0693  HD95 L: 9.2056  HD95 R: 3.3700  ASSD L: 2.0621  ASSD R: 1.0328  RVE L: 0.1143  RVE R: 0.0266\n"
     ]
    },
    {
     "name": "stderr",
     "output_type": "stream",
     "text": [
      "                                                                        "
     ]
    },
    {
     "name": "stdout",
     "output_type": "stream",
     "text": [
      "Epoch 26/50 - Loss: 0.3586\n"
     ]
    },
    {
     "name": "stderr",
     "output_type": "stream",
     "text": [
      "\r"
     ]
    },
    {
     "name": "stdout",
     "output_type": "stream",
     "text": [
      "Val Dice L: 0.3751  Dice R: 0.3509  Dice Avg: 0.3630  HD L: 19.2171  HD R: 19.7660  HD95 L: 14.1340  HD95 R: 12.2913  ASSD L: 4.2565  ASSD R: 4.0178  RVE L: 0.7014  RVE R: 0.4317\n"
     ]
    },
    {
     "name": "stderr",
     "output_type": "stream",
     "text": [
      "                                                                        "
     ]
    },
    {
     "name": "stdout",
     "output_type": "stream",
     "text": [
      "Epoch 27/50 - Loss: 0.3631\n"
     ]
    },
    {
     "name": "stderr",
     "output_type": "stream",
     "text": [
      "\r"
     ]
    },
    {
     "name": "stdout",
     "output_type": "stream",
     "text": [
      "Val Dice L: 0.4883  Dice R: 0.5029  Dice Avg: 0.4956  HD L: 14.3506  HD R: 17.5550  HD95 L: 6.2842  HD95 R: 7.5419  ASSD L: 1.5278  ASSD R: 1.3939  RVE L: 0.6539  RVE R: 0.4076\n"
     ]
    },
    {
     "name": "stderr",
     "output_type": "stream",
     "text": [
      "                                                                        "
     ]
    },
    {
     "name": "stdout",
     "output_type": "stream",
     "text": [
      "Epoch 28/50 - Loss: 0.3541\n"
     ]
    },
    {
     "name": "stderr",
     "output_type": "stream",
     "text": [
      "\r"
     ]
    },
    {
     "name": "stdout",
     "output_type": "stream",
     "text": [
      "Val Dice L: 0.4352  Dice R: 0.5053  Dice Avg: 0.4703  HD L: 8.0731  HD R: 18.8295  HD95 L: 3.3159  HD95 R: 10.6885  ASSD L: 1.2878  ASSD R: 2.1143  RVE L: -0.0445  RVE R: 0.6305\n"
     ]
    },
    {
     "name": "stderr",
     "output_type": "stream",
     "text": [
      "                                                                        "
     ]
    },
    {
     "name": "stdout",
     "output_type": "stream",
     "text": [
      "Epoch 29/50 - Loss: 0.3485\n"
     ]
    },
    {
     "name": "stderr",
     "output_type": "stream",
     "text": [
      "\r"
     ]
    },
    {
     "name": "stdout",
     "output_type": "stream",
     "text": [
      "Val Dice L: 0.4638  Dice R: 0.5025  Dice Avg: 0.4832  HD L: 4.4155  HD R: 14.1621  HD95 L: 2.6530  HD95 R: 10.3544  ASSD L: 0.9339  ASSD R: 1.7225  RVE L: -0.2111  RVE R: 0.2266\n"
     ]
    },
    {
     "name": "stderr",
     "output_type": "stream",
     "text": [
      "                                                                        "
     ]
    },
    {
     "name": "stdout",
     "output_type": "stream",
     "text": [
      "Epoch 30/50 - Loss: 0.3470\n"
     ]
    },
    {
     "name": "stderr",
     "output_type": "stream",
     "text": [
      "\r"
     ]
    },
    {
     "name": "stdout",
     "output_type": "stream",
     "text": [
      "Val Dice L: 0.3612  Dice R: 0.3598  Dice Avg: 0.3605  HD L: 19.8614  HD R: 18.8624  HD95 L: 13.6202  HD95 R: 15.8471  ASSD L: 4.3265  ASSD R: 4.5524  RVE L: -0.0091  RVE R: 0.0569\n"
     ]
    },
    {
     "name": "stderr",
     "output_type": "stream",
     "text": [
      "                                                                        "
     ]
    },
    {
     "name": "stdout",
     "output_type": "stream",
     "text": [
      "Epoch 31/50 - Loss: 0.3409\n"
     ]
    },
    {
     "name": "stderr",
     "output_type": "stream",
     "text": [
      "\r"
     ]
    },
    {
     "name": "stdout",
     "output_type": "stream",
     "text": [
      "Val Dice L: 0.4940  Dice R: 0.4810  Dice Avg: 0.4875  HD L: 13.6119  HD R: 13.4073  HD95 L: 8.8169  HD95 R: 4.7156  ASSD L: 1.7944  ASSD R: 1.5343  RVE L: 0.1360  RVE R: -0.1394\n"
     ]
    },
    {
     "name": "stderr",
     "output_type": "stream",
     "text": [
      "                                                                        "
     ]
    },
    {
     "name": "stdout",
     "output_type": "stream",
     "text": [
      "Epoch 32/50 - Loss: 0.3438\n"
     ]
    },
    {
     "name": "stderr",
     "output_type": "stream",
     "text": [
      "\r"
     ]
    },
    {
     "name": "stdout",
     "output_type": "stream",
     "text": [
      "Val Dice L: 0.5035  Dice R: 0.5323  Dice Avg: 0.5179  HD L: 7.0557  HD R: 13.8622  HD95 L: 4.0769  HD95 R: 5.7293  ASSD L: 1.2156  ASSD R: 1.3847  RVE L: 0.4328  RVE R: 0.4153\n",
      "Nuevo mejor modelo guardado - Avg Dice: 0.5179\n"
     ]
    },
    {
     "name": "stderr",
     "output_type": "stream",
     "text": [
      "                                                                        "
     ]
    },
    {
     "name": "stdout",
     "output_type": "stream",
     "text": [
      "Epoch 33/50 - Loss: 0.3420\n"
     ]
    },
    {
     "name": "stderr",
     "output_type": "stream",
     "text": [
      "\r"
     ]
    },
    {
     "name": "stdout",
     "output_type": "stream",
     "text": [
      "Val Dice L: 0.5093  Dice R: 0.5333  Dice Avg: 0.5213  HD L: 6.5854  HD R: 16.8231  HD95 L: 3.9981  HD95 R: 5.3289  ASSD L: 1.2066  ASSD R: 1.2814  RVE L: 0.1703  RVE R: 0.4352\n",
      "Nuevo mejor modelo guardado - Avg Dice: 0.5213\n"
     ]
    },
    {
     "name": "stderr",
     "output_type": "stream",
     "text": [
      "                                                                        "
     ]
    },
    {
     "name": "stdout",
     "output_type": "stream",
     "text": [
      "Epoch 34/50 - Loss: 0.3259\n"
     ]
    },
    {
     "name": "stderr",
     "output_type": "stream",
     "text": [
      "\r"
     ]
    },
    {
     "name": "stdout",
     "output_type": "stream",
     "text": [
      "Val Dice L: 0.5272  Dice R: 0.5549  Dice Avg: 0.5411  HD L: 7.7755  HD R: 9.6629  HD95 L: 3.8190  HD95 R: 2.8655  ASSD L: 0.8977  ASSD R: 0.7948  RVE L: 0.3685  RVE R: 0.3979\n",
      "Nuevo mejor modelo guardado - Avg Dice: 0.5411\n"
     ]
    },
    {
     "name": "stderr",
     "output_type": "stream",
     "text": [
      "                                                                        "
     ]
    },
    {
     "name": "stdout",
     "output_type": "stream",
     "text": [
      "Epoch 35/50 - Loss: 0.3128\n"
     ]
    },
    {
     "name": "stderr",
     "output_type": "stream",
     "text": [
      "\r"
     ]
    },
    {
     "name": "stdout",
     "output_type": "stream",
     "text": [
      "Val Dice L: 0.5214  Dice R: 0.5348  Dice Avg: 0.5281  HD L: 5.1162  HD R: 18.8611  HD95 L: 3.3695  HD95 R: 11.0274  ASSD L: 0.9885  ASSD R: 1.7329  RVE L: 0.1606  RVE R: 0.5435\n"
     ]
    },
    {
     "name": "stderr",
     "output_type": "stream",
     "text": [
      "                                                                        "
     ]
    },
    {
     "name": "stdout",
     "output_type": "stream",
     "text": [
      "Epoch 36/50 - Loss: 0.3158\n"
     ]
    },
    {
     "name": "stderr",
     "output_type": "stream",
     "text": [
      "\r"
     ]
    },
    {
     "name": "stdout",
     "output_type": "stream",
     "text": [
      "Val Dice L: 0.3020  Dice R: 0.4671  Dice Avg: 0.3845  HD L: 17.8084  HD R: 19.6817  HD95 L: 11.1784  HD95 R: 16.1463  ASSD L: 4.2748  ASSD R: 3.5743  RVE L: -0.3425  RVE R: 0.5712\n"
     ]
    },
    {
     "name": "stderr",
     "output_type": "stream",
     "text": [
      "                                                                        "
     ]
    },
    {
     "name": "stdout",
     "output_type": "stream",
     "text": [
      "Epoch 37/50 - Loss: 0.3295\n"
     ]
    },
    {
     "name": "stderr",
     "output_type": "stream",
     "text": [
      "\r"
     ]
    },
    {
     "name": "stdout",
     "output_type": "stream",
     "text": [
      "Val Dice L: 0.4964  Dice R: 0.5351  Dice Avg: 0.5158  HD L: 12.2653  HD R: 14.1909  HD95 L: 5.8560  HD95 R: 3.6348  ASSD L: 1.3264  ASSD R: 0.9465  RVE L: 0.9398  RVE R: 0.6651\n"
     ]
    },
    {
     "name": "stderr",
     "output_type": "stream",
     "text": [
      "                                                                        "
     ]
    },
    {
     "name": "stdout",
     "output_type": "stream",
     "text": [
      "Epoch 38/50 - Loss: 0.3113\n"
     ]
    },
    {
     "name": "stderr",
     "output_type": "stream",
     "text": [
      "\r"
     ]
    },
    {
     "name": "stdout",
     "output_type": "stream",
     "text": [
      "Val Dice L: 0.5489  Dice R: 0.5603  Dice Avg: 0.5546  HD L: 4.3330  HD R: 13.7552  HD95 L: 2.1419  HD95 R: 3.4834  ASSD L: 0.7546  ASSD R: 0.9368  RVE L: 0.3047  RVE R: 0.4832\n",
      "Nuevo mejor modelo guardado - Avg Dice: 0.5546\n"
     ]
    },
    {
     "name": "stderr",
     "output_type": "stream",
     "text": [
      "                                                                        "
     ]
    },
    {
     "name": "stdout",
     "output_type": "stream",
     "text": [
      "Epoch 39/50 - Loss: 0.3111\n"
     ]
    },
    {
     "name": "stderr",
     "output_type": "stream",
     "text": [
      "\r"
     ]
    },
    {
     "name": "stdout",
     "output_type": "stream",
     "text": [
      "Val Dice L: 0.4286  Dice R: 0.4817  Dice Avg: 0.4551  HD L: 12.0232  HD R: 15.3603  HD95 L: 6.2941  HD95 R: 8.8628  ASSD L: 2.0946  ASSD R: 2.4365  RVE L: -0.2043  RVE R: -0.0910\n"
     ]
    },
    {
     "name": "stderr",
     "output_type": "stream",
     "text": [
      "                                                                        "
     ]
    },
    {
     "name": "stdout",
     "output_type": "stream",
     "text": [
      "Epoch 40/50 - Loss: 0.2961\n"
     ]
    },
    {
     "name": "stderr",
     "output_type": "stream",
     "text": [
      "\r"
     ]
    },
    {
     "name": "stdout",
     "output_type": "stream",
     "text": [
      "Val Dice L: 0.4231  Dice R: 0.4823  Dice Avg: 0.4527  HD L: 15.4913  HD R: 15.5387  HD95 L: 10.4873  HD95 R: 10.8191  ASSD L: 3.1173  ASSD R: 2.7800  RVE L: 0.0775  RVE R: 0.2145\n"
     ]
    },
    {
     "name": "stderr",
     "output_type": "stream",
     "text": [
      "                                                                        "
     ]
    },
    {
     "name": "stdout",
     "output_type": "stream",
     "text": [
      "Epoch 41/50 - Loss: 0.3053\n"
     ]
    },
    {
     "name": "stderr",
     "output_type": "stream",
     "text": [
      "\r"
     ]
    },
    {
     "name": "stdout",
     "output_type": "stream",
     "text": [
      "Val Dice L: 0.5222  Dice R: 0.5474  Dice Avg: 0.5348  HD L: 9.3255  HD R: 10.4008  HD95 L: 2.9659  HD95 R: 5.7743  ASSD L: 0.9505  ASSD R: 1.1262  RVE L: 0.5165  RVE R: 0.6307\n"
     ]
    },
    {
     "name": "stderr",
     "output_type": "stream",
     "text": [
      "                                                                        "
     ]
    },
    {
     "name": "stdout",
     "output_type": "stream",
     "text": [
      "Epoch 42/50 - Loss: 0.3026\n"
     ]
    },
    {
     "name": "stderr",
     "output_type": "stream",
     "text": [
      "\r"
     ]
    },
    {
     "name": "stdout",
     "output_type": "stream",
     "text": [
      "Val Dice L: 0.4762  Dice R: 0.5173  Dice Avg: 0.4968  HD L: 8.0253  HD R: 17.0397  HD95 L: 4.4046  HD95 R: 11.2264  ASSD L: 1.7745  ASSD R: 2.4329  RVE L: 0.0872  RVE R: 0.3081\n"
     ]
    },
    {
     "name": "stderr",
     "output_type": "stream",
     "text": [
      "                                                                        "
     ]
    },
    {
     "name": "stdout",
     "output_type": "stream",
     "text": [
      "Epoch 43/50 - Loss: 0.2941\n"
     ]
    },
    {
     "name": "stderr",
     "output_type": "stream",
     "text": [
      "\r"
     ]
    },
    {
     "name": "stdout",
     "output_type": "stream",
     "text": [
      "Val Dice L: 0.4862  Dice R: 0.4297  Dice Avg: 0.4579  HD L: 14.6754  HD R: 10.0643  HD95 L: 9.7359  HD95 R: 4.3748  ASSD L: 2.1029  ASSD R: 2.1292  RVE L: 0.5582  RVE R: -0.2937\n"
     ]
    },
    {
     "name": "stderr",
     "output_type": "stream",
     "text": [
      "                                                                        "
     ]
    },
    {
     "name": "stdout",
     "output_type": "stream",
     "text": [
      "Epoch 44/50 - Loss: 0.3129\n"
     ]
    },
    {
     "name": "stderr",
     "output_type": "stream",
     "text": [
      "\r"
     ]
    },
    {
     "name": "stdout",
     "output_type": "stream",
     "text": [
      "Val Dice L: 0.5079  Dice R: 0.5440  Dice Avg: 0.5259  HD L: 8.5526  HD R: 15.1126  HD95 L: 4.3872  HD95 R: 7.0980  ASSD L: 1.1509  ASSD R: 1.1751  RVE L: 0.2766  RVE R: 0.5550\n"
     ]
    },
    {
     "name": "stderr",
     "output_type": "stream",
     "text": [
      "                                                                        "
     ]
    },
    {
     "name": "stdout",
     "output_type": "stream",
     "text": [
      "Epoch 45/50 - Loss: 0.3029\n"
     ]
    },
    {
     "name": "stderr",
     "output_type": "stream",
     "text": [
      "\r"
     ]
    },
    {
     "name": "stdout",
     "output_type": "stream",
     "text": [
      "Val Dice L: 0.5443  Dice R: 0.5712  Dice Avg: 0.5577  HD L: 5.3327  HD R: 2.9723  HD95 L: 3.0453  HD95 R: 1.6996  ASSD L: 0.8413  ASSD R: 0.5895  RVE L: 0.1235  RVE R: -0.0085\n",
      "Nuevo mejor modelo guardado - Avg Dice: 0.5577\n"
     ]
    },
    {
     "name": "stderr",
     "output_type": "stream",
     "text": [
      "                                                                        "
     ]
    },
    {
     "name": "stdout",
     "output_type": "stream",
     "text": [
      "Epoch 46/50 - Loss: 0.2902\n"
     ]
    },
    {
     "name": "stderr",
     "output_type": "stream",
     "text": [
      "\r"
     ]
    },
    {
     "name": "stdout",
     "output_type": "stream",
     "text": [
      "Val Dice L: 0.5448  Dice R: 0.5563  Dice Avg: 0.5505  HD L: 3.8517  HD R: 13.8234  HD95 L: 2.1767  HD95 R: 5.5077  ASSD L: 0.6867  ASSD R: 1.0260  RVE L: 0.3814  RVE R: 0.6630\n"
     ]
    },
    {
     "name": "stderr",
     "output_type": "stream",
     "text": [
      "                                                                        "
     ]
    },
    {
     "name": "stdout",
     "output_type": "stream",
     "text": [
      "Epoch 47/50 - Loss: 0.2945\n"
     ]
    },
    {
     "name": "stderr",
     "output_type": "stream",
     "text": [
      "\r"
     ]
    },
    {
     "name": "stdout",
     "output_type": "stream",
     "text": [
      "Val Dice L: 0.5364  Dice R: 0.5810  Dice Avg: 0.5587  HD L: 7.4435  HD R: 4.6038  HD95 L: 2.7464  HD95 R: 1.7148  ASSD L: 0.7958  ASSD R: 0.6105  RVE L: -0.0080  RVE R: 0.1290\n",
      "Nuevo mejor modelo guardado - Avg Dice: 0.5587\n"
     ]
    },
    {
     "name": "stderr",
     "output_type": "stream",
     "text": [
      "                                                                        "
     ]
    },
    {
     "name": "stdout",
     "output_type": "stream",
     "text": [
      "Epoch 48/50 - Loss: 0.2913\n"
     ]
    },
    {
     "name": "stderr",
     "output_type": "stream",
     "text": [
      "\r"
     ]
    },
    {
     "name": "stdout",
     "output_type": "stream",
     "text": [
      "Val Dice L: 0.4260  Dice R: 0.4947  Dice Avg: 0.4603  HD L: 9.6142  HD R: 16.1852  HD95 L: 6.3708  HD95 R: 9.5428  ASSD L: 2.9306  ASSD R: 2.5358  RVE L: -0.1175  RVE R: 0.1876\n"
     ]
    },
    {
     "name": "stderr",
     "output_type": "stream",
     "text": [
      "                                                                        "
     ]
    },
    {
     "name": "stdout",
     "output_type": "stream",
     "text": [
      "Epoch 49/50 - Loss: 0.2936\n"
     ]
    },
    {
     "name": "stderr",
     "output_type": "stream",
     "text": [
      "\r"
     ]
    },
    {
     "name": "stdout",
     "output_type": "stream",
     "text": [
      "Val Dice L: 0.5454  Dice R: 0.5919  Dice Avg: 0.5686  HD L: 3.4003  HD R: 4.5480  HD95 L: 2.1524  HD95 R: 1.5551  ASSD L: 0.6973  ASSD R: 0.5630  RVE L: 0.0133  RVE R: 0.2615\n",
      "Nuevo mejor modelo guardado - Avg Dice: 0.5686\n"
     ]
    },
    {
     "name": "stderr",
     "output_type": "stream",
     "text": [
      "                                                                        "
     ]
    },
    {
     "name": "stdout",
     "output_type": "stream",
     "text": [
      "Epoch 50/50 - Loss: 0.2884\n"
     ]
    },
    {
     "name": "stderr",
     "output_type": "stream",
     "text": [
      "\r"
     ]
    },
    {
     "name": "stdout",
     "output_type": "stream",
     "text": [
      "Val Dice L: 0.5478  Dice R: 0.5593  Dice Avg: 0.5536  HD L: 5.6285  HD R: 13.6671  HD95 L: 2.9304  HD95 R: 7.0432  ASSD L: 0.9174  ASSD R: 1.3997  RVE L: 0.0646  RVE R: 0.1420\n",
      "Resumen métricas fold: {'dice_L': 0.5453665009115605, 'dice_R': 0.5918764417636649, 'dice_Avg': 0.5686214713376128, 'hd_L': 3.400272404704394, 'hd_R': 4.547979089552531, 'hd_Avg': 3.974125747128463, 'hd95_L': 2.1524472118753377, 'hd95_R': 1.5551175901821694, 'hd95_Avg': 1.8537824010287536, 'assd_L': 0.6973190570606408, 'assd_R': 0.5629805785544542, 'assd_Avg': 0.6301498178075475, 'rve_L': 0.013336651765843525, 'rve_R': 0.2614609025598507, 'rve_Avg': 0.13739877716284712}\n",
      "\n",
      "===== Fold 5/5 =====\n"
     ]
    },
    {
     "name": "stderr",
     "output_type": "stream",
     "text": [
      "                                                                       "
     ]
    },
    {
     "name": "stdout",
     "output_type": "stream",
     "text": [
      "Epoch 1/50 - Loss: 0.8367\n"
     ]
    },
    {
     "name": "stderr",
     "output_type": "stream",
     "text": [
      "\r"
     ]
    },
    {
     "name": "stdout",
     "output_type": "stream",
     "text": [
      "Val Dice L: 0.0000  Dice R: 0.0000  Dice Avg: 0.0000  HD L: nan  HD R: nan  HD95 L: nan  HD95 R: nan  ASSD L: nan  ASSD R: nan  RVE L: -1.0000  RVE R: -1.0000\n"
     ]
    },
    {
     "name": "stderr",
     "output_type": "stream",
     "text": [
      "                                                                       "
     ]
    },
    {
     "name": "stdout",
     "output_type": "stream",
     "text": [
      "Epoch 2/50 - Loss: 0.6775\n"
     ]
    },
    {
     "name": "stderr",
     "output_type": "stream",
     "text": [
      "\r"
     ]
    },
    {
     "name": "stdout",
     "output_type": "stream",
     "text": [
      "Val Dice L: 0.0000  Dice R: 0.0000  Dice Avg: 0.0000  HD L: nan  HD R: nan  HD95 L: nan  HD95 R: nan  ASSD L: nan  ASSD R: nan  RVE L: -1.0000  RVE R: -1.0000\n"
     ]
    },
    {
     "name": "stderr",
     "output_type": "stream",
     "text": [
      "                                                                       "
     ]
    },
    {
     "name": "stdout",
     "output_type": "stream",
     "text": [
      "Epoch 3/50 - Loss: 0.6708\n"
     ]
    },
    {
     "name": "stderr",
     "output_type": "stream",
     "text": [
      "\r"
     ]
    },
    {
     "name": "stdout",
     "output_type": "stream",
     "text": [
      "Val Dice L: 0.0000  Dice R: 0.0000  Dice Avg: 0.0000  HD L: nan  HD R: nan  HD95 L: nan  HD95 R: nan  ASSD L: nan  ASSD R: nan  RVE L: -1.0000  RVE R: -1.0000\n"
     ]
    },
    {
     "name": "stderr",
     "output_type": "stream",
     "text": [
      "                                                                       "
     ]
    },
    {
     "name": "stdout",
     "output_type": "stream",
     "text": [
      "Epoch 4/50 - Loss: 0.6591\n"
     ]
    },
    {
     "name": "stderr",
     "output_type": "stream",
     "text": [
      "\r"
     ]
    },
    {
     "name": "stdout",
     "output_type": "stream",
     "text": [
      "Val Dice L: 0.2514  Dice R: 0.0000  Dice Avg: 0.1257  HD L: 8.4617  HD R: nan  HD95 L: 5.3643  HD95 R: nan  ASSD L: 1.3766  ASSD R: nan  RVE L: -0.5513  RVE R: -1.0000\n",
      "Nuevo mejor modelo guardado - Avg Dice: 0.1257\n"
     ]
    },
    {
     "name": "stderr",
     "output_type": "stream",
     "text": [
      "                                                                       "
     ]
    },
    {
     "name": "stdout",
     "output_type": "stream",
     "text": [
      "Epoch 5/50 - Loss: 0.6420\n"
     ]
    },
    {
     "name": "stderr",
     "output_type": "stream",
     "text": [
      "\r"
     ]
    },
    {
     "name": "stdout",
     "output_type": "stream",
     "text": [
      "Val Dice L: 0.4316  Dice R: 0.0000  Dice Avg: 0.2158  HD L: 6.2531  HD R: nan  HD95 L: 3.2385  HD95 R: nan  ASSD L: 0.9958  ASSD R: nan  RVE L: 0.5653  RVE R: -1.0000\n",
      "Nuevo mejor modelo guardado - Avg Dice: 0.2158\n"
     ]
    },
    {
     "name": "stderr",
     "output_type": "stream",
     "text": [
      "                                                                       "
     ]
    },
    {
     "name": "stdout",
     "output_type": "stream",
     "text": [
      "Epoch 6/50 - Loss: 0.6196\n"
     ]
    },
    {
     "name": "stderr",
     "output_type": "stream",
     "text": [
      "\r"
     ]
    },
    {
     "name": "stdout",
     "output_type": "stream",
     "text": [
      "Val Dice L: 0.4886  Dice R: 0.0000  Dice Avg: 0.2443  HD L: 7.1386  HD R: nan  HD95 L: 3.1147  HD95 R: nan  ASSD L: 0.8530  ASSD R: nan  RVE L: 0.4230  RVE R: -1.0000\n",
      "Nuevo mejor modelo guardado - Avg Dice: 0.2443\n"
     ]
    },
    {
     "name": "stderr",
     "output_type": "stream",
     "text": [
      "                                                                       "
     ]
    },
    {
     "name": "stdout",
     "output_type": "stream",
     "text": [
      "Epoch 7/50 - Loss: 0.6056\n"
     ]
    },
    {
     "name": "stderr",
     "output_type": "stream",
     "text": [
      "\r"
     ]
    },
    {
     "name": "stdout",
     "output_type": "stream",
     "text": [
      "Val Dice L: 0.4872  Dice R: 0.0000  Dice Avg: 0.2436  HD L: 8.2561  HD R: nan  HD95 L: 4.5468  HD95 R: nan  ASSD L: 0.9873  ASSD R: nan  RVE L: -0.2202  RVE R: -1.0000\n"
     ]
    },
    {
     "name": "stderr",
     "output_type": "stream",
     "text": [
      "                                                                       "
     ]
    },
    {
     "name": "stdout",
     "output_type": "stream",
     "text": [
      "Epoch 8/50 - Loss: 0.5993\n"
     ]
    },
    {
     "name": "stderr",
     "output_type": "stream",
     "text": [
      "\r"
     ]
    },
    {
     "name": "stdout",
     "output_type": "stream",
     "text": [
      "Val Dice L: 0.5055  Dice R: 0.0000  Dice Avg: 0.2527  HD L: 6.7846  HD R: nan  HD95 L: 2.2088  HD95 R: nan  ASSD L: 0.6641  ASSD R: nan  RVE L: 0.8489  RVE R: -1.0000\n",
      "Nuevo mejor modelo guardado - Avg Dice: 0.2527\n"
     ]
    },
    {
     "name": "stderr",
     "output_type": "stream",
     "text": [
      "                                                                       "
     ]
    },
    {
     "name": "stdout",
     "output_type": "stream",
     "text": [
      "Epoch 9/50 - Loss: 0.5654\n"
     ]
    },
    {
     "name": "stderr",
     "output_type": "stream",
     "text": [
      "\r"
     ]
    },
    {
     "name": "stdout",
     "output_type": "stream",
     "text": [
      "Val Dice L: 0.4833  Dice R: 0.2769  Dice Avg: 0.3801  HD L: 10.3039  HD R: 11.3349  HD95 L: 2.4709  HD95 R: 7.1690  ASSD L: 0.7495  ASSD R: 1.8453  RVE L: 1.1695  RVE R: -0.2728\n",
      "Nuevo mejor modelo guardado - Avg Dice: 0.3801\n"
     ]
    },
    {
     "name": "stderr",
     "output_type": "stream",
     "text": [
      "                                                                       "
     ]
    },
    {
     "name": "stdout",
     "output_type": "stream",
     "text": [
      "Epoch 10/50 - Loss: 0.5145\n"
     ]
    },
    {
     "name": "stderr",
     "output_type": "stream",
     "text": [
      "\r"
     ]
    },
    {
     "name": "stdout",
     "output_type": "stream",
     "text": [
      "Val Dice L: 0.5597  Dice R: 0.3994  Dice Avg: 0.4796  HD L: 6.1326  HD R: 10.8963  HD95 L: 2.7246  HD95 R: 4.5924  ASSD L: 0.6452  ASSD R: 1.0620  RVE L: 0.4846  RVE R: 1.6522\n",
      "Nuevo mejor modelo guardado - Avg Dice: 0.4796\n"
     ]
    },
    {
     "name": "stderr",
     "output_type": "stream",
     "text": [
      "                                                                        "
     ]
    },
    {
     "name": "stdout",
     "output_type": "stream",
     "text": [
      "Epoch 11/50 - Loss: 0.4941\n"
     ]
    },
    {
     "name": "stderr",
     "output_type": "stream",
     "text": [
      "\r"
     ]
    },
    {
     "name": "stdout",
     "output_type": "stream",
     "text": [
      "Val Dice L: 0.5581  Dice R: 0.4861  Dice Avg: 0.5221  HD L: 5.7575  HD R: 8.1060  HD95 L: 1.9344  HD95 R: 3.5437  ASSD L: 0.5794  ASSD R: 0.9554  RVE L: 0.7907  RVE R: 0.4133\n",
      "Nuevo mejor modelo guardado - Avg Dice: 0.5221\n"
     ]
    },
    {
     "name": "stderr",
     "output_type": "stream",
     "text": [
      "                                                                        "
     ]
    },
    {
     "name": "stdout",
     "output_type": "stream",
     "text": [
      "Epoch 12/50 - Loss: 0.4740\n"
     ]
    },
    {
     "name": "stderr",
     "output_type": "stream",
     "text": [
      "\r"
     ]
    },
    {
     "name": "stdout",
     "output_type": "stream",
     "text": [
      "Val Dice L: 0.5708  Dice R: 0.4820  Dice Avg: 0.5264  HD L: 6.7302  HD R: 12.7956  HD95 L: 1.8773  HD95 R: 3.8127  ASSD L: 0.6078  ASSD R: 1.0781  RVE L: 0.4327  RVE R: 0.7998\n",
      "Nuevo mejor modelo guardado - Avg Dice: 0.5264\n"
     ]
    },
    {
     "name": "stderr",
     "output_type": "stream",
     "text": [
      "                                                                        "
     ]
    },
    {
     "name": "stdout",
     "output_type": "stream",
     "text": [
      "Epoch 13/50 - Loss: 0.4574\n"
     ]
    },
    {
     "name": "stderr",
     "output_type": "stream",
     "text": [
      "\r"
     ]
    },
    {
     "name": "stdout",
     "output_type": "stream",
     "text": [
      "Val Dice L: 0.5709  Dice R: 0.5197  Dice Avg: 0.5453  HD L: 3.9973  HD R: 5.5217  HD95 L: 1.7503  HD95 R: 2.2638  ASSD L: 0.5587  ASSD R: 0.6660  RVE L: 0.1753  RVE R: 0.8257\n",
      "Nuevo mejor modelo guardado - Avg Dice: 0.5453\n"
     ]
    },
    {
     "name": "stderr",
     "output_type": "stream",
     "text": [
      "                                                                        "
     ]
    },
    {
     "name": "stdout",
     "output_type": "stream",
     "text": [
      "Epoch 14/50 - Loss: 0.4363\n"
     ]
    },
    {
     "name": "stderr",
     "output_type": "stream",
     "text": [
      "\r"
     ]
    },
    {
     "name": "stdout",
     "output_type": "stream",
     "text": [
      "Val Dice L: 0.6111  Dice R: 0.5470  Dice Avg: 0.5790  HD L: 4.5858  HD R: 5.8936  HD95 L: 1.7539  HD95 R: 2.3470  ASSD L: 0.5269  ASSD R: 0.6803  RVE L: 0.1381  RVE R: 0.2990\n",
      "Nuevo mejor modelo guardado - Avg Dice: 0.5790\n"
     ]
    },
    {
     "name": "stderr",
     "output_type": "stream",
     "text": [
      "                                                                        "
     ]
    },
    {
     "name": "stdout",
     "output_type": "stream",
     "text": [
      "Epoch 15/50 - Loss: 0.4197\n"
     ]
    },
    {
     "name": "stderr",
     "output_type": "stream",
     "text": [
      "\r"
     ]
    },
    {
     "name": "stdout",
     "output_type": "stream",
     "text": [
      "Val Dice L: 0.6141  Dice R: 0.5745  Dice Avg: 0.5943  HD L: 4.7495  HD R: 5.5490  HD95 L: 1.6376  HD95 R: 2.6445  ASSD L: 0.5085  ASSD R: 0.6396  RVE L: 0.2272  RVE R: 0.3305\n",
      "Nuevo mejor modelo guardado - Avg Dice: 0.5943\n"
     ]
    },
    {
     "name": "stderr",
     "output_type": "stream",
     "text": [
      "                                                                        "
     ]
    },
    {
     "name": "stdout",
     "output_type": "stream",
     "text": [
      "Epoch 16/50 - Loss: 0.4296\n"
     ]
    },
    {
     "name": "stderr",
     "output_type": "stream",
     "text": [
      "\r"
     ]
    },
    {
     "name": "stdout",
     "output_type": "stream",
     "text": [
      "Val Dice L: 0.6151  Dice R: 0.5882  Dice Avg: 0.6017  HD L: 3.3636  HD R: 5.4803  HD95 L: 1.5357  HD95 R: 1.9417  ASSD L: 0.4746  ASSD R: 0.5697  RVE L: 0.0020  RVE R: 0.2824\n",
      "Nuevo mejor modelo guardado - Avg Dice: 0.6017\n"
     ]
    },
    {
     "name": "stderr",
     "output_type": "stream",
     "text": [
      "                                                                        "
     ]
    },
    {
     "name": "stdout",
     "output_type": "stream",
     "text": [
      "Epoch 17/50 - Loss: 0.4075\n"
     ]
    },
    {
     "name": "stderr",
     "output_type": "stream",
     "text": [
      "\r"
     ]
    },
    {
     "name": "stdout",
     "output_type": "stream",
     "text": [
      "Val Dice L: 0.6285  Dice R: 0.5622  Dice Avg: 0.5954  HD L: 5.2677  HD R: 4.5274  HD95 L: 1.5039  HD95 R: 1.8993  ASSD L: 0.4459  ASSD R: 0.5341  RVE L: 0.4514  RVE R: 0.8145\n"
     ]
    },
    {
     "name": "stderr",
     "output_type": "stream",
     "text": [
      "                                                                        "
     ]
    },
    {
     "name": "stdout",
     "output_type": "stream",
     "text": [
      "Epoch 18/50 - Loss: 0.4064\n"
     ]
    },
    {
     "name": "stderr",
     "output_type": "stream",
     "text": [
      "\r"
     ]
    },
    {
     "name": "stdout",
     "output_type": "stream",
     "text": [
      "Val Dice L: 0.5881  Dice R: 0.5489  Dice Avg: 0.5685  HD L: 3.5916  HD R: 7.9455  HD95 L: 1.6441  HD95 R: 1.9991  ASSD L: 0.4847  ASSD R: 0.5701  RVE L: 0.6401  RVE R: 0.8805\n"
     ]
    },
    {
     "name": "stderr",
     "output_type": "stream",
     "text": [
      "                                                                        "
     ]
    },
    {
     "name": "stdout",
     "output_type": "stream",
     "text": [
      "Epoch 19/50 - Loss: 0.4089\n"
     ]
    },
    {
     "name": "stderr",
     "output_type": "stream",
     "text": [
      "\r"
     ]
    },
    {
     "name": "stdout",
     "output_type": "stream",
     "text": [
      "Val Dice L: 0.5808  Dice R: 0.5880  Dice Avg: 0.5844  HD L: 4.1439  HD R: 4.5447  HD95 L: 1.9310  HD95 R: 1.9962  ASSD L: 0.5350  ASSD R: 0.5382  RVE L: -0.2511  RVE R: -0.2312\n"
     ]
    },
    {
     "name": "stderr",
     "output_type": "stream",
     "text": [
      "                                                                        "
     ]
    },
    {
     "name": "stdout",
     "output_type": "stream",
     "text": [
      "Epoch 20/50 - Loss: 0.3874\n"
     ]
    },
    {
     "name": "stderr",
     "output_type": "stream",
     "text": [
      "\r"
     ]
    },
    {
     "name": "stdout",
     "output_type": "stream",
     "text": [
      "Val Dice L: 0.5754  Dice R: 0.5956  Dice Avg: 0.5855  HD L: 5.7366  HD R: 4.4837  HD95 L: 2.5397  HD95 R: 2.1507  ASSD L: 0.5217  ASSD R: 0.5598  RVE L: 0.8398  RVE R: -0.0470\n"
     ]
    },
    {
     "name": "stderr",
     "output_type": "stream",
     "text": [
      "                                                                        "
     ]
    },
    {
     "name": "stdout",
     "output_type": "stream",
     "text": [
      "Epoch 21/50 - Loss: 0.3923\n"
     ]
    },
    {
     "name": "stderr",
     "output_type": "stream",
     "text": [
      "\r"
     ]
    },
    {
     "name": "stdout",
     "output_type": "stream",
     "text": [
      "Val Dice L: 0.6153  Dice R: 0.6142  Dice Avg: 0.6147  HD L: 2.7920  HD R: 3.3740  HD95 L: 1.5225  HD95 R: 1.5601  ASSD L: 0.4651  ASSD R: 0.4735  RVE L: 0.1667  RVE R: 0.2414\n",
      "Nuevo mejor modelo guardado - Avg Dice: 0.6147\n"
     ]
    },
    {
     "name": "stderr",
     "output_type": "stream",
     "text": [
      "                                                                        "
     ]
    },
    {
     "name": "stdout",
     "output_type": "stream",
     "text": [
      "Epoch 22/50 - Loss: 0.3890\n"
     ]
    },
    {
     "name": "stderr",
     "output_type": "stream",
     "text": [
      "\r"
     ]
    },
    {
     "name": "stdout",
     "output_type": "stream",
     "text": [
      "Val Dice L: 0.6303  Dice R: 0.6182  Dice Avg: 0.6242  HD L: 2.7794  HD R: 4.1177  HD95 L: 1.4688  HD95 R: 1.6835  ASSD L: 0.4419  ASSD R: 0.4857  RVE L: 0.2494  RVE R: 0.1421\n",
      "Nuevo mejor modelo guardado - Avg Dice: 0.6242\n"
     ]
    },
    {
     "name": "stderr",
     "output_type": "stream",
     "text": [
      "                                                                        "
     ]
    },
    {
     "name": "stdout",
     "output_type": "stream",
     "text": [
      "Epoch 23/50 - Loss: 0.3822\n"
     ]
    },
    {
     "name": "stderr",
     "output_type": "stream",
     "text": [
      "\r"
     ]
    },
    {
     "name": "stdout",
     "output_type": "stream",
     "text": [
      "Val Dice L: 0.6151  Dice R: 0.5778  Dice Avg: 0.5965  HD L: 7.3682  HD R: 7.1540  HD95 L: 1.5306  HD95 R: 2.5225  ASSD L: 0.5036  ASSD R: 0.5870  RVE L: 0.3242  RVE R: 0.6718\n"
     ]
    },
    {
     "name": "stderr",
     "output_type": "stream",
     "text": [
      "                                                                        "
     ]
    },
    {
     "name": "stdout",
     "output_type": "stream",
     "text": [
      "Epoch 24/50 - Loss: 0.3904\n"
     ]
    },
    {
     "name": "stderr",
     "output_type": "stream",
     "text": [
      "\r"
     ]
    },
    {
     "name": "stdout",
     "output_type": "stream",
     "text": [
      "Val Dice L: 0.6297  Dice R: 0.6479  Dice Avg: 0.6388  HD L: 3.6443  HD R: 5.0809  HD95 L: 1.5067  HD95 R: 1.3992  ASSD L: 0.4539  ASSD R: 0.4146  RVE L: 0.1606  RVE R: 0.3125\n",
      "Nuevo mejor modelo guardado - Avg Dice: 0.6388\n"
     ]
    },
    {
     "name": "stderr",
     "output_type": "stream",
     "text": [
      "                                                                        "
     ]
    },
    {
     "name": "stdout",
     "output_type": "stream",
     "text": [
      "Epoch 25/50 - Loss: 0.3712\n"
     ]
    },
    {
     "name": "stderr",
     "output_type": "stream",
     "text": [
      "\r"
     ]
    },
    {
     "name": "stdout",
     "output_type": "stream",
     "text": [
      "Val Dice L: 0.6406  Dice R: 0.6545  Dice Avg: 0.6476  HD L: 2.8635  HD R: 3.5371  HD95 L: 1.5191  HD95 R: 1.4055  ASSD L: 0.4296  ASSD R: 0.4062  RVE L: 0.0945  RVE R: 0.2220\n",
      "Nuevo mejor modelo guardado - Avg Dice: 0.6476\n"
     ]
    },
    {
     "name": "stderr",
     "output_type": "stream",
     "text": [
      "                                                                        "
     ]
    },
    {
     "name": "stdout",
     "output_type": "stream",
     "text": [
      "Epoch 26/50 - Loss: 0.3705\n"
     ]
    },
    {
     "name": "stderr",
     "output_type": "stream",
     "text": [
      "\r"
     ]
    },
    {
     "name": "stdout",
     "output_type": "stream",
     "text": [
      "Val Dice L: 0.6385  Dice R: 0.6461  Dice Avg: 0.6423  HD L: 2.8350  HD R: 3.4744  HD95 L: 1.5806  HD95 R: 1.5190  ASSD L: 0.4436  ASSD R: 0.4302  RVE L: -0.0045  RVE R: 0.0945\n"
     ]
    },
    {
     "name": "stderr",
     "output_type": "stream",
     "text": [
      "                                                                        "
     ]
    },
    {
     "name": "stdout",
     "output_type": "stream",
     "text": [
      "Epoch 27/50 - Loss: 0.3686\n"
     ]
    },
    {
     "name": "stderr",
     "output_type": "stream",
     "text": [
      "\r"
     ]
    },
    {
     "name": "stdout",
     "output_type": "stream",
     "text": [
      "Val Dice L: 0.6422  Dice R: 0.6293  Dice Avg: 0.6358  HD L: 7.1748  HD R: 3.9248  HD95 L: 1.5820  HD95 R: 1.5347  ASSD L: 0.4958  ASSD R: 0.4469  RVE L: 0.1015  RVE R: 0.1306\n"
     ]
    },
    {
     "name": "stderr",
     "output_type": "stream",
     "text": [
      "                                                                        "
     ]
    },
    {
     "name": "stdout",
     "output_type": "stream",
     "text": [
      "Epoch 28/50 - Loss: 0.3766\n"
     ]
    },
    {
     "name": "stderr",
     "output_type": "stream",
     "text": [
      "\r"
     ]
    },
    {
     "name": "stdout",
     "output_type": "stream",
     "text": [
      "Val Dice L: 0.6462  Dice R: 0.6450  Dice Avg: 0.6456  HD L: 2.8745  HD R: 3.1980  HD95 L: 1.4395  HD95 R: 1.4052  ASSD L: 0.4294  ASSD R: 0.4179  RVE L: 0.0980  RVE R: 0.0856\n"
     ]
    },
    {
     "name": "stderr",
     "output_type": "stream",
     "text": [
      "                                                                        "
     ]
    },
    {
     "name": "stdout",
     "output_type": "stream",
     "text": [
      "Epoch 29/50 - Loss: 0.3809\n"
     ]
    },
    {
     "name": "stderr",
     "output_type": "stream",
     "text": [
      "\r"
     ]
    },
    {
     "name": "stdout",
     "output_type": "stream",
     "text": [
      "Val Dice L: 0.6435  Dice R: 0.6472  Dice Avg: 0.6453  HD L: 3.1881  HD R: 4.3086  HD95 L: 1.5365  HD95 R: 1.4591  ASSD L: 0.4370  ASSD R: 0.4268  RVE L: -0.0125  RVE R: 0.1972\n"
     ]
    },
    {
     "name": "stderr",
     "output_type": "stream",
     "text": [
      "                                                                        "
     ]
    },
    {
     "name": "stdout",
     "output_type": "stream",
     "text": [
      "Epoch 30/50 - Loss: 0.3647\n"
     ]
    },
    {
     "name": "stderr",
     "output_type": "stream",
     "text": [
      "\r"
     ]
    },
    {
     "name": "stdout",
     "output_type": "stream",
     "text": [
      "Val Dice L: 0.5968  Dice R: 0.5970  Dice Avg: 0.5969  HD L: 9.7168  HD R: 6.9035  HD95 L: 1.5777  HD95 R: 1.6459  ASSD L: 0.5031  ASSD R: 0.4641  RVE L: 0.7464  RVE R: 0.9307\n"
     ]
    },
    {
     "name": "stderr",
     "output_type": "stream",
     "text": [
      "                                                                        "
     ]
    },
    {
     "name": "stdout",
     "output_type": "stream",
     "text": [
      "Epoch 31/50 - Loss: 0.3758\n"
     ]
    },
    {
     "name": "stderr",
     "output_type": "stream",
     "text": [
      "\r"
     ]
    },
    {
     "name": "stdout",
     "output_type": "stream",
     "text": [
      "Val Dice L: 0.6411  Dice R: 0.6322  Dice Avg: 0.6366  HD L: 3.1083  HD R: 7.2406  HD95 L: 1.5023  HD95 R: 1.5148  ASSD L: 0.4263  ASSD R: 0.4948  RVE L: 0.2202  RVE R: 0.3729\n"
     ]
    },
    {
     "name": "stderr",
     "output_type": "stream",
     "text": [
      "                                                                        "
     ]
    },
    {
     "name": "stdout",
     "output_type": "stream",
     "text": [
      "Epoch 32/50 - Loss: 0.3660\n"
     ]
    },
    {
     "name": "stderr",
     "output_type": "stream",
     "text": [
      "\r"
     ]
    },
    {
     "name": "stdout",
     "output_type": "stream",
     "text": [
      "Val Dice L: 0.6555  Dice R: 0.6671  Dice Avg: 0.6613  HD L: 3.3057  HD R: 3.5281  HD95 L: 1.4216  HD95 R: 1.3942  ASSD L: 0.4085  ASSD R: 0.3988  RVE L: 0.2022  RVE R: 0.2067\n",
      "Nuevo mejor modelo guardado - Avg Dice: 0.6613\n"
     ]
    },
    {
     "name": "stderr",
     "output_type": "stream",
     "text": [
      "                                                                        "
     ]
    },
    {
     "name": "stdout",
     "output_type": "stream",
     "text": [
      "Epoch 33/50 - Loss: 0.3615\n"
     ]
    },
    {
     "name": "stderr",
     "output_type": "stream",
     "text": [
      "\r"
     ]
    },
    {
     "name": "stdout",
     "output_type": "stream",
     "text": [
      "Val Dice L: 0.6636  Dice R: 0.6558  Dice Avg: 0.6597  HD L: 3.7330  HD R: 2.9712  HD95 L: 1.4051  HD95 R: 1.3470  ASSD L: 0.4032  ASSD R: 0.3966  RVE L: 0.1902  RVE R: 0.3392\n"
     ]
    },
    {
     "name": "stderr",
     "output_type": "stream",
     "text": [
      "                                                                        "
     ]
    },
    {
     "name": "stdout",
     "output_type": "stream",
     "text": [
      "Epoch 34/50 - Loss: 0.3593\n"
     ]
    },
    {
     "name": "stderr",
     "output_type": "stream",
     "text": [
      "\r"
     ]
    },
    {
     "name": "stdout",
     "output_type": "stream",
     "text": [
      "Val Dice L: 0.6444  Dice R: 0.6459  Dice Avg: 0.6451  HD L: 8.2984  HD R: 3.6242  HD95 L: 1.4475  HD95 R: 2.0406  ASSD L: 0.4382  ASSD R: 0.4459  RVE L: 0.5154  RVE R: 0.3548\n"
     ]
    },
    {
     "name": "stderr",
     "output_type": "stream",
     "text": [
      "                                                                        "
     ]
    },
    {
     "name": "stdout",
     "output_type": "stream",
     "text": [
      "Epoch 35/50 - Loss: 0.3601\n"
     ]
    },
    {
     "name": "stderr",
     "output_type": "stream",
     "text": [
      "\r"
     ]
    },
    {
     "name": "stdout",
     "output_type": "stream",
     "text": [
      "Val Dice L: 0.6677  Dice R: 0.6528  Dice Avg: 0.6602  HD L: 2.6848  HD R: 4.7257  HD95 L: 1.3698  HD95 R: 1.4704  ASSD L: 0.3983  ASSD R: 0.4437  RVE L: 0.0892  RVE R: 0.1652\n"
     ]
    },
    {
     "name": "stderr",
     "output_type": "stream",
     "text": [
      "                                                                        "
     ]
    },
    {
     "name": "stdout",
     "output_type": "stream",
     "text": [
      "Epoch 36/50 - Loss: 0.3548\n"
     ]
    },
    {
     "name": "stderr",
     "output_type": "stream",
     "text": [
      "\r"
     ]
    },
    {
     "name": "stdout",
     "output_type": "stream",
     "text": [
      "Val Dice L: 0.6687  Dice R: 0.6721  Dice Avg: 0.6704  HD L: 2.2861  HD R: 3.0357  HD95 L: 1.3462  HD95 R: 1.3312  ASSD L: 0.3888  ASSD R: 0.3756  RVE L: 0.2196  RVE R: 0.2827\n",
      "Nuevo mejor modelo guardado - Avg Dice: 0.6704\n"
     ]
    },
    {
     "name": "stderr",
     "output_type": "stream",
     "text": [
      "                                                                        "
     ]
    },
    {
     "name": "stdout",
     "output_type": "stream",
     "text": [
      "Epoch 37/50 - Loss: 0.3478\n"
     ]
    },
    {
     "name": "stderr",
     "output_type": "stream",
     "text": [
      "\r"
     ]
    },
    {
     "name": "stdout",
     "output_type": "stream",
     "text": [
      "Val Dice L: 0.6432  Dice R: 0.6543  Dice Avg: 0.6487  HD L: 3.4931  HD R: 3.6010  HD95 L: 1.3807  HD95 R: 1.3330  ASSD L: 0.4126  ASSD R: 0.4006  RVE L: 0.3849  RVE R: 0.3012\n"
     ]
    },
    {
     "name": "stderr",
     "output_type": "stream",
     "text": [
      "                                                                        "
     ]
    },
    {
     "name": "stdout",
     "output_type": "stream",
     "text": [
      "Epoch 38/50 - Loss: 0.3584\n"
     ]
    },
    {
     "name": "stderr",
     "output_type": "stream",
     "text": [
      "\r"
     ]
    },
    {
     "name": "stdout",
     "output_type": "stream",
     "text": [
      "Val Dice L: 0.6364  Dice R: 0.6681  Dice Avg: 0.6523  HD L: 4.8402  HD R: 3.4165  HD95 L: 1.4429  HD95 R: 1.3838  ASSD L: 0.4328  ASSD R: 0.3953  RVE L: 0.5732  RVE R: 0.2245\n"
     ]
    },
    {
     "name": "stderr",
     "output_type": "stream",
     "text": [
      "                                                                        "
     ]
    },
    {
     "name": "stdout",
     "output_type": "stream",
     "text": [
      "Epoch 39/50 - Loss: 0.3614\n"
     ]
    },
    {
     "name": "stderr",
     "output_type": "stream",
     "text": [
      "\r"
     ]
    },
    {
     "name": "stdout",
     "output_type": "stream",
     "text": [
      "Val Dice L: 0.6650  Dice R: 0.6535  Dice Avg: 0.6593  HD L: 2.5017  HD R: 5.8192  HD95 L: 1.4032  HD95 R: 1.5780  ASSD L: 0.3918  ASSD R: 0.4652  RVE L: 0.1906  RVE R: 0.0410\n"
     ]
    },
    {
     "name": "stderr",
     "output_type": "stream",
     "text": [
      "                                                                        "
     ]
    },
    {
     "name": "stdout",
     "output_type": "stream",
     "text": [
      "Epoch 40/50 - Loss: 0.3546\n"
     ]
    },
    {
     "name": "stderr",
     "output_type": "stream",
     "text": [
      "\r"
     ]
    },
    {
     "name": "stdout",
     "output_type": "stream",
     "text": [
      "Val Dice L: 0.6720  Dice R: 0.6731  Dice Avg: 0.6726  HD L: 3.0090  HD R: 3.3696  HD95 L: 1.4148  HD95 R: 1.3494  ASSD L: 0.3965  ASSD R: 0.3760  RVE L: 0.0282  RVE R: 0.2275\n",
      "Nuevo mejor modelo guardado - Avg Dice: 0.6726\n"
     ]
    },
    {
     "name": "stderr",
     "output_type": "stream",
     "text": [
      "                                                                        "
     ]
    },
    {
     "name": "stdout",
     "output_type": "stream",
     "text": [
      "Epoch 41/50 - Loss: 0.3475\n"
     ]
    },
    {
     "name": "stderr",
     "output_type": "stream",
     "text": [
      "\r"
     ]
    },
    {
     "name": "stdout",
     "output_type": "stream",
     "text": [
      "Val Dice L: 0.6706  Dice R: 0.6736  Dice Avg: 0.6721  HD L: 2.5894  HD R: 3.3120  HD95 L: 1.4059  HD95 R: 1.3512  ASSD L: 0.4009  ASSD R: 0.3841  RVE L: -0.0130  RVE R: -0.0587\n"
     ]
    },
    {
     "name": "stderr",
     "output_type": "stream",
     "text": [
      "                                                                        "
     ]
    },
    {
     "name": "stdout",
     "output_type": "stream",
     "text": [
      "Epoch 42/50 - Loss: 0.3478\n"
     ]
    },
    {
     "name": "stderr",
     "output_type": "stream",
     "text": [
      "\r"
     ]
    },
    {
     "name": "stdout",
     "output_type": "stream",
     "text": [
      "Val Dice L: 0.6621  Dice R: 0.6673  Dice Avg: 0.6647  HD L: 3.2675  HD R: 3.4903  HD95 L: 1.3828  HD95 R: 1.3463  ASSD L: 0.3946  ASSD R: 0.3777  RVE L: 0.2932  RVE R: 0.4259\n"
     ]
    },
    {
     "name": "stderr",
     "output_type": "stream",
     "text": [
      "                                                                        "
     ]
    },
    {
     "name": "stdout",
     "output_type": "stream",
     "text": [
      "Epoch 43/50 - Loss: 0.3461\n"
     ]
    },
    {
     "name": "stderr",
     "output_type": "stream",
     "text": [
      "\r"
     ]
    },
    {
     "name": "stdout",
     "output_type": "stream",
     "text": [
      "Val Dice L: 0.6740  Dice R: 0.6808  Dice Avg: 0.6774  HD L: 3.4334  HD R: 4.2075  HD95 L: 1.2949  HD95 R: 1.3445  ASSD L: 0.4000  ASSD R: 0.3794  RVE L: 0.2420  RVE R: 0.2149\n",
      "Nuevo mejor modelo guardado - Avg Dice: 0.6774\n"
     ]
    },
    {
     "name": "stderr",
     "output_type": "stream",
     "text": [
      "                                                                        "
     ]
    },
    {
     "name": "stdout",
     "output_type": "stream",
     "text": [
      "Epoch 44/50 - Loss: 0.3389\n"
     ]
    },
    {
     "name": "stderr",
     "output_type": "stream",
     "text": [
      "\r"
     ]
    },
    {
     "name": "stdout",
     "output_type": "stream",
     "text": [
      "Val Dice L: 0.6822  Dice R: 0.6825  Dice Avg: 0.6823  HD L: 2.6093  HD R: 2.8015  HD95 L: 1.3199  HD95 R: 1.2777  ASSD L: 0.3737  ASSD R: 0.3665  RVE L: 0.2503  RVE R: -0.0050\n",
      "Nuevo mejor modelo guardado - Avg Dice: 0.6823\n"
     ]
    },
    {
     "name": "stderr",
     "output_type": "stream",
     "text": [
      "                                                                        "
     ]
    },
    {
     "name": "stdout",
     "output_type": "stream",
     "text": [
      "Epoch 45/50 - Loss: 0.3533\n"
     ]
    },
    {
     "name": "stderr",
     "output_type": "stream",
     "text": [
      "\r"
     ]
    },
    {
     "name": "stdout",
     "output_type": "stream",
     "text": [
      "Val Dice L: 0.6881  Dice R: 0.6719  Dice Avg: 0.6800  HD L: 2.7494  HD R: 2.8109  HD95 L: 1.3063  HD95 R: 1.3451  ASSD L: 0.3691  ASSD R: 0.3863  RVE L: 0.1791  RVE R: 0.1488\n"
     ]
    },
    {
     "name": "stderr",
     "output_type": "stream",
     "text": [
      "                                                                        "
     ]
    },
    {
     "name": "stdout",
     "output_type": "stream",
     "text": [
      "Epoch 46/50 - Loss: 0.3445\n"
     ]
    },
    {
     "name": "stderr",
     "output_type": "stream",
     "text": [
      "\r"
     ]
    },
    {
     "name": "stdout",
     "output_type": "stream",
     "text": [
      "Val Dice L: 0.6733  Dice R: 0.6802  Dice Avg: 0.6768  HD L: 2.4013  HD R: 2.8903  HD95 L: 1.3763  HD95 R: 1.2652  ASSD L: 0.3894  ASSD R: 0.3636  RVE L: 0.1736  RVE R: 0.1825\n"
     ]
    },
    {
     "name": "stderr",
     "output_type": "stream",
     "text": [
      "                                                                        "
     ]
    },
    {
     "name": "stdout",
     "output_type": "stream",
     "text": [
      "Epoch 47/50 - Loss: 0.3380\n"
     ]
    },
    {
     "name": "stderr",
     "output_type": "stream",
     "text": [
      "\r"
     ]
    },
    {
     "name": "stdout",
     "output_type": "stream",
     "text": [
      "Val Dice L: 0.6661  Dice R: 0.6808  Dice Avg: 0.6734  HD L: 2.9322  HD R: 4.1406  HD95 L: 1.3430  HD95 R: 1.5843  ASSD L: 0.3808  ASSD R: 0.4005  RVE L: 0.4215  RVE R: 0.2418\n"
     ]
    },
    {
     "name": "stderr",
     "output_type": "stream",
     "text": [
      "                                                                        "
     ]
    },
    {
     "name": "stdout",
     "output_type": "stream",
     "text": [
      "Epoch 48/50 - Loss: 0.3355\n"
     ]
    },
    {
     "name": "stderr",
     "output_type": "stream",
     "text": [
      "\r"
     ]
    },
    {
     "name": "stdout",
     "output_type": "stream",
     "text": [
      "Val Dice L: 0.6793  Dice R: 0.6790  Dice Avg: 0.6792  HD L: 2.4524  HD R: 2.7142  HD95 L: 1.3158  HD95 R: 1.6109  ASSD L: 0.3863  ASSD R: 0.3854  RVE L: 0.0796  RVE R: 0.2610\n"
     ]
    },
    {
     "name": "stderr",
     "output_type": "stream",
     "text": [
      "                                                                        "
     ]
    },
    {
     "name": "stdout",
     "output_type": "stream",
     "text": [
      "Epoch 49/50 - Loss: 0.3355\n"
     ]
    },
    {
     "name": "stderr",
     "output_type": "stream",
     "text": [
      "\r"
     ]
    },
    {
     "name": "stdout",
     "output_type": "stream",
     "text": [
      "Val Dice L: 0.6776  Dice R: 0.6801  Dice Avg: 0.6789  HD L: 2.7555  HD R: 2.8008  HD95 L: 1.3256  HD95 R: 1.3312  ASSD L: 0.3718  ASSD R: 0.3510  RVE L: 0.3250  RVE R: 0.4178\n"
     ]
    },
    {
     "name": "stderr",
     "output_type": "stream",
     "text": [
      "                                                                        "
     ]
    },
    {
     "name": "stdout",
     "output_type": "stream",
     "text": [
      "Epoch 50/50 - Loss: 0.3351\n"
     ]
    },
    {
     "name": "stderr",
     "output_type": "stream",
     "text": [
      "\r"
     ]
    },
    {
     "name": "stdout",
     "output_type": "stream",
     "text": [
      "Val Dice L: 0.6754  Dice R: 0.6670  Dice Avg: 0.6712  HD L: 2.3364  HD R: 2.8189  HD95 L: 1.3308  HD95 R: 1.3931  ASSD L: 0.3815  ASSD R: 0.3756  RVE L: 0.1514  RVE R: 0.4341\n",
      "Resumen métricas fold: {'dice_L': 0.6821537792499696, 'dice_R': 0.6825259674445496, 'dice_Avg': 0.6823398733472597, 'hd_L': 2.6092827578139897, 'hd_R': 2.8015418811189154, 'hd_Avg': 2.7054123194664523, 'hd95_L': 1.3198803006324065, 'hd95_R': 1.2776967840889901, 'hd95_Avg': 1.2987885423606982, 'assd_L': 0.3736611492424147, 'assd_R': 0.366466406750962, 'assd_Avg': 0.3700637779966883, 'rve_L': 0.2502836447994251, 'rve_R': -0.005017339897768949, 'rve_Avg': 0.12263315245082808}\n",
      "\n",
      "=== Resultado final promedio de 5 folds ===\n",
      "DICE_L  : 0.6275\n",
      "DICE_R  : 0.6426\n",
      "DICE_Avg: 0.6350\n",
      "\n",
      "HD_L  : 3.4744\n",
      "HD_R  : 4.6179\n",
      "HD_Avg: 4.0462\n",
      "\n",
      "HD95_L  : 1.8205\n",
      "HD95_R  : 1.4624\n",
      "HD95_Avg: 1.6414\n",
      "\n",
      "ASSD_L  : 0.5200\n",
      "ASSD_R  : 0.4655\n",
      "ASSD_Avg: 0.4928\n",
      "\n",
      "RVE_L  : 0.1487\n",
      "RVE_R  : 0.1233\n",
      "RVE_Avg: 0.1360\n",
      "\n",
      "Métricas finales: {'dice_L': 0.6274546086852205, 'dice_R': 0.6425790001503436, 'dice_Avg': 0.6350168044177822, 'hd_L': 3.4744159888872397, 'hd_R': 4.617949811290859, 'hd_Avg': 4.04618290008905, 'hd95_L': 1.8204955944097485, 'hd95_R': 1.4624017843364812, 'hd95_Avg': 1.641448689373115, 'assd_L': 0.5199837709926641, 'assd_R': 0.46553273643415166, 'assd_Avg': 0.49275825371340787, 'rve_L': 0.1486832957873208, 'rve_R': 0.12327285678635358, 'rve_Avg': 0.1359780762868372}\n"
     ]
    }
   ],
   "source": [
    "\n",
    "# Entrenamiento y evaluación con UNet\n",
    "final_metrics = train_and_evaluate(\n",
    "    df=df,\n",
    "    num_folds=5,\n",
    "    num_epochs=50,         # ajusta según tus recursos\n",
    "    model_name=\"unest\",      # o \"unetr\" si quieres transformer\n",
    "    batch_size=1,           # 1 para sliding_window, puedes aumentar si tu GPU lo permite\n",
    "    lr=1e-4,\n",
    "    weight_decay=1e-5,\n",
    "    root_dir=\"./fold_models\"\n",
    ")\n",
    "print(\"Métricas finales:\", final_metrics)"
   ]
  },
  {
   "cell_type": "code",
   "execution_count": 23,
   "id": "b9122494",
   "metadata": {},
   "outputs": [
    {
     "name": "stdout",
     "output_type": "stream",
     "text": [
      "Métricas finales: {'dice_L': 0.6274546086852205, 'dice_R': 0.6425790001503436, 'dice_Avg': 0.6350168044177822, 'hd_L': 3.4744159888872397, 'hd_R': 4.617949811290859, 'hd_Avg': 4.04618290008905, 'hd95_L': 1.8204955944097485, 'hd95_R': 1.4624017843364812, 'hd95_Avg': 1.641448689373115, 'assd_L': 0.5199837709926641, 'assd_R': 0.46553273643415166, 'assd_Avg': 0.49275825371340787, 'rve_L': 0.1486832957873208, 'rve_R': 0.12327285678635358, 'rve_Avg': 0.1359780762868372}\n"
     ]
    }
   ],
   "source": [
    "print(\"Métricas finales:\", final_metrics)"
   ]
  },
  {
   "cell_type": "code",
   "execution_count": 22,
   "id": "0b7cf374",
   "metadata": {},
   "outputs": [
    {
     "name": "stdout",
     "output_type": "stream",
     "text": [
      "hello\n"
     ]
    }
   ],
   "source": [
    "print(\"hello\")"
   ]
  },
  {
   "cell_type": "code",
   "execution_count": null,
   "id": "b9f8b751",
   "metadata": {},
   "outputs": [],
   "source": []
  },
  {
   "cell_type": "code",
   "execution_count": null,
   "id": "789eb317",
   "metadata": {},
   "outputs": [],
   "source": []
  }
 ],
 "metadata": {
  "kernelspec": {
   "display_name": "env_cris",
   "language": "python",
   "name": "python3"
  },
  "language_info": {
   "codemirror_mode": {
    "name": "ipython",
    "version": 3
   },
   "file_extension": ".py",
   "mimetype": "text/x-python",
   "name": "python",
   "nbconvert_exporter": "python",
   "pygments_lexer": "ipython3",
   "version": "3.9.21"
  }
 },
 "nbformat": 4,
 "nbformat_minor": 5
}
