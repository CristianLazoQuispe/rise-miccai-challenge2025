{
 "cells": [
  {
   "cell_type": "code",
   "execution_count": 17,
   "id": "2c40e001",
   "metadata": {},
   "outputs": [
    {
     "name": "stdout",
     "output_type": "stream",
     "text": [
      "IMG shape: (195, 233, 159) PRED shape: (195, 233, 159)\n",
      "IMG zooms: (1.0, 1.0, 1.0) PRED zooms: (1.0, 1.0, 1.0)\n",
      "Affine equal: True\n"
     ]
    },
    {
     "name": "stdout",
     "output_type": "stream",
     "text": [
      "dtype: float64 unique: [0. 1. 2.]\n"
     ]
    }
   ],
   "source": [
    "import nibabel as nib, numpy as np\n",
    "\n",
    "img_path = \"/data/cristian/projects/med_data/rise-miccai/task-2-val/552/158977552/LISA_VALIDATION_0001_ciso.nii.gz\"\n",
    "pred_path = \"/data/cristian/projects/med_data/rise-miccai/task-2/3d_models/predictions/model_unest_02/LISAHF0001segprediction.nii.gz\"\n",
    "\n",
    "img = nib.load(img_path)\n",
    "pred = nib.load(pred_path)\n",
    "\n",
    "print(\"IMG shape:\", img.shape, \"PRED shape:\", pred.shape)\n",
    "print(\"IMG zooms:\", img.header.get_zooms()[:3], \"PRED zooms:\", pred.header.get_zooms()[:3])\n",
    "print(\"Affine equal:\", np.allclose(img.affine, pred.affine))\n",
    "arr = pred.get_fdata()\n",
    "print(\"dtype:\", arr.dtype, \"unique:\", np.unique(arr))"
   ]
  },
  {
   "cell_type": "code",
   "execution_count": 19,
   "id": "a56ee4f2",
   "metadata": {},
   "outputs": [
    {
     "name": "stdout",
     "output_type": "stream",
     "text": [
      "IMG shape: (195, 233, 159)\n",
      "IMG shape: (197, 233, 189)\n",
      "IMG shape: (195, 233, 159)\n",
      "IMG shape: (195, 233, 159)\n",
      "IMG shape: (195, 233, 159)\n",
      "IMG shape: (195, 233, 159)\n",
      "IMG shape: (195, 233, 159)\n",
      "IMG shape: (197, 233, 189)\n",
      "IMG shape: (195, 233, 159)\n",
      "IMG shape: (197, 233, 189)\n",
      "IMG shape: (197, 233, 189)\n",
      "IMG shape: (197, 233, 189)\n"
     ]
    }
   ],
   "source": [
    "import glob \n",
    "\n",
    "test_files = glob.glob(\"/data/cristian/projects/med_data/rise-miccai/task-2-val/**/*.nii.gz\",recursive=True)\n",
    "for img_path in test_files:\n",
    "    img = nib.load(img_path)\n",
    "    print(\"IMG shape:\", img.shape)\n"
   ]
  },
  {
   "cell_type": "code",
   "execution_count": null,
   "id": "5fe83e64",
   "metadata": {},
   "outputs": [],
   "source": []
  }
 ],
 "metadata": {
  "kernelspec": {
   "display_name": "env_cris",
   "language": "python",
   "name": "python3"
  },
  "language_info": {
   "codemirror_mode": {
    "name": "ipython",
    "version": 3
   },
   "file_extension": ".py",
   "mimetype": "text/x-python",
   "name": "python",
   "nbconvert_exporter": "python",
   "pygments_lexer": "ipython3",
   "version": "3.9.21"
  }
 },
 "nbformat": 4,
 "nbformat_minor": 5
}
