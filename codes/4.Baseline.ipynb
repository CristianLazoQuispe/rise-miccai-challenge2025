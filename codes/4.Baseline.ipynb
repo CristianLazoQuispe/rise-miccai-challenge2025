{
 "cells": [
  {
   "cell_type": "code",
   "execution_count": 33,
   "id": "153b0ffb",
   "metadata": {},
   "outputs": [
    {
     "name": "stdout",
     "output_type": "stream",
     "text": [
      "✅ Shapes:\n",
      "df_train         : (79, 3)\n",
      "df_test          : (12, 3)\n",
      "df_target2a (hipp): (79, 4)\n",
      "df_target2b (baga): (79, 4)\n",
      "df_extra_data    : (237, 4)\n"
     ]
    }
   ],
   "source": [
    "import pandas as pd\n",
    "import os\n",
    "#limit of pandas display\n",
    "pd.set_option('display.max_rows', 500)\n",
    "pd.set_option('display.max_columns', 500)\n",
    "pd.set_option('display.width', 1000)\n",
    "pd.set_option('display.max_colwidth', None)\n",
    "\n",
    "\n",
    "\n",
    "results_dir = '../results/preprocessed_data/task2/'\n",
    "\n",
    "df_train =  pd.read_csv(os.path.join(results_dir, 'df_train.csv'))[[\"filepath\",\"filename\",\"ID\"]]\n",
    "df_test = pd.read_csv(os.path.join(results_dir, 'df_test.csv'))[[\"filepath\",\"filename\",\"ID\"]]\n",
    "df_train_target2a = pd.read_csv(os.path.join(results_dir, 'df_train_target2a.csv'))[[\"filepath\",\"filename\",\"ID\",\"source\"]]\n",
    "df_train_target2b = pd.read_csv(os.path.join(results_dir, 'df_train_target2b.csv'))[[\"filepath\",\"filename\",\"ID\",\"source\"]]\n",
    "df_extra_data = pd.read_csv(os.path.join(results_dir, 'df_extra_data.csv'))[[\"filepath\",\"filename\",\"ID\",\"source\"]]\n",
    "\n",
    "# ✅ Mostrar formas\n",
    "print(\"✅ Shapes:\")\n",
    "print(\"df_train         :\", df_train.shape)\n",
    "print(\"df_test          :\", df_test.shape)\n",
    "print(\"df_target2a (hipp):\", df_train_target2a.shape)\n",
    "print(\"df_target2b (baga):\", df_train_target2b.shape)\n",
    "print(\"df_extra_data    :\", df_extra_data.shape)\n"
   ]
  },
  {
   "cell_type": "code",
   "execution_count": 34,
   "id": "fcf1c8be",
   "metadata": {},
   "outputs": [
    {
     "data": {
      "text/html": [
       "<div>\n",
       "<style scoped>\n",
       "    .dataframe tbody tr th:only-of-type {\n",
       "        vertical-align: middle;\n",
       "    }\n",
       "\n",
       "    .dataframe tbody tr th {\n",
       "        vertical-align: top;\n",
       "    }\n",
       "\n",
       "    .dataframe thead th {\n",
       "        text-align: right;\n",
       "    }\n",
       "</style>\n",
       "<table border=\"1\" class=\"dataframe\">\n",
       "  <thead>\n",
       "    <tr style=\"text-align: right;\">\n",
       "      <th></th>\n",
       "      <th>filepath</th>\n",
       "      <th>filename</th>\n",
       "      <th>ID</th>\n",
       "      <th>source</th>\n",
       "    </tr>\n",
       "  </thead>\n",
       "  <tbody>\n",
       "    <tr>\n",
       "      <th>0</th>\n",
       "      <td>/data/cristian/projects/med_data/rise-miccai/task-2/954/155887954/LISA_1016_LF_hipp.nii.gz</td>\n",
       "      <td>LISA_1016_LF_hipp.nii.gz</td>\n",
       "      <td>LISA_1016</td>\n",
       "      <td>LF_hipp</td>\n",
       "    </tr>\n",
       "    <tr>\n",
       "      <th>1</th>\n",
       "      <td>/data/cristian/projects/med_data/rise-miccai/task-2/931/155887931/LISA_0055_LF_hipp.nii.gz</td>\n",
       "      <td>LISA_0055_LF_hipp.nii.gz</td>\n",
       "      <td>LISA_0055</td>\n",
       "      <td>LF_hipp</td>\n",
       "    </tr>\n",
       "  </tbody>\n",
       "</table>\n",
       "</div>"
      ],
      "text/plain": [
       "                                                                                     filepath                  filename         ID   source\n",
       "0  /data/cristian/projects/med_data/rise-miccai/task-2/954/155887954/LISA_1016_LF_hipp.nii.gz  LISA_1016_LF_hipp.nii.gz  LISA_1016  LF_hipp\n",
       "1  /data/cristian/projects/med_data/rise-miccai/task-2/931/155887931/LISA_0055_LF_hipp.nii.gz  LISA_0055_LF_hipp.nii.gz  LISA_0055  LF_hipp"
      ]
     },
     "execution_count": 34,
     "metadata": {},
     "output_type": "execute_result"
    }
   ],
   "source": [
    "df_extra_data.head(2)"
   ]
  },
  {
   "cell_type": "code",
   "execution_count": 35,
   "id": "f91415be",
   "metadata": {},
   "outputs": [
    {
     "data": {
      "text/plain": [
       "source\n",
       "LF_hipp      79\n",
       "LF_baga      79\n",
       "ventricle    79\n",
       "Name: count, dtype: int64"
      ]
     },
     "execution_count": 35,
     "metadata": {},
     "output_type": "execute_result"
    }
   ],
   "source": [
    "df_extra_data[\"source\"].value_counts()"
   ]
  },
  {
   "cell_type": "code",
   "execution_count": 36,
   "id": "fb71c386",
   "metadata": {},
   "outputs": [
    {
     "data": {
      "text/html": [
       "<div>\n",
       "<style scoped>\n",
       "    .dataframe tbody tr th:only-of-type {\n",
       "        vertical-align: middle;\n",
       "    }\n",
       "\n",
       "    .dataframe tbody tr th {\n",
       "        vertical-align: top;\n",
       "    }\n",
       "\n",
       "    .dataframe thead th {\n",
       "        text-align: right;\n",
       "    }\n",
       "</style>\n",
       "<table border=\"1\" class=\"dataframe\">\n",
       "  <thead>\n",
       "    <tr style=\"text-align: right;\">\n",
       "      <th></th>\n",
       "      <th>filepath</th>\n",
       "      <th>filename</th>\n",
       "      <th>ID</th>\n",
       "      <th>source</th>\n",
       "    </tr>\n",
       "  </thead>\n",
       "  <tbody>\n",
       "    <tr>\n",
       "      <th>0</th>\n",
       "      <td>/data/cristian/projects/med_data/rise-miccai/task-2/954/155887954/LISA_1016_LF_hipp.nii.gz</td>\n",
       "      <td>LISA_1016_LF_hipp.nii.gz</td>\n",
       "      <td>LISA_1016</td>\n",
       "      <td>LF_hipp</td>\n",
       "    </tr>\n",
       "    <tr>\n",
       "      <th>1</th>\n",
       "      <td>/data/cristian/projects/med_data/rise-miccai/task-2/931/155887931/LISA_0055_LF_hipp.nii.gz</td>\n",
       "      <td>LISA_0055_LF_hipp.nii.gz</td>\n",
       "      <td>LISA_0055</td>\n",
       "      <td>LF_hipp</td>\n",
       "    </tr>\n",
       "  </tbody>\n",
       "</table>\n",
       "</div>"
      ],
      "text/plain": [
       "                                                                                     filepath                  filename         ID   source\n",
       "0  /data/cristian/projects/med_data/rise-miccai/task-2/954/155887954/LISA_1016_LF_hipp.nii.gz  LISA_1016_LF_hipp.nii.gz  LISA_1016  LF_hipp\n",
       "1  /data/cristian/projects/med_data/rise-miccai/task-2/931/155887931/LISA_0055_LF_hipp.nii.gz  LISA_0055_LF_hipp.nii.gz  LISA_0055  LF_hipp"
      ]
     },
     "execution_count": 36,
     "metadata": {},
     "output_type": "execute_result"
    }
   ],
   "source": [
    "df_extra_data.head(2)"
   ]
  },
  {
   "cell_type": "code",
   "execution_count": 37,
   "id": "72628410",
   "metadata": {},
   "outputs": [
    {
     "data": {
      "text/html": [
       "<div>\n",
       "<style scoped>\n",
       "    .dataframe tbody tr th:only-of-type {\n",
       "        vertical-align: middle;\n",
       "    }\n",
       "\n",
       "    .dataframe tbody tr th {\n",
       "        vertical-align: top;\n",
       "    }\n",
       "\n",
       "    .dataframe thead th {\n",
       "        text-align: right;\n",
       "    }\n",
       "</style>\n",
       "<table border=\"1\" class=\"dataframe\">\n",
       "  <thead>\n",
       "    <tr style=\"text-align: right;\">\n",
       "      <th></th>\n",
       "      <th>filepath_label</th>\n",
       "      <th>filename_label</th>\n",
       "      <th>ID</th>\n",
       "      <th>source_label</th>\n",
       "    </tr>\n",
       "  </thead>\n",
       "  <tbody>\n",
       "    <tr>\n",
       "      <th>0</th>\n",
       "      <td>/data/cristian/projects/med_data/rise-miccai/task-2/960/155887960/LISA_0001_HF_hipp.nii.gz</td>\n",
       "      <td>LISA_0001_HF_hipp.nii.gz</td>\n",
       "      <td>LISA_0001</td>\n",
       "      <td>HF_hipp</td>\n",
       "    </tr>\n",
       "    <tr>\n",
       "      <th>1</th>\n",
       "      <td>/data/cristian/projects/med_data/rise-miccai/task-2/963/155887963/LISA_0005_HF_hipp.nii.gz</td>\n",
       "      <td>LISA_0005_HF_hipp.nii.gz</td>\n",
       "      <td>LISA_0005</td>\n",
       "      <td>HF_hipp</td>\n",
       "    </tr>\n",
       "    <tr>\n",
       "      <th>2</th>\n",
       "      <td>/data/cristian/projects/med_data/rise-miccai/task-2/962/155887962/LISA_0002_HF_hipp.nii.gz</td>\n",
       "      <td>LISA_0002_HF_hipp.nii.gz</td>\n",
       "      <td>LISA_0002</td>\n",
       "      <td>HF_hipp</td>\n",
       "    </tr>\n",
       "    <tr>\n",
       "      <th>3</th>\n",
       "      <td>/data/cristian/projects/med_data/rise-miccai/task-2/966/155887966/LISA_0010_HF_hipp.nii.gz</td>\n",
       "      <td>LISA_0010_HF_hipp.nii.gz</td>\n",
       "      <td>LISA_0010</td>\n",
       "      <td>HF_hipp</td>\n",
       "    </tr>\n",
       "    <tr>\n",
       "      <th>4</th>\n",
       "      <td>/data/cristian/projects/med_data/rise-miccai/task-2/961/155887961/LISA_0003_HF_hipp.nii.gz</td>\n",
       "      <td>LISA_0003_HF_hipp.nii.gz</td>\n",
       "      <td>LISA_0003</td>\n",
       "      <td>HF_hipp</td>\n",
       "    </tr>\n",
       "  </tbody>\n",
       "</table>\n",
       "</div>"
      ],
      "text/plain": [
       "                                                                               filepath_label            filename_label         ID source_label\n",
       "0  /data/cristian/projects/med_data/rise-miccai/task-2/960/155887960/LISA_0001_HF_hipp.nii.gz  LISA_0001_HF_hipp.nii.gz  LISA_0001      HF_hipp\n",
       "1  /data/cristian/projects/med_data/rise-miccai/task-2/963/155887963/LISA_0005_HF_hipp.nii.gz  LISA_0005_HF_hipp.nii.gz  LISA_0005      HF_hipp\n",
       "2  /data/cristian/projects/med_data/rise-miccai/task-2/962/155887962/LISA_0002_HF_hipp.nii.gz  LISA_0002_HF_hipp.nii.gz  LISA_0002      HF_hipp\n",
       "3  /data/cristian/projects/med_data/rise-miccai/task-2/966/155887966/LISA_0010_HF_hipp.nii.gz  LISA_0010_HF_hipp.nii.gz  LISA_0010      HF_hipp\n",
       "4  /data/cristian/projects/med_data/rise-miccai/task-2/961/155887961/LISA_0003_HF_hipp.nii.gz  LISA_0003_HF_hipp.nii.gz  LISA_0003      HF_hipp"
      ]
     },
     "execution_count": 37,
     "metadata": {},
     "output_type": "execute_result"
    }
   ],
   "source": [
    "df_extra_data.rename(columns={'filepath': 'filepath_label',\"filename\":\"filename_label\",\"source\":\"source_label\"}, inplace=True)\n",
    "df_train_target2b.rename(columns={'filepath': 'filepath_label',\"filename\":\"filename_label\",\"source\":\"source_label\"}, inplace=True)\n",
    "df_train_target2a.rename(columns={'filepath': 'filepath_label',\"filename\":\"filename_label\",\"source\":\"source_label\"}, inplace=True)\n",
    "df_train_target2a.head()"
   ]
  },
  {
   "cell_type": "code",
   "execution_count": 38,
   "id": "6769e1a7",
   "metadata": {},
   "outputs": [
    {
     "name": "stdout",
     "output_type": "stream",
     "text": [
      "✅ Stage 1 Pretraining DataFrame: (79, 5)\n",
      "✅ Stage 2 Pretraining DataFrame: (79, 5)\n",
      "✅ Stage final Pretraining DataFrame: (158, 5)\n"
     ]
    },
    {
     "data": {
      "text/html": [
       "<div>\n",
       "<style scoped>\n",
       "    .dataframe tbody tr th:only-of-type {\n",
       "        vertical-align: middle;\n",
       "    }\n",
       "\n",
       "    .dataframe tbody tr th {\n",
       "        vertical-align: top;\n",
       "    }\n",
       "\n",
       "    .dataframe thead th {\n",
       "        text-align: right;\n",
       "    }\n",
       "</style>\n",
       "<table border=\"1\" class=\"dataframe\">\n",
       "  <thead>\n",
       "    <tr style=\"text-align: right;\">\n",
       "      <th></th>\n",
       "      <th>filepath_label</th>\n",
       "      <th>filename_label</th>\n",
       "      <th>ID</th>\n",
       "      <th>source_label</th>\n",
       "      <th>filepath</th>\n",
       "    </tr>\n",
       "  </thead>\n",
       "  <tbody>\n",
       "    <tr>\n",
       "      <th>0</th>\n",
       "      <td>/data/cristian/projects/med_data/rise-miccai/task-2/960/155887960/LISA_0001_HF_hipp.nii.gz</td>\n",
       "      <td>LISA_0001_HF_hipp.nii.gz</td>\n",
       "      <td>LISA_0001</td>\n",
       "      <td>HF_hipp</td>\n",
       "      <td>/data/cristian/projects/med_data/rise-miccai/task-2/735/155885735/LISA_0001_ciso.nii.gz</td>\n",
       "    </tr>\n",
       "    <tr>\n",
       "      <th>1</th>\n",
       "      <td>/data/cristian/projects/med_data/rise-miccai/task-2/963/155887963/LISA_0005_HF_hipp.nii.gz</td>\n",
       "      <td>LISA_0005_HF_hipp.nii.gz</td>\n",
       "      <td>LISA_0005</td>\n",
       "      <td>HF_hipp</td>\n",
       "      <td>/data/cristian/projects/med_data/rise-miccai/task-2/704/155885704/LISA_0005_ciso.nii.gz</td>\n",
       "    </tr>\n",
       "    <tr>\n",
       "      <th>2</th>\n",
       "      <td>/data/cristian/projects/med_data/rise-miccai/task-2/962/155887962/LISA_0002_HF_hipp.nii.gz</td>\n",
       "      <td>LISA_0002_HF_hipp.nii.gz</td>\n",
       "      <td>LISA_0002</td>\n",
       "      <td>HF_hipp</td>\n",
       "      <td>/data/cristian/projects/med_data/rise-miccai/task-2/709/155885709/LISA_0002_ciso.nii.gz</td>\n",
       "    </tr>\n",
       "    <tr>\n",
       "      <th>3</th>\n",
       "      <td>/data/cristian/projects/med_data/rise-miccai/task-2/966/155887966/LISA_0010_HF_hipp.nii.gz</td>\n",
       "      <td>LISA_0010_HF_hipp.nii.gz</td>\n",
       "      <td>LISA_0010</td>\n",
       "      <td>HF_hipp</td>\n",
       "      <td>/data/cristian/projects/med_data/rise-miccai/task-2/738/155885738/LISA_0010_ciso.nii.gz</td>\n",
       "    </tr>\n",
       "    <tr>\n",
       "      <th>4</th>\n",
       "      <td>/data/cristian/projects/med_data/rise-miccai/task-2/961/155887961/LISA_0003_HF_hipp.nii.gz</td>\n",
       "      <td>LISA_0003_HF_hipp.nii.gz</td>\n",
       "      <td>LISA_0003</td>\n",
       "      <td>HF_hipp</td>\n",
       "      <td>/data/cristian/projects/med_data/rise-miccai/task-2/734/155885734/LISA_0003_ciso.nii.gz</td>\n",
       "    </tr>\n",
       "  </tbody>\n",
       "</table>\n",
       "</div>"
      ],
      "text/plain": [
       "                                                                               filepath_label            filename_label         ID source_label                                                                                 filepath\n",
       "0  /data/cristian/projects/med_data/rise-miccai/task-2/960/155887960/LISA_0001_HF_hipp.nii.gz  LISA_0001_HF_hipp.nii.gz  LISA_0001      HF_hipp  /data/cristian/projects/med_data/rise-miccai/task-2/735/155885735/LISA_0001_ciso.nii.gz\n",
       "1  /data/cristian/projects/med_data/rise-miccai/task-2/963/155887963/LISA_0005_HF_hipp.nii.gz  LISA_0005_HF_hipp.nii.gz  LISA_0005      HF_hipp  /data/cristian/projects/med_data/rise-miccai/task-2/704/155885704/LISA_0005_ciso.nii.gz\n",
       "2  /data/cristian/projects/med_data/rise-miccai/task-2/962/155887962/LISA_0002_HF_hipp.nii.gz  LISA_0002_HF_hipp.nii.gz  LISA_0002      HF_hipp  /data/cristian/projects/med_data/rise-miccai/task-2/709/155885709/LISA_0002_ciso.nii.gz\n",
       "3  /data/cristian/projects/med_data/rise-miccai/task-2/966/155887966/LISA_0010_HF_hipp.nii.gz  LISA_0010_HF_hipp.nii.gz  LISA_0010      HF_hipp  /data/cristian/projects/med_data/rise-miccai/task-2/738/155885738/LISA_0010_ciso.nii.gz\n",
       "4  /data/cristian/projects/med_data/rise-miccai/task-2/961/155887961/LISA_0003_HF_hipp.nii.gz  LISA_0003_HF_hipp.nii.gz  LISA_0003      HF_hipp  /data/cristian/projects/med_data/rise-miccai/task-2/734/155885734/LISA_0003_ciso.nii.gz"
      ]
     },
     "execution_count": 38,
     "metadata": {},
     "output_type": "execute_result"
    }
   ],
   "source": [
    "# ➕ HF HIPPOCAMPUS\n",
    "df1 = df_train_target2a.merge(df_train[[\"ID\", \"filepath\"]], on=\"ID\")\n",
    "subset = df_extra_data[df_extra_data[\"source_label\"] ==\"LF_hipp\"].reset_index(drop=True)\n",
    "df2 = subset.merge(df_train[[\"ID\", \"filepath\"]], on=\"ID\")\n",
    "\n",
    "print(\"✅ Stage 1 Pretraining DataFrame:\", df1.shape)\n",
    "print(\"✅ Stage 2 Pretraining DataFrame:\", df2.shape)\n",
    "df_train_hipp = pd.concat([df1, df2], ignore_index=True)\n",
    "print(\"✅ Stage final Pretraining DataFrame:\", df_train_hipp.shape)\n",
    "df_train_hipp.head()"
   ]
  },
  {
   "cell_type": "code",
   "execution_count": 39,
   "id": "6e3f063b",
   "metadata": {},
   "outputs": [
    {
     "data": {
      "text/html": [
       "<div>\n",
       "<style scoped>\n",
       "    .dataframe tbody tr th:only-of-type {\n",
       "        vertical-align: middle;\n",
       "    }\n",
       "\n",
       "    .dataframe tbody tr th {\n",
       "        vertical-align: top;\n",
       "    }\n",
       "\n",
       "    .dataframe thead th {\n",
       "        text-align: right;\n",
       "    }\n",
       "</style>\n",
       "<table border=\"1\" class=\"dataframe\">\n",
       "  <thead>\n",
       "    <tr style=\"text-align: right;\">\n",
       "      <th></th>\n",
       "      <th>filepath_label</th>\n",
       "      <th>filename_label</th>\n",
       "      <th>ID</th>\n",
       "      <th>source_label</th>\n",
       "      <th>filepath</th>\n",
       "    </tr>\n",
       "  </thead>\n",
       "  <tbody>\n",
       "    <tr>\n",
       "      <th>0</th>\n",
       "      <td>/data/cristian/projects/med_data/rise-miccai/task-2/960/155887960/LISA_0001_HF_hipp.nii.gz</td>\n",
       "      <td>LISA_0001_HF_hipp.nii.gz</td>\n",
       "      <td>LISA_0001</td>\n",
       "      <td>HF_hipp</td>\n",
       "      <td>/data/cristian/projects/med_data/rise-miccai/task-2/735/155885735/LISA_0001_ciso.nii.gz</td>\n",
       "    </tr>\n",
       "    <tr>\n",
       "      <th>83</th>\n",
       "      <td>/data/cristian/projects/med_data/rise-miccai/task-2/879/155887879/LISA_0001_LF_hipp.nii.gz</td>\n",
       "      <td>LISA_0001_LF_hipp.nii.gz</td>\n",
       "      <td>LISA_0001</td>\n",
       "      <td>LF_hipp</td>\n",
       "      <td>/data/cristian/projects/med_data/rise-miccai/task-2/735/155885735/LISA_0001_ciso.nii.gz</td>\n",
       "    </tr>\n",
       "  </tbody>\n",
       "</table>\n",
       "</div>"
      ],
      "text/plain": [
       "                                                                                filepath_label            filename_label         ID source_label                                                                                 filepath\n",
       "0   /data/cristian/projects/med_data/rise-miccai/task-2/960/155887960/LISA_0001_HF_hipp.nii.gz  LISA_0001_HF_hipp.nii.gz  LISA_0001      HF_hipp  /data/cristian/projects/med_data/rise-miccai/task-2/735/155885735/LISA_0001_ciso.nii.gz\n",
       "83  /data/cristian/projects/med_data/rise-miccai/task-2/879/155887879/LISA_0001_LF_hipp.nii.gz  LISA_0001_LF_hipp.nii.gz  LISA_0001      LF_hipp  /data/cristian/projects/med_data/rise-miccai/task-2/735/155885735/LISA_0001_ciso.nii.gz"
      ]
     },
     "execution_count": 39,
     "metadata": {},
     "output_type": "execute_result"
    }
   ],
   "source": [
    "df_train_hipp[df_train_hipp[\"ID\"]==\"LISA_0001\"].head()\n"
   ]
  },
  {
   "cell_type": "code",
   "execution_count": 40,
   "id": "ec04175c",
   "metadata": {},
   "outputs": [
    {
     "data": {
      "text/html": [
       "<div>\n",
       "<style scoped>\n",
       "    .dataframe tbody tr th:only-of-type {\n",
       "        vertical-align: middle;\n",
       "    }\n",
       "\n",
       "    .dataframe tbody tr th {\n",
       "        vertical-align: top;\n",
       "    }\n",
       "\n",
       "    .dataframe thead th {\n",
       "        text-align: right;\n",
       "    }\n",
       "</style>\n",
       "<table border=\"1\" class=\"dataframe\">\n",
       "  <thead>\n",
       "    <tr style=\"text-align: right;\">\n",
       "      <th></th>\n",
       "      <th>filepath</th>\n",
       "      <th>filename</th>\n",
       "      <th>ID</th>\n",
       "    </tr>\n",
       "  </thead>\n",
       "  <tbody>\n",
       "    <tr>\n",
       "      <th>0</th>\n",
       "      <td>/data/cristian/projects/med_data/rise-miccai/task-2-val/552/158977552/LISA_VALIDATION_0001_ciso.nii.gz</td>\n",
       "      <td>LISA_VALIDATION_0001_ciso.nii.gz</td>\n",
       "      <td>LISA_VALIDATION_0001</td>\n",
       "    </tr>\n",
       "    <tr>\n",
       "      <th>1</th>\n",
       "      <td>/data/cristian/projects/med_data/rise-miccai/task-2-val/538/158977538/LISA_VALIDATION_0004_ciso.nii.gz</td>\n",
       "      <td>LISA_VALIDATION_0004_ciso.nii.gz</td>\n",
       "      <td>LISA_VALIDATION_0004</td>\n",
       "    </tr>\n",
       "  </tbody>\n",
       "</table>\n",
       "</div>"
      ],
      "text/plain": [
       "                                                                                                 filepath                          filename                    ID\n",
       "0  /data/cristian/projects/med_data/rise-miccai/task-2-val/552/158977552/LISA_VALIDATION_0001_ciso.nii.gz  LISA_VALIDATION_0001_ciso.nii.gz  LISA_VALIDATION_0001\n",
       "1  /data/cristian/projects/med_data/rise-miccai/task-2-val/538/158977538/LISA_VALIDATION_0004_ciso.nii.gz  LISA_VALIDATION_0004_ciso.nii.gz  LISA_VALIDATION_0004"
      ]
     },
     "execution_count": 40,
     "metadata": {},
     "output_type": "execute_result"
    }
   ],
   "source": [
    "df_test.head(2)"
   ]
  },
  {
   "cell_type": "code",
   "execution_count": 44,
   "id": "b6545cdc",
   "metadata": {},
   "outputs": [],
   "source": [
    "df_train_hipp.to_csv(os.path.join(results_dir, 'df_train_hipp.csv'), index=False)"
   ]
  },
  {
   "cell_type": "code",
   "execution_count": 45,
   "metadata": {},
   "outputs": [],
   "source": [
    "df_test.to_csv(os.path.join(results_dir, 'df_test_hipp.csv'), index=False)"
   ]
  },
  {
   "cell_type": "code",
   "execution_count": null,
   "id": "d73f55d1",
   "metadata": {},
   "outputs": [],
   "source": []
  },
  {
   "cell_type": "code",
   "execution_count": null,
   "id": "dd47f65a",
   "metadata": {},
   "outputs": [],
   "source": []
  },
  {
   "cell_type": "code",
   "execution_count": null,
   "id": "31c7abe2",
   "metadata": {},
   "outputs": [],
   "source": []
  },
  {
   "cell_type": "code",
   "execution_count": 47,
   "id": "cfb179b3",
   "metadata": {},
   "outputs": [
    {
     "name": "stdout",
     "output_type": "stream",
     "text": [
      "model_path: /data/cristian/projects/med_data/rise-miccai/pretrained_models/wholeBrainSeg_Large_UNEST_segmentation/models/model.pt\n"
     ]
    },
    {
     "data": {
      "text/plain": [
       "<All keys matched successfully>"
      ]
     },
     "execution_count": 47,
     "metadata": {},
     "output_type": "execute_result"
    }
   ],
   "source": [
    "import torch\n",
    "import sys\n",
    "import os\n",
    "\n",
    "sys.path.append(\"..\")\n",
    "\n",
    "\n",
    "from src.models.unets_scripts.networks.unest_base_patch_4 import UNesT\n",
    "\n",
    "from huggingface_hub import hf_hub_download\n",
    "\n",
    "# 📥 Descargar modelo UNETR preentrenado\n",
    "model_path = hf_hub_download(\n",
    "    repo_id=\"MONAI/wholeBrainSeg_Large_UNEST_segmentation\",\n",
    "    filename=\"models/model.pt\",\n",
    "     local_dir=\"/data/cristian/projects/med_data/rise-miccai/pretrained_models/wholeBrainSeg_Large_UNEST_segmentation/\",\n",
    "   local_dir_use_symlinks=False\n",
    ")\n",
    "print(\"model_path:\",model_path)\n",
    "\n",
    "# ⚙️ Inicializar UNETR con arquitectura correcta\n",
    "device = torch.device(\"cuda:0\" if torch.cuda.is_available() else \"cpu\")\n",
    "\n",
    "model = UNesT(\n",
    "    in_channels=1,\n",
    "    out_channels=133,\n",
    "    img_size=(96, 96, 96),\n",
    "    num_heads=(4, 8, 16),       # 👈 coinciden\n",
    "    depths=(2, 2, 8),           # 👈 coinciden\n",
    "    embed_dim=(128, 256, 512),  # 👈 coinciden\n",
    "    patch_size=4 ,\n",
    ").to(device)\n",
    "# ✅ Cargar los pesos directamente como state_dict\n",
    "state_dict = torch.load(model_path, map_location=device)\n",
    "model.load_state_dict(state_dict[\"model\"])"
   ]
  },
  {
   "cell_type": "code",
   "execution_count": 42,
   "id": "7cc0686d",
   "metadata": {},
   "outputs": [
    {
     "name": "stdout",
     "output_type": "stream",
     "text": [
      "✅ Loaded UNesT model from 'wholeBrainSeg_Large_UNEST_segmentation' with 29 output classes\n"
     ]
    },
    {
     "data": {
      "image/png": "[encoded data removed]",
      "text/plain": [
       "<Figure size 2100x300 with 7 Axes>"
      ]
     },
     "metadata": {},
     "output_type": "display_data"
    },
    {
     "name": "stderr",
     "output_type": "stream",
     "text": [
      "/tmp/ipykernel_1829199/2480504480.py:36: MatplotlibDeprecationWarning: The get_cmap function was deprecated in Matplotlib 3.7 and will be removed two minor releases later. Use ``matplotlib.colormaps[name]`` or ``matplotlib.colormaps.get_cmap(obj)`` instead.\n",
      "  base_cmap = plt.cm.get_cmap(\"gist_ncar\", max_classes)\n"
     ]
    },
    {
     "data": {
      "image/png": "[encoded data removed]",
      "text/plain": [
       "<Figure size 800x800 with 1 Axes>"
      ]
     },
     "metadata": {},
     "output_type": "display_data"
    }
   ],
   "source": [
    "print(\"✅ Loaded UNesT model from 'wholeBrainSeg_Large_UNEST_segmentation' with 29 output classes\")\n",
    "\n",
    "import matplotlib.pyplot as plt\n",
    "import numpy as np\n",
    "import torch\n",
    "from matplotlib.colors import ListedColormap\n",
    "import torch\n",
    "import matplotlib.pyplot as plt\n",
    "from huggingface_hub import hf_hub_download\n",
    "from monai.inferers import sliding_window_inference\n",
    "from monai.transforms import (\n",
    "    Compose, LoadImaged, EnsureChannelFirstd, Spacingd, Orientationd,\n",
    "    ScaleIntensityd, Resized, ToTensord\n",
    ")\n",
    "\n",
    "from monai.networks.nets import SwinUNETR\n",
    "import torch\n",
    "from huggingface_hub import hf_hub_download\n",
    "\n",
    "\n",
    "from monai.transforms import MapTransform\n",
    "import numpy as np\n",
    "\n",
    "\n",
    "def plot_all_classes_overlay_rgb(image_tensor, mask_tensor, title=\"Segmentation Overlay RGB\",min_classes=0, max_classes=133, save_path=None):\n",
    "    img_np = image_tensor.squeeze().cpu().numpy()\n",
    "    pred_np = torch.argmax(mask_tensor, dim=1).squeeze().cpu().numpy()\n",
    "    mid_slice = img_np.shape[0] // 2\n",
    "    image_slice = img_np[mid_slice]  # axial\n",
    "\n",
    "    # Normalize image and convert to RGB\n",
    "    image_norm = (image_slice - image_slice.min()) / (image_slice.ptp() + 1e-8)\n",
    "    image_rgb = np.stack([image_norm]*3, axis=-1)\n",
    "\n",
    "    # Generate a distinct color for each class (using tab20 + interpolation)\n",
    "    base_cmap = plt.cm.get_cmap(\"gist_ncar\", max_classes)\n",
    "    colors = base_cmap(np.arange(max_classes))\n",
    "    class_mask_rgb = np.zeros_like(image_rgb)\n",
    "\n",
    "    blended = image_rgb\n",
    "    # Paint each class mask in RGB\n",
    "    for i in range(min_classes,max_classes):\n",
    "        mask = (pred_np[mid_slice] == i)\n",
    "        if np.any(mask):\n",
    "            #class_mask_rgb[mask] = colors[i][:3]  # ignore alpha\n",
    "            blended[mask] = colors[i][:3]\n",
    "    # Alpha blend\n",
    "    alpha = 0.5\n",
    "    #blended = (1 - alpha) * image_rgb + alpha * class_mask_rgb\n",
    "\n",
    "    # Plot\n",
    "    plt.figure(figsize=(8, 8))\n",
    "    plt.imshow(blended)\n",
    "    plt.title(title)\n",
    "    plt.axis(\"off\")\n",
    "\n",
    "    if save_path:\n",
    "        plt.savefig(save_path, dpi=200, bbox_inches='tight')\n",
    "    else:\n",
    "        plt.show()\n",
    "import matplotlib.pyplot as plt\n",
    "import numpy as np\n",
    "import torch\n",
    "\n",
    "def plot_all_classes(image_tensor, mask_tensor, title=\"Full Segmentation\", min_classes=0,max_classes=133, save_path=None):\n",
    "    img_np = image_tensor.squeeze().cpu().numpy()\n",
    "    pred_np = torch.argmax(mask_tensor, dim=1).squeeze().cpu().numpy()\n",
    "\n",
    "    mid = [s // 2 for s in img_np.shape]  # Cortes en el centro\n",
    "\n",
    "    # Creamos un grid de subplots\n",
    "    cols = 7\n",
    "    rows = int(np.ceil((max_classes-min_classes) / cols))\n",
    "    fig, axs = plt.subplots(rows, cols, figsize=(cols * 3, rows * 3))\n",
    "    idx = 0\n",
    "    for i in range(min_classes,max_classes):\n",
    "        ax = axs.flat[idx]\n",
    "        idx+=1\n",
    "        class_mask = (pred_np == i).astype(np.uint8)\n",
    "\n",
    "        # Mostrar solo si hay al menos un píxel\n",
    "        if np.sum(class_mask) > 0:\n",
    "            ax.imshow(class_mask[mid[0], :, :], cmap='viridis')\n",
    "        else:\n",
    "            ax.imshow(np.zeros_like(class_mask[mid[0], :, :]), cmap='gray')\n",
    "\n",
    "        ax.set_title(f\"Class {i}\")\n",
    "        ax.axis(\"off\")\n",
    "\n",
    "    # Si sobran celdas en el grid, las ocultamos\n",
    "    for j in range(max_classes, len(axs.flat)):\n",
    "        axs.flat[j].axis(\"off\")\n",
    "\n",
    "    plt.suptitle(title)\n",
    "    plt.tight_layout()\n",
    "\n",
    "    if save_path:\n",
    "        plt.savefig(save_path)\n",
    "    else:\n",
    "        plt.show()\n",
    "\n",
    "\n",
    "# 📂 Segmentar imágenes\n",
    "image_paths = [\n",
    "    \"/data/cristian/projects/med_data/rise-miccai/task-2/735/155885735/LISA_0001_ciso.nii.gz\",\n",
    "]\n",
    "\n",
    "# 🔧 Transforms\n",
    "transforms = Compose([\n",
    "    LoadImaged(keys=[\"image\"]),\n",
    "    EnsureChannelFirstd(keys=[\"image\"]),\n",
    "    Spacingd(keys=[\"image\"], pixdim=(1.5, 1.5, 1.5), mode=\"bilinear\"),\n",
    "    Orientationd(keys=[\"image\"], axcodes=\"RAS\"),\n",
    "    ScaleIntensityd(keys=[\"image\"]),\n",
    "    #RemoveEmptySlicesd(keys=[\"image\"], threshold=0.1),  # 👈 AÑADIDO AQUÍ\n",
    "    Resized(keys=[\"image\"], spatial_size=(96, 96, 96)),\n",
    "    ToTensord(keys=[\"image\"])\n",
    "])\n",
    "\n",
    "for path in image_paths:\n",
    "    data = transforms({\"image\": path})\n",
    "    image = data[\"image\"].unsqueeze(0).to(device)\n",
    "    with torch.no_grad():\n",
    "        mask = sliding_window_inference(image, roi_size=(96, 96, 96), sw_batch_size=1, predictor=model)\n",
    "    plot_all_classes(image[0], mask,min_classes=11,max_classes=18, title=f\"All Classes: {path.split('/')[-1]}\")\n",
    "    #plot_all_classes_overlay(image[0], mask, title=\"Overlay per Class\")\n",
    "    plot_all_classes_overlay_rgb(image[0],mask,  min_classes=11,max_classes=18, title=\"Overlay RGB - 133 Classes\")\n",
    "\n"
   ]
  },
  {
   "cell_type": "code",
   "execution_count": null,
   "id": "8ffe4859",
   "metadata": {},
   "outputs": [],
   "source": []
  }
 ],
 "metadata": {
  "kernelspec": {
   "display_name": "env_cris",
   "language": "python",
   "name": "python3"
  },
  "language_info": {
   "codemirror_mode": {
    "name": "ipython",
    "version": 3
   },
   "file_extension": ".py",
   "mimetype": "text/x-python",
   "name": "python",
   "nbconvert_exporter": "python",
   "pygments_lexer": "ipython3",
   "version": "3.9.21"
  }
 },
 "nbformat": 4,
 "nbformat_minor": 5
}
